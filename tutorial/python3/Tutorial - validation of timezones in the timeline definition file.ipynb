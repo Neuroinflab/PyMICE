{
 "cells": [
  {
   "cell_type": "markdown",
   "metadata": {},
   "source": [
    "# Validation of timezones in the timeline definition file\n",
    "\n",
    "To validate, whether timezones declared in the timeline configuration\n",
    "file are correct, plot ambient illumination in cages on a background indicating the \"dark\"\n",
    "phases.\n",
    "\n",
    "## Environment set up\n",
    "At the beginning load into the memory the original data and the experiment timeline config file (see tutorials on basic and advanced topics for details).\n",
    "\n",
    "_`data`_ and _`timeline`_ are considered to be global variables."
   ]
  },
  {
   "cell_type": "code",
   "execution_count": null,
   "metadata": {
    "collapsed": false
   },
   "outputs": [],
   "source": [
    "import pymice as pm\n",
    "\n",
    "pm.getTutorialData(quiet=True)\n",
    "\n",
    "import glob\n",
    "dataFiles = glob.glob('C57_AB/*.zip')\n",
    "\n",
    "loaders = [pm.Loader(filename, getEnv=True) for filename in dataFiles]\n",
    "data = pm.Merger(*loaders, getEnv=True)\n",
    "\n",
    "timeline = pm.Timeline('C57_AB/timeline.ini')"
   ]
  },
  {
   "cell_type": "markdown",
   "metadata": {},
   "source": [
    "## Period of interest definition\n",
    "\n",
    "For convenience limit the validation to the first four days of experiment - declare a global list of names of proper phases."
   ]
  },
  {
   "cell_type": "code",
   "execution_count": null,
   "metadata": {
    "collapsed": true
   },
   "outputs": [],
   "source": [
    "PHASES = ['SA 1 dark', 'SA 1 light',\n",
    "          'SA 2 dark', 'SA 2 light',\n",
    "          'SA 3 dark', 'SA 3 light',\n",
    "          'SA 4 dark', 'SA 4 light',]"
   ]
  },
  {
   "cell_type": "markdown",
   "metadata": {},
   "source": [
    "## Results visualisation details\n",
    "\n",
    "** Stuff covered in this section might be important mainly for you if you want to improve your Python programminng skills. **\n",
    "\n",
    "Define a context manager class _`DecoratedAxes`_ providing you with a preprocessed _`matplotlib.axes.Axes`_ object and taking care for details like providing legend after the plotting is finished."
   ]
  },
  {
   "cell_type": "code",
   "execution_count": null,
   "metadata": {
    "collapsed": true
   },
   "outputs": [],
   "source": [
    "import matplotlib.pyplot as plt\n",
    "import matplotlib.ticker as mtick\n",
    "import pytz\n",
    "\n",
    "CET = pytz.timezone('CET')\n",
    "\n",
    "class DecoratedAxes(object):\n",
    "    def __enter__(self):\n",
    "        fig, ax = plt.subplots(figsize=(13, 8))\n",
    "\n",
    "        ax2 = ax.twiny()\n",
    "        \n",
    "        ax.set_ylim(-5, 255)\n",
    "        ax.set_xlim(getTimeBounds(PHASES))\n",
    "        ax2.set_xlim(getTimeBounds(PHASES))\n",
    "        \n",
    "        ax.set_ylabel('ambient luminance')\n",
    "        ax.set_xlabel('time')\n",
    "        ax2.set_xlabel('experiment timeline')\n",
    "\n",
    "        ax.xaxis.set_major_locator(mpd.HourLocator([1, 13], tz=CET))\n",
    "        ax.xaxis.set_major_formatter(mpd.DateFormatter('%d.%m %H:%M', tz=CET))\n",
    "\n",
    "        self.ax = ax\n",
    "        self.ax2 = ax2\n",
    "        self.fig = fig\n",
    "\n",
    "        return ax, ax2\n",
    "\n",
    "    def __exit__(self, type, value, traceback):\n",
    "        self.ax.legend(loc='lower right')\n",
    "        self.ax.autoscale_view()"
   ]
  },
  {
   "cell_type": "markdown",
   "metadata": {},
   "source": [
    "## Background plotting\n",
    "\n",
    "Define a function _`plotBackground()`_, plotting dark background for a timespan of phases which names end with \"dark\"."
   ]
  },
  {
   "cell_type": "code",
   "execution_count": null,
   "metadata": {
    "collapsed": true
   },
   "outputs": [],
   "source": [
    "def plotBackground(ax):\n",
    "    for phase in PHASES:\n",
    "        if phase.endswith('dark'):\n",
    "            start, end = getTimeBounds(phase)\n",
    "            ax.axvspan(start, end, color='#E0E0E0')"
   ]
  },
  {
   "cell_type": "markdown",
   "metadata": {},
   "source": [
    "To convert name(s) of phase(s) into pair of its/theirs boundaries in _`matplotlib.dates`_ reference space define an auxilary function _`getTimeBounds()`_.\n",
    "For transformation of _`datetime.datetime`_ objects into the space of the time axis, use _`matplotlib.dates.date2num()`_ function.\n",
    "\n",
    "Define also another auxilary function - _`getPhaseMidtime()`_ - determining the location of phase's midptime in the space of the time axis."
   ]
  },
  {
   "cell_type": "code",
   "execution_count": null,
   "metadata": {
    "collapsed": true
   },
   "outputs": [],
   "source": [
    "import matplotlib.dates as mpd\n",
    "\n",
    "def getTimeBounds(phases):\n",
    "    return mpd.date2num(timeline.getTimeBounds(phases))\n",
    "\n",
    "def getPhaseMidtime(phase):\n",
    "    return getTimeBounds(phase).mean()"
   ]
  },
  {
   "cell_type": "markdown",
   "metadata": {},
   "source": [
    "## Labelling axis with names of phases\n",
    "\n",
    "Use the _`timeline`_ object as an axis formatter to label midpoint of each phase with its name."
   ]
  },
  {
   "cell_type": "code",
   "execution_count": null,
   "metadata": {
    "collapsed": false
   },
   "outputs": [],
   "source": [
    "def addPhaseLabels(ax):\n",
    "    ax.xaxis.set_major_formatter(timeline)\n",
    "    ax.set_xticks(list(map(getPhaseMidtime, PHASES)))"
   ]
  },
  {
   "cell_type": "markdown",
   "metadata": {},
   "source": [
    "## Ploting ambient illumination\n",
    "\n",
    "To plot the illumination in separate cages you need to select samples with appropriate value of the _`.Cage`_ attribute, then you need to extract their _`.DateTime`_ and _`.Illumination`_ attributes."
   ]
  },
  {
   "cell_type": "code",
   "execution_count": null,
   "metadata": {
    "collapsed": true
   },
   "outputs": [],
   "source": [
    "def selectCageSamples(cage, samples):\n",
    "    return [s for s in samples if s.Cage == cage]\n",
    "\n",
    "def getTime(environment):\n",
    "    return mpd.date2num([e.DateTime for e in environment])\n",
    "\n",
    "def getIllumination(environment):\n",
    "    return [e.Illumination for e in environment]\n",
    "\n",
    "def plotLuminance(ax, environment, label):\n",
    "    ax.plot(getTime(environment), getIllumination(environment),\n",
    "            label=label, ls='None', marker='.')"
   ]
  },
  {
   "cell_type": "markdown",
   "metadata": {},
   "source": [
    "## Drawing the plot\n",
    "\n",
    "Combine all written code together and draw the plot.\n",
    "\n",
    "If the timezones are correct, the luminance's value should be synchronized with phases.\n",
    "\n",
    "%matplotlib magic command is for purpose of the ipython notebook only."
   ]
  },
  {
   "cell_type": "code",
   "execution_count": null,
   "metadata": {
    "collapsed": false
   },
   "outputs": [],
   "source": [
    "%matplotlib inline\n",
    "\n",
    "with DecoratedAxes() as (bottomAx, topAx):\n",
    "    plotBackground(bottomAx)\n",
    "    addPhaseLabels(topAx)\n",
    "\n",
    "    environment = data.getEnvironment()\n",
    "    for cage in [1, 2]:\n",
    "        plotLuminance(bottomAx, selectCageSamples(cage, environment),\n",
    "                      label='cage #{}'.format(cage))"
   ]
  },
  {
   "cell_type": "markdown",
   "metadata": {},
   "source": [
    "You might observe a great variance of luminance - we suspect it is an aliasing effect caused by low sampling rate\n",
    "(and low inertia of luminance sensor) combined with a fluorescent lamp used as a light source."
   ]
  }
 ],
 "metadata": {
  "kernelspec": {
   "display_name": "Python 3",
   "language": "python",
   "name": "python3"
  },
  "language_info": {
   "codemirror_mode": {
    "name": "ipython",
    "version": 3
   },
   "file_extension": ".py",
   "mimetype": "text/x-python",
   "name": "python",
   "nbconvert_exporter": "python",
   "pygments_lexer": "ipython3",
   "version": "3.5.1"
  }
 },
 "nbformat": 4,
 "nbformat_minor": 0
}
