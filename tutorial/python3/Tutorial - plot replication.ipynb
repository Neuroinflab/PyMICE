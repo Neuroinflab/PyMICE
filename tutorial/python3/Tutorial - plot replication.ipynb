{
 "cells": [
  {
   "cell_type": "markdown",
   "metadata": {},
   "source": [
    "# Replication of plot from actual research article."
   ]
  },
  {
   "cell_type": "markdown",
   "metadata": {},
   "source": [
    "With the tutorial you will reproduce two curves from figure 3 panel A of \"A novel automated behavioral test battery assessing\n",
    "cognitive rigidity in two genetic mouse models of autism\" (A. Puścian et al.) available at http://www.ncbi.nlm.nih.gov/pmc/articles/PMC4010752/.\n",
    "\n",
    "## Environment set up\n",
    "At the beginning load into the memory the original data and the experiment timeline config file (see tutorials on basic and advanced topics for details). To save both storage and data transfer time the data has been preprocessed to filter out data unrelated to the research (diagnostic information and data from other research run simultaneously in the system).\n",
    "\n",
    "_`data`_ and _`timeline`_ are considered to be global variables."
   ]
  },
  {
   "cell_type": "code",
   "execution_count": null,
   "metadata": {
    "collapsed": false
   },
   "outputs": [],
   "source": [
    "import pymice as pm\n",
    "\n",
    "pm.getTutorialData(quiet=True)\n",
    "\n",
    "data = pm.Loader('C57_AB/2012-08-31 11.58.22.zip', getLog=True)\n",
    "\n",
    "timeline = pm.Timeline('C57_AB/timeline.ini')"
   ]
  },
  {
   "cell_type": "markdown",
   "metadata": {},
   "source": [
    "## Period of interest definition\n",
    "\n",
    "Define a global list of names of subsequent phases."
   ]
  },
  {
   "cell_type": "code",
   "execution_count": null,
   "metadata": {
    "collapsed": true
   },
   "outputs": [],
   "source": [
    "PHASES = ['NPA 2 dark', 'NPA 2 light',\n",
    "          'Place Pref 1 dark', 'Place Pref 1 light',\n",
    "          'Place Pref 2 dark', 'Place Pref 2 light',\n",
    "          'Place Pref 3 dark', 'Place Pref 3 light']"
   ]
  },
  {
   "cell_type": "markdown",
   "metadata": {},
   "source": [
    "## Data validation\n",
    "\n",
    "Check if there was no problems (indicated in log) in the period of our interest."
   ]
  },
  {
   "cell_type": "code",
   "execution_count": null,
   "metadata": {
    "collapsed": false
   },
   "outputs": [],
   "source": [
    "start, end = timeline.getTimeBounds(PHASES)\n",
    "\n",
    "dataValidator = pm.DataValidator(pm.PresenceLogAnalyzer())\n",
    "validatorReport = dataValidator(data)\n",
    "\n",
    "noPresenceProblems = pm.FailureInspector('Presence')\n",
    "   \n",
    "if noPresenceProblems(validatorReport, (start, end)):\n",
    "    print(\"presences ok\")"
   ]
  },
  {
   "cell_type": "markdown",
   "metadata": {},
   "source": [
    "## Data analysis\n",
    "\n",
    "To calculate an array of performance (fractions of visits to the rewarded corner) define _`getGroupPerformanceArray()`_ function.\n",
    "\n",
    "To facilitate estimation of animal- and phase-wise performance, values in the array should be assigned to rows by animal and to columns by phase (preferrably in temporal order)."
   ]
  },
  {
   "cell_type": "code",
   "execution_count": null,
   "metadata": {
    "collapsed": true
   },
   "outputs": [],
   "source": [
    "import numpy as np\n",
    "\n",
    "def getGroupPerformanceArray(groupName):\n",
    "    group = data.getGroup(groupName)\n",
    "    performance = [getPerformanceCurve(mouse) \\\n",
    "                   for mouse in group.Animals]\n",
    "    return np.ma.masked_invalid(performance)"
   ]
  },
  {
   "cell_type": "markdown",
   "metadata": {},
   "source": [
    "The _`getPerformanceCurve()`_ function returns list of animal's performance values for subsequent phases."
   ]
  },
  {
   "cell_type": "code",
   "execution_count": null,
   "metadata": {
    "collapsed": true
   },
   "outputs": [],
   "source": [
    "def getPerformanceCurve(mouse):\n",
    "    correctCorner = getRewardedCorner(mouse)\n",
    "    return [getPerformance(mouse, phase, correctCorner) \\\n",
    "            for phase in PHASES]"
   ]
  },
  {
   "cell_type": "markdown",
   "metadata": {},
   "source": [
    "For every mouse the function needs to know, in which corner it was rewarded during \"Place Preference\" phase. Since the mouse was rewarded in exactly one corner, it is enough to find the first rewarded visit."
   ]
  },
  {
   "cell_type": "code",
   "execution_count": null,
   "metadata": {
    "collapsed": false
   },
   "outputs": [],
   "source": [
    "def getRewardedCorner(mouse):\n",
    "    start, end = timeline.getTimeBounds('Place Pref 1 dark')\n",
    "    for visit in data.getVisits(mice=mouse, start=start, end=end):\n",
    "        if isRewarded(visit):\n",
    "            return visit.Corner"
   ]
  },
  {
   "cell_type": "markdown",
   "metadata": {},
   "source": [
    "In the 'Place Preference' phases a visit is rewarded if it is performed to a corner marked for the visiting animal as \"correct\" (\"CornerCondition\" attribute of the visit is positive then)."
   ]
  },
  {
   "cell_type": "code",
   "execution_count": null,
   "metadata": {
    "collapsed": true
   },
   "outputs": [],
   "source": [
    "def isRewarded(visit):\n",
    "    return visit.CornerCondition > 0"
   ]
  },
  {
   "cell_type": "markdown",
   "metadata": {},
   "source": [
    "You might want to test if the _`getRewardedCorner()`_ function is working."
   ]
  },
  {
   "cell_type": "code",
   "execution_count": null,
   "metadata": {
    "collapsed": false
   },
   "outputs": [],
   "source": [
    "print(\"Animal name\\tRewarded corner\")\n",
    "for mouse in sorted(data.getMice()):\n",
    "    print(\"{}:\\t{}\".format(mouse, getRewardedCorner(mouse)))\n"
   ]
  },
  {
   "cell_type": "markdown",
   "metadata": {},
   "source": [
    "The simplest way to calculate the performance is to calculate fraction of visits to the rewarded corner.\n",
    "\n",
    "Since _`True`_ and _`False`_ are interpreted by _`numpy`_ as _`0`_ and _`1`_, respectively, the frection is equal to the mean of boolean values indicating whether visit was to rewarded corner or not. If there was no visit, the mean would be not-a-number (_`nan`_) and a warning would be reported."
   ]
  },
  {
   "cell_type": "code",
   "execution_count": null,
   "metadata": {
    "collapsed": true
   },
   "outputs": [],
   "source": [
    "def getPerformance(mouse, phase, rewardedCorner):\n",
    "    start, end = timeline.getTimeBounds(phase)\n",
    "    visits = data.getVisits(mice=mouse, start=start, end=end)\n",
    "    toRewardedCorner = [visit.Corner is rewardedCorner for visit in visits]\n",
    "    return np.mean(toRewardedCorner)"
   ]
  },
  {
   "cell_type": "markdown",
   "metadata": {},
   "source": [
    "## Results visualisation (details)\n",
    "\n",
    "** Stuff covered in this section might be important mainly for you if you want to improve your Python programminng skills. **\n",
    "\n",
    "Declare a function _`plotAverages()`_ for plotting summary of mice's performance. Yes, WE DO KNOW that you should use 95% CI for error bars instead of SEM, but you are going to reconstruct an actual plot, are not you?"
   ]
  },
  {
   "cell_type": "code",
   "execution_count": null,
   "metadata": {
    "collapsed": true
   },
   "outputs": [],
   "source": [
    "def plotAverages(ax, x, ys, color, label):\n",
    "    mean = ys.mean(axis=0)\n",
    "    sem = ys.std(axis=0) / np.sqrt(np.logical_not(ys.mask).sum(axis=0))\n",
    "\n",
    "    ax.errorbar(x, mean * 100, yerr=sem * 100,\n",
    "                color=color, markeredgecolor=color,\n",
    "                label=label,               \n",
    "                linewidth=3, linestyle='--',\n",
    "                elinewidth=2, ecolor=\"black\",\n",
    "                marker='o', markersize=10,\n",
    "                dash_capstyle='round',\n",
    "                alpha=0.69)"
   ]
  },
  {
   "cell_type": "markdown",
   "metadata": {},
   "source": [
    "Define a context manager class _`DecoratedAxes`_ providing you with a preprocessed _`matplotlib.axes.Axes`_ object and taking care for details like providing legend after the plotting is finished."
   ]
  },
  {
   "cell_type": "code",
   "execution_count": null,
   "metadata": {
    "collapsed": false
   },
   "outputs": [],
   "source": [
    "import matplotlib.pyplot as plt\n",
    "import matplotlib.dates as mpd\n",
    "import matplotlib.ticker as mtick\n",
    "\n",
    "import pytz\n",
    "\n",
    "CET = pytz.timezone('CET')\n",
    "\n",
    "class DecoratedAxes(object):\n",
    "    def __enter__(self):\n",
    "        self.fig, ax = plt.subplots(figsize=(13, 8))\n",
    "        self.ax = ax\n",
    "\n",
    "        ax.set_title('C57BL/6 - PLACE PREFERENCE LEARNING')\n",
    "        \n",
    "        ax.set_ylim(0, 70)\n",
    "        ax.set_ylabel('% of visits to sugar corner')\n",
    "        ax.yaxis.set_major_formatter(mtick.FormatStrFormatter(\"%.0f%%\"))\n",
    "\n",
    "        for i in range(10, 70, 10):\n",
    "            ax.axhline(i, color='#A0A0A0', lw=1)\n",
    "        \n",
    "        ax.set_xlim(getTimeBounds(PHASES))\n",
    "        ax.set_xlabel('experiment phase')\n",
    "        ax.set_xticks(list(map(getPhaseMidtime, PHASES)))\n",
    "        ax.xaxis.set_major_formatter(timeline)\n",
    "\n",
    "        for phase in PHASES:\n",
    "            if phase.endswith('dark'):\n",
    "                start, end = getTimeBounds(phase)\n",
    "                ax.axvspan(start, end, color='#E0E0E0')\n",
    "\n",
    "        return ax\n",
    "\n",
    "    def __exit__(self, type, value, traceback):\n",
    "        self.ax.legend(loc='lower right')\n",
    "        self.ax.autoscale_view()\n",
    "        self.fig.autofmt_xdate()"
   ]
  },
  {
   "cell_type": "markdown",
   "metadata": {},
   "source": [
    "To have the contest manager working you need to define two auxilary functions. The first one is _`getTimeBounds()`_ which converts name(s) of phase(s) into pair of its/theirs boundaries in _`matplotlib.dates`_ reference space.\n",
    "\n",
    "The second one - _`getPhaseMidtime()`_ - converts phase name to its midpoint in the mentioned reference space."
   ]
  },
  {
   "cell_type": "code",
   "execution_count": null,
   "metadata": {
    "collapsed": true
   },
   "outputs": [],
   "source": [
    "def getTimeBounds(phases):\n",
    "    return mpd.date2num(timeline.getTimeBounds(phases))\n",
    "    \n",
    "def getPhaseMidtime(phase):\n",
    "    return getTimeBounds(phase).mean()"
   ]
  },
  {
   "cell_type": "markdown",
   "metadata": {},
   "source": [
    "## Plot reproduction\n",
    "\n",
    "Combine all written code together and plot the results.\n",
    "\n",
    "%matplotlib magic command is for purpose of the ipython notebook only."
   ]
  },
  {
   "cell_type": "code",
   "execution_count": null,
   "metadata": {
    "collapsed": false
   },
   "outputs": [],
   "source": [
    "%matplotlib inline\n",
    "\n",
    "with DecoratedAxes() as ax:\n",
    "    for groupName, color in [('C57 A', '#00c0ff'),\n",
    "                             ('C57 B', '#00aa00'),]:\n",
    "        plotAverages(ax, list(map(getPhaseMidtime, PHASES)),\n",
    "                         getGroupPerformanceArray(groupName),\n",
    "                         color, groupName)\n",
    "#plt.show()"
   ]
  }
 ],
 "metadata": {
  "kernelspec": {
   "display_name": "Python 3",
   "language": "python",
   "name": "python3"
  },
  "language_info": {
   "codemirror_mode": {
    "name": "ipython",
    "version": 3
   },
   "file_extension": ".py",
   "mimetype": "text/x-python",
   "name": "python",
   "nbconvert_exporter": "python",
   "pygments_lexer": "ipython3",
   "version": "3.5.1"
  }
 },
 "nbformat": 4,
 "nbformat_minor": 0
}
