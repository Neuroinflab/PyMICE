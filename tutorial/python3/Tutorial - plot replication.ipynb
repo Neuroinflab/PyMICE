{
 "cells": [
  {
   "cell_type": "markdown",
   "metadata": {},
   "source": [
    "# Replication of plot from actual research article."
   ]
  },
  {
   "cell_type": "markdown",
   "metadata": {},
   "source": [
    "With the tutorial you will reproduce two curves from figure 3 panel A of \"A novel automated behavioral test battery assessing\n",
    "cognitive rigidity in two genetic mouse models of autism\" (A. Puścian et al.) available at http://www.ncbi.nlm.nih.gov/pmc/articles/PMC4010752/.\n",
    "\n",
    "## Setting up the environment\n",
    "At the beginning download and load into the memory the original data performing validity check, as well as the experiment timeline config file (see tutorials on basic and advanced topics for details). To save both storage and data transfer time the data has been preprocessed to filter out data unrelated to the research (diagnostic information and data from other research run simultaneously in the system)."
   ]
  },
  {
   "cell_type": "code",
   "execution_count": 1,
   "metadata": {
    "collapsed": false
   },
   "outputs": [
    {
     "name": "stdout",
     "output_type": "stream",
     "text": [
      "PyMICE library v. 0.2.0\n",
      "(NeuroLex.org ID: nlx_158570)\n",
      "\n",
      "This is a bleeding edge version of the library. It might meet your expectations,\n",
      "however it might also go to your fridge, drink all the beer it can find there\n",
      "and then eat your cat. Be warned.\n",
      "\n",
      "https://www.dropbox.com/s/0o5faojp14llalm/C57_AB.zip?dl=1 data already downloaded.\n",
      "All data already downloaded.\n",
      "\n",
      "loading data from C57_AB/2012-08-28 13.44.51.zip\n",
      "loading data from C57_AB/2012-08-28 15.33.58.zip\n",
      "loading data from C57_AB/2012-08-31 11.46.31.zip\n",
      "loading data from C57_AB/2012-08-31 11.58.22.zip\n"
     ]
    }
   ],
   "source": [
    "import glob\n",
    "import pymice as pm\n",
    "\n",
    "pm.getTutorialData()\n",
    "\n",
    "files = glob.glob('C57_AB/*.zip')\n",
    "loaders = [pm.Loader(filename, getLog=True, getNp=False) for filename in files]\n",
    "mm = pm.Merger(*loaders, getLog=True)\n",
    "\n",
    "experimentTimeline = pm.ExperimentTimeline('C57_AB/timeline.ini')"
   ]
  },
  {
   "cell_type": "markdown",
   "metadata": {},
   "source": [
    "Check if there was no problems (indicated in log) in the period of our interest."
   ]
  },
  {
   "cell_type": "code",
   "execution_count": 2,
   "metadata": {
    "collapsed": false
   },
   "outputs": [
    {
     "name": "stdout",
     "output_type": "stream",
     "text": [
      "presences ok\n"
     ]
    }
   ],
   "source": [
    "from datetime import timedelta\n",
    "start, end = experimentTimeline.getTime(['Place Pref 1 dark', 'Place Pref 3 light'])\n",
    "start -= timedelta(1) # one day\n",
    "\n",
    "dataValidator = pm.DataValidator(pm.PresenceLogAnalyzer())\n",
    "validatorReport = dataValidator(mm)\n",
    "\n",
    "presenceTester = pm.TestMiceData('Presence')\n",
    "   \n",
    "if presenceTester(validatorReport, (start, end)):\n",
    "    print(\"presences ok\")\n",
    "    \n",
    "else:\n",
    "    print(\"unknown mice presence problem\")"
   ]
  },
  {
   "cell_type": "markdown",
   "metadata": {},
   "source": [
    "In the 'Place Preference' phases a visit is rewarded if it is performed to a corner marked for the visiting animal as \"correct\" (\"CornerCondition\" attribute of the visit is positive then)."
   ]
  },
  {
   "cell_type": "code",
   "execution_count": 3,
   "metadata": {
    "collapsed": true
   },
   "outputs": [],
   "source": [
    "def isToCorrectCorner(visit):\n",
    "    return visit.CornerCondition > 0"
   ]
  },
  {
   "cell_type": "markdown",
   "metadata": {},
   "source": [
    "You need to know for every mouse, which corner was marked as \"correct\" during Place Preference phase. Since exactly one corner was marked as \"correct\" for an animal, it is enough to find first visit to such corner."
   ]
  },
  {
   "cell_type": "code",
   "execution_count": 4,
   "metadata": {
    "collapsed": false
   },
   "outputs": [
    {
     "name": "stdout",
     "output_type": "stream",
     "text": [
      "Animal name\tCorrect corner\n",
      "C57 B 10:\t4\n",
      "C57 B 11:\t4\n",
      "C57 B 12:\t4\n",
      "C57 A 11:\t4\n",
      "C57 A 10:\t4\n",
      "C57 B 8:\tNone\n",
      "C57 B 9:\t3\n",
      "C57 B 2:\t1\n",
      "C57 B 3:\t1\n",
      "C57 B 1:\t1\n",
      "C57 B 6:\t2\n",
      "C57 B 7:\tNone\n",
      "C57 B 4:\t2\n",
      "C57 B 5:\t2\n",
      "C57 A 1:\t1\n",
      "C57 A 3:\t1\n",
      "C57 A 2:\t1\n",
      "C57 A 5:\t2\n",
      "C57 A 4:\t2\n",
      "C57 A 7:\t3\n",
      "C57 A 6:\t2\n",
      "C57 A 9:\t3\n",
      "C57 A 8:\t3\n"
     ]
    }
   ],
   "source": [
    "correctCorner = {}\n",
    "t1, t2 = experimentTimeline.getTime('Place Pref 1 dark')\n",
    "for mouse in mm.getMice():\n",
    "    correctCorner[mouse] = None\n",
    "    for visit in mm.getVisits(mice=mouse, start=t1, end=t2):\n",
    "        if isToCorrectCorner(visit):\n",
    "            correctCorner[mouse] = int(visit.Corner)\n",
    "            break\n",
    "\n",
    "print(\"Animal name\\tCorrect corner\")\n",
    "for mouse, corner in correctCorner.items():\n",
    "    print(\"%s:\\t%s\" % (mouse, corner))"
   ]
  },
  {
   "cell_type": "markdown",
   "metadata": {},
   "source": [
    "Now we are going to calculate for every mouse a fraction of visits to the rewarded corner in 12 hour timebins. For that purpose use the numpy library."
   ]
  },
  {
   "cell_type": "code",
   "execution_count": 5,
   "metadata": {
    "collapsed": false
   },
   "outputs": [
    {
     "name": "stderr",
     "output_type": "stream",
     "text": [
      "/home/jkowalski/anaconda/envs/py3k/lib/python3.3/site-packages/IPython/kernel/__main__.py:17: RuntimeWarning: invalid value encountered in true_divide\n"
     ]
    }
   ],
   "source": [
    "import numpy as np\n",
    "import matplotlib.dates as mpd\n",
    "\n",
    "binWidth = 0.5 # in days\n",
    "startNum, endNum = mpd.date2num((start, end))\n",
    "nBins = np.ceil((endNum - startNum) / binWidth)\n",
    "bins = np.linspace(startNum, startNum + nBins * binWidth, int(nBins) + 1)\n",
    "\n",
    "rewardedVisitsFractions = {}\n",
    "for mouse, corner in correctCorner.items():\n",
    "    visits = mm.getVisits(mice=mouse, start=start, end=end)\n",
    "    startTimes = mpd.date2num([visit.Start for visit in visits])\n",
    "    rewardedStartTimes = mpd.date2num([visit.Start for visit in visits if int(visit.Corner) == corner])\n",
    "    \n",
    "    visitHistogram, _ = np.histogram(startTimes, bins=bins)\n",
    "    rewardedVisitHistogram, _ = np.histogram(rewardedStartTimes, bins=bins)\n",
    "    rewardedFractionHistogram = rewardedVisitHistogram / visitHistogram.astype(float)\n",
    "    rewardedVisitsFractions[mouse] = rewardedFractionHistogram"
   ]
  },
  {
   "cell_type": "markdown",
   "metadata": {},
   "source": [
    "For every defined group of mice we create an array of fractions (with mice in rows and time bins in columns) with invalid values masked."
   ]
  },
  {
   "cell_type": "code",
   "execution_count": 6,
   "metadata": {
    "collapsed": false
   },
   "outputs": [],
   "source": [
    "rewardedVisitsArray = {}\n",
    "for groupName in mm.getGroup():\n",
    "    group = mm.getGroup(groupName)\n",
    "    mice = map(str, group.Animals)\n",
    "    miceFractions = [rewardedVisitsFractions[mouse] for mouse in mice]\n",
    "    rewardedVisitsArray[groupName] = np.ma.masked_invalid(miceFractions)"
   ]
  },
  {
   "cell_type": "markdown",
   "metadata": {},
   "source": [
    "And now we are plotting the results. Yes, WE DO KNOW that we should use 95% CI for error bars.\n",
    "\n",
    "%matplotlib magic command is for purpose of the ipython notebook only."
   ]
  },
  {
   "cell_type": "code",
   "execution_count": 7,
   "metadata": {
    "collapsed": false
   },
   "outputs": [
    {
     "data": {
      "image/png": "[encoded data removed]",
      "text/plain": [
       "<matplotlib.figure.Figure at 0x7fde1cd3bb90>"
      ]
     },
     "metadata": {},
     "output_type": "display_data"
    }
   ],
   "source": [
    "%matplotlib inline\n",
    "\n",
    "import matplotlib.pyplot as plt\n",
    "import matplotlib.ticker as mtick\n",
    "\n",
    "import pytz\n",
    "\n",
    "tzone = pytz.timezone('CET')\n",
    "\n",
    "fig = plt.figure(figsize=(13, 8))\n",
    "ax = fig.add_subplot(1, 1, 1)\n",
    "ax.set_ylim(0, 70)\n",
    "ax.set_xlim(startNum, endNum)\n",
    "ax.set_title('C57BL/6 - PLACE PREFERENCE LEARNING')\n",
    "ax.set_ylabel('% of visits to sugar corner')\n",
    "ax.set_xlabel('time')\n",
    "hours=[1, 7, 13, 19]\n",
    "ax.xaxis.set_major_locator(mpd.HourLocator(np.array(hours),tz=tzone))\n",
    "ax.xaxis.set_major_formatter(mpd.DateFormatter('%d.%m %H:%M', tz=tzone))\n",
    "ax.yaxis.set_major_formatter(mtick.FormatStrFormatter(\"%.0f%%\"))\n",
    "\n",
    "for phase in experimentTimeline.sections():\n",
    "  if phase.endswith('dark'):\n",
    "    t1, t2 = experimentTimeline.getTime(phase)\n",
    "    plt.axvspan(mpd.date2num(t1), mpd.date2num(t2), color='#E0E0E0')\n",
    "    \n",
    "for i in range(10, 70, 10):\n",
    "  ax.axhline(i, color='#A0A0A0', lw=1)\n",
    "\n",
    "for groupName, color in [('C57 A', '#00c0ff'),\n",
    "                         ('C57 B', '#00aa00'),]:\n",
    "  data = rewardedVisitsArray[groupName]\n",
    "  mean = data.mean(axis=0)\n",
    "  sem = data.std(axis=0) / np.sqrt(np.logical_not(data.mask).sum(axis=0))\n",
    "  x = bins[:-1] + binWidth / 2\n",
    "  y = mean * 100\n",
    "  errorBar = sem * 100\n",
    "  ax.errorbar(x, y, yerr=errorBar,\n",
    "              linewidth=3, elinewidth=2,\n",
    "              marker='o', markeredgecolor=color,\n",
    "              markersize=10,\n",
    "              ecolor=\"black\",\n",
    "              color=color, linestyle='--',\n",
    "              dash_capstyle='round',\n",
    "              label=groupName,\n",
    "              alpha=0.69)\n",
    "\n",
    "ax.legend(loc='lower right')\n",
    "\n",
    "ax.autoscale_view()\n",
    "fig.autofmt_xdate()\n",
    "#plt.draw()\n",
    "\n",
    "plt.show()"
   ]
  },
  {
   "cell_type": "code",
   "execution_count": null,
   "metadata": {
    "collapsed": true
   },
   "outputs": [],
   "source": []
  }
 ],
 "metadata": {
  "kernelspec": {
   "display_name": "Python 3",
   "language": "python",
   "name": "python3"
  },
  "language_info": {
   "codemirror_mode": {
    "name": "ipython",
    "version": 3
   },
   "file_extension": ".py",
   "mimetype": "text/x-python",
   "name": "python",
   "nbconvert_exporter": "python",
   "pygments_lexer": "ipython3",
   "version": "3.3.5"
  }
 },
 "nbformat": 4,
 "nbformat_minor": 0
}
