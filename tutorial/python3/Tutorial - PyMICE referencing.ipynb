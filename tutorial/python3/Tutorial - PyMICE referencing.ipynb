{
 "cells": [
  {
   "cell_type": "markdown",
   "metadata": {},
   "source": [
    "# A tool for referencing _PyMICE_\n",
    "\n",
    "When importing the _PyMICE library_, you are prompted to reference it in any published research."
   ]
  },
  {
   "cell_type": "code",
   "execution_count": 1,
   "metadata": {},
   "outputs": [
    {
     "name": "stderr",
     "output_type": "stream",
     "text": [
      "PyMICE library v. 1.2.0\n",
      "\n",
      "The library is available under GPL3 license; we ask that reference to our paper\n",
      "as well as to the library itself is provided in any published research making\n",
      "use of PyMICE.\n",
      "\n",
      "The recommended in-text citation format is:\n",
      "PyMICE (Dzik, Puścian, et al. 2017) v. 1.2.0 (Dzik, Łęski, & Puścian 2017)\n",
      "\n",
      "and the recommended bibliography entry format:\n",
      "Dzik J. M., Łęski S., Puścian A. (July 21, 2017) \"PyMICE\" computer software\n",
      "    (v. 1.2.0; RRID:nlx_158570) doi: 10.5281/zenodo.832982\n",
      "\n",
      "Dzik J. M., Puścian A., Mijakowska Z., Radwanska K., Łęski S. (June 22, 2017)\n",
      "    \"PyMICE: A Python library for analysis of IntelliCage data\" Behavior\n",
      "    Research Methods doi: 10.3758/s13428-017-0907-5\n",
      "\n",
      "If the journal does not allow for inclusion of the resource identifier\n",
      "(RRID:nlx_158570) in the bibliography, we ask to provide it in-text:\n",
      "PyMICE (RRID:nlx_158570) [1] v. 1.2.0 [2]\n",
      "\n",
      "1. Dzik JM, Puścian A, Mijakowska Z, Radwanska K, Łęski S. PyMICE: A Python\n",
      "    library for analysis of IntelliCage data. Behav Res Methods. 2017.\n",
      "    DOI: 10.3758/s13428-017-0907-5\n",
      "2. Dzik JM, Łęski S, Puścian A. PyMICE [computer software]. Version 1.2.0.\n",
      "    Warsaw: Nencki Institute - PAS; 2017. DOI: 10.5281/zenodo.832982\n",
      "\n",
      "We have provided a solution to facilitate referencing to the library. Please run\n",
      "\n",
      ">>> help(pm.Citation)\n",
      "\n",
      "for more information (given that the library is imported as `pm`).\n",
      "\n",
      "\n"
     ]
    }
   ],
   "source": [
    "import pymice as pm"
   ]
  },
  {
   "cell_type": "markdown",
   "metadata": {},
   "source": [
    "## The `Citation` class"
   ]
  },
  {
   "cell_type": "markdown",
   "metadata": {},
   "source": [
    "To facilitate the referencing, the library provides a class `Citation`. The class may be especially useful in publications/reports written according to the [Literate Programming paradigm](https://en.wikipedia.org/wiki/Literate_programming) (e.g. with [Pweave](http://mpastell.com/pweave/) tool).\n",
    "\n",
    "Objects of the class may be converted to strings (`str`) which are the recommended in-text reference of the library."
   ]
  },
  {
   "cell_type": "code",
   "execution_count": 2,
   "metadata": {},
   "outputs": [
    {
     "name": "stdout",
     "output_type": "stream",
     "text": [
      "PyMICE (Dzik, Puścian, et al. 2017) v. 1.2.0 (Dzik, Łęski, & Puścian 2017)\n"
     ]
    }
   ],
   "source": [
    "citation = pm.Citation()\n",
    "print(str(citation))"
   ]
  },
  {
   "cell_type": "markdown",
   "metadata": {},
   "source": [
    "As you may see, the current version of the library has been referenced.\n",
    "\n",
    "The `citation` object provides also items to be included in the _Bibliography_ section as its attributes."
   ]
  },
  {
   "cell_type": "code",
   "execution_count": 3,
   "metadata": {
    "scrolled": true
   },
   "outputs": [
    {
     "name": "stdout",
     "output_type": "stream",
     "text": [
      "Dzik J. M., Puścian A., Mijakowska Z., Radwanska K., Łęski S. (June 22, 2017)\n",
      "    \"PyMICE: A Python library for analysis of IntelliCage data\" Behavior\n",
      "    Research Methods doi: 10.3758/s13428-017-0907-5\n",
      "\n",
      "Dzik J. M., Łęski S., Puścian A. (July 21, 2017) \"PyMICE\" computer software\n",
      "    (v. 1.2.0; RRID:nlx_158570) doi: 10.5281/zenodo.832982\n"
     ]
    }
   ],
   "source": [
    "print(citation.PAPER)\n",
    "print()\n",
    "print(citation.SOFTWARE)"
   ]
  },
  {
   "cell_type": "markdown",
   "metadata": {},
   "source": [
    "To cite PyMICE not in the suggested format you may use `.CITE_PAPER` and `.CITE_SOFTWARE` properties."
   ]
  },
  {
   "cell_type": "code",
   "execution_count": 4,
   "metadata": {},
   "outputs": [
    {
     "name": "stdout",
     "output_type": "stream",
     "text": [
      "Dzik, Puścian, et al. 2017\n",
      "\n",
      "Dzik, Łęski, & Puścian 2017\n"
     ]
    }
   ],
   "source": [
    "print(citation.CITE_PAPER)\n",
    "print()\n",
    "print(citation.CITE_SOFTWARE)"
   ]
  },
  {
   "cell_type": "markdown",
   "metadata": {},
   "source": [
    "## The new style of _Python_ string formatting\n",
    "\n",
    "With [the new style of Python string formatting](https://pyformat.info/) (`.format()`), the object may be easily used to automatically generate the reference."
   ]
  },
  {
   "cell_type": "code",
   "execution_count": 5,
   "metadata": {},
   "outputs": [
    {
     "name": "stdout",
     "output_type": "stream",
     "text": [
      "With the new Python string formatting API (.format()), the object may be easily used to automatically generate the reference.\n",
      "\n",
      "Methods\n",
      "\n",
      "The following tutorial has been executed with PyMICE (Dzik, Puścian, et al. 2017) v. 1.2.0 (Dzik, Łęski, & Puścian 2017).\n",
      "\n",
      "Bibliography\n",
      "\n",
      "Dzik J. M., Puścian A., Mijakowska Z., Radwanska K., Łęski S. (June 22, 2017)\n",
      "    \"PyMICE: A Python library for analysis of IntelliCage data\" Behavior\n",
      "    Research Methods doi: 10.3758/s13428-017-0907-5\n",
      "\n",
      "Dzik J. M., Łęski S., Puścian A. (July 21, 2017) \"PyMICE\" computer software\n",
      "    (v. 1.2.0; RRID:nlx_158570) doi: 10.5281/zenodo.832982\n",
      "\n"
     ]
    }
   ],
   "source": [
    "PUBLICATION_TEMPLATE = u\"\"\"With the new Python string formatting API (.format()), the object may be easily used to automatically generate the reference.\n",
    "\n",
    "Methods\n",
    "\n",
    "The following tutorial has been executed with {reference}.\n",
    "\n",
    "Bibliography\n",
    "\n",
    "{reference.PAPER}\n",
    "\n",
    "{reference.SOFTWARE}\n",
    "\"\"\"\n",
    "\n",
    "print(PUBLICATION_TEMPLATE.format(reference=pm.Citation()))"
   ]
  },
  {
   "cell_type": "markdown",
   "metadata": {},
   "source": [
    "## Customizing the `Citation` object\n",
    "\n",
    "Sometimes it is necessary to comply with a certain reference style (like Vancouver or APA6). Objects of the `Citation` class may be easily customised to fit such needs."
   ]
  },
  {
   "cell_type": "code",
   "execution_count": 6,
   "metadata": {},
   "outputs": [
    {
     "name": "stdout",
     "output_type": "stream",
     "text": [
      "\n",
      "\n",
      "PyMICE (RRID:nlx_158570) [1] v. 1.2.0 [2] facilitates referencing in Vancouver style.\n",
      "\n",
      "Bibliography:\n",
      "\n",
      "1. Dzik JM, Puścian A, Mijakowska Z, Radwanska K, Łęski S. PyMICE: A Python\n",
      "    library for analysis of IntelliCage data. Behav Res Methods. 2017.\n",
      "    DOI: 10.3758/s13428-017-0907-5\n",
      "\n",
      "2. Dzik JM, Łęski S, Puścian A. PyMICE [computer software]. Version 1.2.0.\n",
      "    Warsaw: Nencki Institute - PAS; 2017. DOI: 10.5281/zenodo.832982\n",
      "\n",
      "\n",
      "\n",
      "PyMICE (Dzik, Puścian, Mijakowska, Radwanska, & Łęski, 2017) v. 1.2.0 (Dzik, Łęski, & Puścian, 2017) facilitates referencing in APA6 style.\n",
      "\n",
      "Bibliography:\n",
      "\n",
      "Dzik, J. M., Puścian, A., Mijakowska, Z., Radwanska, K., & Łęski, S. (2017).\n",
      "    PyMICE: A Python library for analysis of IntelliCage data. Behavior Research\n",
      "    Methods. doi: 10.3758/s13428-017-0907-5\n",
      "\n",
      "Dzik, J. M., Łęski, S., & Puścian, A. (2017, July). PyMICE (v. 1.2.0) [computer\n",
      "    software; RRID:nlx_158570]. doi: 10.5281/zenodo.832982\n",
      "\n"
     ]
    }
   ],
   "source": [
    "PUBLICATION_TEMPLATE = u\"\"\"\\n\\n{reference} facilitates referencing in {style} style.\n",
    "\n",
    "Bibliography:\n",
    "\n",
    "{reference.PAPER}\n",
    "\n",
    "{reference.SOFTWARE}\\n\"\"\"\n",
    "\n",
    "for style in ['Vancouver', 'APA6']:\n",
    "    print(PUBLICATION_TEMPLATE.format(style=style,\n",
    "                                      reference=pm.Citation(style=style)))"
   ]
  },
  {
   "cell_type": "markdown",
   "metadata": {},
   "source": [
    "As most publications is written with some markup system, the `Citation` class supports different markups as well."
   ]
  },
  {
   "cell_type": "code",
   "execution_count": 7,
   "metadata": {},
   "outputs": [
    {
     "name": "stdout",
     "output_type": "stream",
     "text": [
      "Plain (txt)\n",
      "\n",
      "Dzik, J. M., Puścian, A., Mijakowska, Z., Radwanska, K., & Łęski, S. (2017).\n",
      "    PyMICE: A Python library for analysis of IntelliCage data. Behavior Research\n",
      "    Methods. doi: 10.3758/s13428-017-0907-5\n",
      "\n",
      "\n",
      "Markdown (md)\n",
      "\n",
      "Dzik, J. M., Puścian, A., Mijakowska, Z., Radwanska, K., & Łęski, S. (2017).\n",
      "    PyMICE: A Python library for analysis of IntelliCage data. _Behavior\n",
      "    Research Methods_. doi: 10.3758/s13428-017-0907-5\n",
      "\n",
      "\n",
      "reStructuredText (rst)\n",
      "\n",
      "Dzik, J. M., Puścian, A., Mijakowska, Z., Radwanska, K., & Łęski, S. (2017).\n",
      "    PyMICE: A Python library for analysis of IntelliCage data. *Behavior\n",
      "    Research Methods*. doi: 10.3758/s13428-017-0907-5\n",
      "\n",
      "\n",
      "HTML (html)\n",
      "\n",
      "Dzik,&nbsp;J.&nbsp;M., Puścian,&nbsp;A., Mijakowska,&nbsp;Z.,\n",
      "    Radwanska,&nbsp;K., &amp;&nbsp;Łęski,&nbsp;S. (2017). PyMICE: A Python\n",
      "    library for analysis of IntelliCage data. <em>Behavior Research\n",
      "    Methods</em>. doi:&nbsp;10.3758/s13428-017-0907-5\n",
      "\n",
      "\n",
      "LaTeX (latex)\n",
      "\n",
      "\\bibitem{dzik2017pm} Dzik,~J.~M., Puścian,~A., Mijakowska,~Z., Radwanska,~K.,\n",
      "    &~Łęski,~S. (2017). {PyMICE}: A {Python} library for analysis of\n",
      "    {IntelliCage} data. \\emph{Behavior Research Methods}.\n",
      "    doi:~10.3758/s13428-017-0907-5\n",
      "\n",
      "\n"
     ]
    }
   ],
   "source": [
    "for name, symbol in [('Plain', 'txt'),\n",
    "                     ('Markdown', 'md'),\n",
    "                     ('reStructuredText', 'rst'),\n",
    "                     ('HTML', 'html'),\n",
    "                     ('LaTeX', 'latex'),]:\n",
    "    print('{} ({})'.format(name, symbol))\n",
    "    print()\n",
    "    print(pm.Citation(style='APA6', markdown=symbol).PAPER)\n",
    "    print()\n",
    "    print()"
   ]
  },
  {
   "cell_type": "markdown",
   "metadata": {},
   "source": [
    "The `Citation` class supports also export of BibTeX entries."
   ]
  },
  {
   "cell_type": "code",
   "execution_count": 8,
   "metadata": {},
   "outputs": [
    {
     "name": "stdout",
     "output_type": "stream",
     "text": [
      "@Misc{pymice1.2.0,\n",
      "Title = {{PyMICE (v.~1.2.0)}},\n",
      "Note = {computer software; RRID:nlx\\_158570},\n",
      "Author = {Dzik, Jakub Mateusz and Łęski, Szymon and Puścian, Alicja},\n",
      "Year = {2017},\n",
      "Month = {July},\n",
      "Day = {21},\n",
      "Doi = {10.5281/zenodo.832982}\n",
      "}\n",
      "\n"
     ]
    }
   ],
   "source": [
    "print(pm.Citation(style='BibTeX').SOFTWARE)"
   ]
  },
  {
   "cell_type": "markdown",
   "metadata": {},
   "source": [
    "In some cases (e.g. in case of BibTeX, LaTeX or Vancouver style) \"keys\" automatically assigned to bibliography items may be improper. The `Citation` class provides mechanism to assign custom \"keys\" to the items."
   ]
  },
  {
   "cell_type": "code",
   "execution_count": 9,
   "metadata": {},
   "outputs": [
    {
     "name": "stdout",
     "output_type": "stream",
     "text": [
      "[...]\n",
      "\n",
      "PyMICE (RRID:nlx_158570) [42] v. 1.2.0 [44] was used to run this tutorial.\n",
      "\n",
      "[...]\n",
      "\n",
      "Bibliography:\n",
      "\n",
      "[...]\n",
      "\n",
      "42. Dzik JM, Puścian A, Mijakowska Z, Radwanska K, Łęski S. PyMICE: A Python\n",
      "    library for analysis of IntelliCage data. Behav Res Methods. 2017.\n",
      "    DOI: 10.3758/s13428-017-0907-5\n",
      "\n",
      "[...]\n",
      "\n",
      "44. Dzik JM, Łęski S, Puścian A. PyMICE [computer software]. Version 1.2.0.\n",
      "    Warsaw: Nencki Institute - PAS; 2017. DOI: 10.5281/zenodo.832982\n",
      "\n",
      "[...]\n"
     ]
    }
   ],
   "source": [
    "PUBLICATION_TEMPLATE = u\"\"\"[...]\n",
    "\n",
    "{reference} was used to run this tutorial.\n",
    "\n",
    "[...]\n",
    "\n",
    "Bibliography:\n",
    "\n",
    "[...]\n",
    "\n",
    "{reference.PAPER}\n",
    "\n",
    "[...]\n",
    "\n",
    "{reference.SOFTWARE}\n",
    "\n",
    "[...]\"\"\"\n",
    "\n",
    "print(PUBLICATION_TEMPLATE.format(reference=pm.Citation(style='Vancouver',\n",
    "                                                        paperKey='42',\n",
    "                                                        softwareKey='44')))"
   ]
  },
  {
   "cell_type": "markdown",
   "metadata": {},
   "source": [
    "Sometimes it may be necessary to reference another version of PyMICE than currently used. The `version` parameter of the `Citation` class enables referencing a custom version."
   ]
  },
  {
   "cell_type": "code",
   "execution_count": 10,
   "metadata": {},
   "outputs": [
    {
     "name": "stdout",
     "output_type": "stream",
     "text": [
      "Our publication introducing the PyMICE library (Dzik, Puścian, et al. 2017) has been compiled with PyMICE v. 1.1.0 (Dzik, Łęski, & Puścian 2016)\n",
      "\n",
      "Bibliography:\n",
      "\n",
      "Dzik J. M., Puścian A., Mijakowska Z., Radwanska K., Łęski S. (June 22, 2017)\n",
      "    \"PyMICE: A Python library for analysis of IntelliCage data\" Behavior\n",
      "    Research Methods doi: 10.3758/s13428-017-0907-5\n",
      "\n",
      "Dzik J. M., Łęski S., Puścian A. (December 13, 2016) \"PyMICE\" computer software\n",
      "    (v. 1.1.0; RRID:nlx_158570) doi: 10.5281/zenodo.200648\n",
      "\n"
     ]
    }
   ],
   "source": [
    "PUBLICATION_TEMPLATE = u\"\"\"Our publication introducing the PyMICE library ({reference.CITE_PAPER}) has been compiled with PyMICE v. {version} ({reference.CITE_SOFTWARE})\n",
    "\n",
    "Bibliography:\n",
    "\n",
    "{reference.PAPER}\n",
    "\n",
    "{reference.SOFTWARE}\n",
    "\"\"\"\n",
    "\n",
    "print(PUBLICATION_TEMPLATE.format(version='1.1.0',\n",
    "                                  reference=pm.Citation(version='1.1.0')))"
   ]
  },
  {
   "cell_type": "markdown",
   "metadata": {},
   "source": [
    "## Overriding the constructor parameters\n",
    "\n",
    "If you need to generate a reference using different style, PyMICE version or markdown than set in the object constructor, you do not have to create a new object. A call to the methods: `.cite()`, `.citePaper()`, `.citeSoftware()`, `.referencePaper()` or `.referenceSoftware()` with optional parameters `style`, `markdown` and `version` returns a customised reference."
   ]
  },
  {
   "cell_type": "code",
   "execution_count": 11,
   "metadata": {},
   "outputs": [
    {
     "name": "stdout",
     "output_type": "stream",
     "text": [
      "PyMICE (Dzik, Puścian, et al. 2017) v. 0.2.3 (Dzik, Łęski, & Puścian 2016)\n",
      "\n",
      "dzik2017pm\n",
      "\n",
      "Dzik, Łęski, & Puścian, 2017\n",
      "\n",
      "1. Dzik&nbsp;JM, Puścian&nbsp;A, Mijakowska&nbsp;Z, Radwanska&nbsp;K,\n",
      "    Łęski&nbsp;S. PyMICE: A Python library for analysis of IntelliCage data.\n",
      "    Behav Res Methods. 2017. DOI:&nbsp;10.3758/s13428-017-0907-5\n",
      "\n",
      "@Misc{pymice1.0.0,\n",
      "Title = {{PyMICE (v.~1.0.0)}},\n",
      "Note = {computer software; RRID:nlx\\_158570},\n",
      "Author = {Dzik, Jakub Mateusz and Łęski, Szymon and Puścian, Alicja},\n",
      "Year = {2016},\n",
      "Month = {May},\n",
      "Day = {6},\n",
      "Doi = {10.5281/zenodo.51092}\n",
      "}\n",
      "\n"
     ]
    }
   ],
   "source": [
    "reference = pm.Citation()\n",
    "print(reference.cite(version='0.2.3'))\n",
    "print()\n",
    "print(reference.citePaper(markdown='LaTeX'))\n",
    "print()\n",
    "print(reference.citeSoftware(style='APA6'))\n",
    "print()\n",
    "print(reference.referencePaper(style='Vancouver', markdown='HTML'))\n",
    "print()\n",
    "print(reference.referenceSoftware(style='BibTeX', version='1.0.0'))"
   ]
  }
 ],
 "metadata": {
  "kernelspec": {
   "display_name": "Python 3",
   "language": "python",
   "name": "python3"
  },
  "language_info": {
   "codemirror_mode": {
    "name": "ipython",
    "version": 3
   },
   "file_extension": ".py",
   "mimetype": "text/x-python",
   "name": "python",
   "nbconvert_exporter": "python",
   "pygments_lexer": "ipython3",
   "version": "3.6.1"
  }
 },
 "nbformat": 4,
 "nbformat_minor": 1
}
