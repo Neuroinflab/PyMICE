{
 "cells": [
  {
   "cell_type": "markdown",
   "metadata": {},
   "source": [
    "# Setting up the environment\n",
    "It is assumed you are familiar with basics of the library. If not - see \"Tutorial on basic topics\"."
   ]
  },
  {
   "cell_type": "code",
   "execution_count": 1,
   "metadata": {
    "collapsed": false
   },
   "outputs": [
    {
     "name": "stdout",
     "output_type": "stream",
     "text": [
      "This is a bleeding edge version of the PyMICE library. It might meet your\n",
      "expectations, however it might also go to your fridge, drink all the beer\n",
      "it can find there and then eat your cat. Be warned.\n",
      "\n",
      "https://www.dropbox.com/s/kxgfu7fazbwvz7e/C57_AB.zip?dl=1 data already downloaded.\n",
      "All data already downloaded.\n",
      "\n"
     ]
    }
   ],
   "source": [
    "import pymice as pm\n",
    "\n",
    "pm.getTutorialData()\n"
   ]
  },
  {
   "cell_type": "markdown",
   "metadata": {},
   "source": [
    "# Visit selection\n",
    "## Visits of a particular mouse\n",
    "To select visits of a particular mouse use the \"mice\" argument of getVisits method."
   ]
  },
  {
   "cell_type": "code",
   "execution_count": 2,
   "metadata": {
    "collapsed": false
   },
   "outputs": [
    {
     "name": "stdout",
     "output_type": "stream",
     "text": [
      "loading data from C57_AB/2012-08-28 15.33.58.zip\n",
      "493\n",
      "C57 A 1\n"
     ]
    }
   ],
   "source": [
    "ml = pm.Loader('C57_AB/2012-08-28 15.33.58.zip')\n",
    "visits = ml.getVisits(mice='C57 A 1')\n",
    "print len(visits)\n",
    "print visits[321].Animal"
   ]
  },
  {
   "cell_type": "markdown",
   "metadata": {},
   "source": [
    "## Visits of a group of mice\n",
    "Multiple names can also be given as the \"mice\" argument."
   ]
  },
  {
   "cell_type": "code",
   "execution_count": 3,
   "metadata": {
    "collapsed": false
   },
   "outputs": [
    {
     "name": "stdout",
     "output_type": "stream",
     "text": [
      "C57 A 1: 493 visits\n",
      "C57 A 2: 281 visits\n"
     ]
    }
   ],
   "source": [
    "visits = ml.getVisits(mice=['C57 A 1', 'C57 A 2'])\n",
    "visitorNames = [v.Animal.Name for v in visits]\n",
    "for mouse in set(visitorNames):\n",
    "    print '%s: %d visits' % (mouse, visitorNames.count(mouse))"
   ]
  },
  {
   "cell_type": "markdown",
   "metadata": {},
   "source": [
    "## Visits performed at particular time\n",
    "To select visits before or after particular time - use \"end\" and \"start\" arguments, respectively.\n",
    "\n",
    "In the example visits started between 15:00 (inclusive) and 16:00 (exclusive) 28th August 2012 are being selected.\n",
    "**The time is given as _Eastern European Time_ (EET).**"
   ]
  },
  {
   "cell_type": "code",
   "execution_count": 4,
   "metadata": {
    "collapsed": false
   },
   "outputs": [
    {
     "name": "stdout",
     "output_type": "stream",
     "text": [
      "2012-08-28 15:34:14.140000+02:00\n",
      "2012-08-28 16:00:00.187000+02:00\n"
     ]
    }
   ],
   "source": [
    "from datetime import datetime\n",
    "import pytz\n",
    "\n",
    "EET = pytz.timezone('Etc/GMT-2')\n",
    "\n",
    "timeFrom = datetime(2012, 8, 28, 15, 0, tzinfo=EET)\n",
    "timeTo = datetime(2012, 8, 28, 16, 0, tzinfo=EET)\n",
    "\n",
    "visits = ml.getVisits(start=timeFrom, end=timeTo)\n",
    "print min(v.Start for v in visits)\n",
    "print max(v.End for v in visits)\n"
   ]
  },
  {
   "cell_type": "markdown",
   "metadata": {},
   "source": [
    "# Customising loaded data"
   ]
  },
  {
   "cell_type": "markdown",
   "metadata": {},
   "source": [
    "## Omitting nosepoke data loading\n",
    "In order to speed up the loading process you might disable loading of nosepoke data (if they are not necessary) by setting getNp option to False."
   ]
  },
  {
   "cell_type": "code",
   "execution_count": 5,
   "metadata": {
    "collapsed": false
   },
   "outputs": [
    {
     "name": "stdout",
     "output_type": "stream",
     "text": [
      "loading data from C57_AB/2012-08-28 15.33.58.zip\n",
      "None\n"
     ]
    }
   ],
   "source": [
    "ml = pm.Loader('C57_AB/2012-08-28 15.33.58.zip', getNp=False)\n",
    "visits = ml.getVisits(order=('Start', 'End'))\n",
    "visit = visits[4]\n",
    "print visit.Nosepokes"
   ]
  },
  {
   "cell_type": "markdown",
   "metadata": {},
   "source": [
    "## Loading additional data\n",
    "No log, environment nor hardware events data are loaded unless the loader is explicitely told to do so."
   ]
  },
  {
   "cell_type": "code",
   "execution_count": 6,
   "metadata": {
    "collapsed": false
   },
   "outputs": [
    {
     "name": "stdout",
     "output_type": "stream",
     "text": [
      "[]\n",
      "[]\n",
      "[]\n",
      "loading data from C57_AB/2012-08-28 15.33.58.zip\n",
      "1220\n",
      "12273\n",
      "177\n"
     ]
    }
   ],
   "source": [
    "print ml.getLog()\n",
    "print ml.getEnvironment()\n",
    "print ml.getHardwareEvents()\n",
    "ml = pm.Loader('C57_AB/2012-08-28 15.33.58.zip', getLog=True, getHw=True, getEnv=True)\n",
    "print len(ml.getLog())\n",
    "print len(ml.getEnvironment())\n",
    "print len(ml.getHardwareEvents())"
   ]
  },
  {
   "cell_type": "markdown",
   "metadata": {},
   "source": [
    "# Data validity tests\n",
    "\n",
    "It is important to be sure the data you are going to analyse are valid. For that purpose log analysis is necessary.\n",
    "\n",
    "## Log analyzers\n",
    "Log analysis is being performed on data being loaded (or merged) by a collection of log analyzers given as _`logAnalyzers`_ parameter of _`Loader`_ (or _`Merger`_  respectively) class constructor.\n",
    "\n",
    "Instances of _`LickometerLogAnalyzer`_ class checks log for lickometer problems while _`PresenceLogAnalyzer`_ - for presence of unidentified animal.\n",
    "\n",
    "If _`logAnalysers`_ parameter is not empty then it implies _`getLog`_ flag is _`True`_."
   ]
  },
  {
   "cell_type": "code",
   "execution_count": 7,
   "metadata": {
    "collapsed": false
   },
   "outputs": [
    {
     "name": "stdout",
     "output_type": "stream",
     "text": [
      "loading data from C57_AB/2012-08-28 13.44.51.zip\n",
      "loading data from C57_AB/2012-08-28 15.33.58.zip\n",
      "loading data from C57_AB/2012-08-31 11.46.31.zip\n",
      "loading data from C57_AB/2012-08-31 11.58.22.zip\n"
     ]
    }
   ],
   "source": [
    "import glob\n",
    "files = glob.glob('C57_AB/*.zip')\n",
    "\n",
    "loaders = [pm.Loader(filename, getLog=True) for filename in files]\n",
    "logAnalyzers = [pm.LickometerLogAnalyzer(),\n",
    "                pm.PresenceLogAnalyzer(),\n",
    "                ]\n",
    "mm = pm.Merger(*loaders, logAnalyzers=logAnalyzers)"
   ]
  },
  {
   "cell_type": "markdown",
   "metadata": {},
   "source": [
    "## Results of log analysis\n",
    "After the analysis is performed, you can use _`TestMiceData`_ objects to check, if there is no problem with data in a period of interest (POI).\n",
    "\n",
    "The POI in the example is defined as a period from first to last registration (obtained with _`getStart()`_ and _`getEnd()`_ methods)."
   ]
  },
  {
   "cell_type": "code",
   "execution_count": 8,
   "metadata": {
    "collapsed": false
   },
   "outputs": [
    {
     "name": "stdout",
     "output_type": "stream",
     "text": [
      "lickometer problem (from 2012-08-28 13:44:52.671000+02:00 to 2012-09-13 13:35:34.390000+02:00)\n",
      "presences ok (from 2012-08-28 13:44:52.671000+02:00 to 2012-09-13 13:35:34.390000+02:00)\n"
     ]
    }
   ],
   "source": [
    "start = mm.getStart()\n",
    "end = mm.getEnd()\n",
    "interval = (start, end)\n",
    "\n",
    "strInterval = '(from %s to %s)' % interval\n",
    "\n",
    "lickometerTester = pm.TestMiceData('Lickometer')\n",
    "presenceTester = pm.TestMiceData('Presence')\n",
    "if lickometerTester(mm, interval):\n",
    "    print \"lickometer ok \" + strInterval\n",
    "    \n",
    "else:\n",
    "    print \"lickometer problem \" + strInterval\n",
    "    \n",
    "if presenceTester(mm, interval):\n",
    "    print \"presences ok \" + strInterval\n",
    "    \n",
    "else:\n",
    "    print \"unknown mice presence problem \" + strInterval\n",
    "    "
   ]
  }
 ],
 "metadata": {
  "kernelspec": {
   "display_name": "Python 2",
   "language": "python",
   "name": "python2"
  },
  "language_info": {
   "codemirror_mode": {
    "name": "ipython",
    "version": 2
   },
   "file_extension": ".py",
   "mimetype": "text/x-python",
   "name": "python",
   "nbconvert_exporter": "python",
   "pygments_lexer": "ipython2",
   "version": "2.7.10"
  }
 },
 "nbformat": 4,
 "nbformat_minor": 0
}
