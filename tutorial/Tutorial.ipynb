{
 "metadata": {
  "name": "",
  "signature": "sha256:4588b27d9298cf9794c7bd54f6c16cfa4b4ebd38d9f28fada68c3eb616fcf215"
 },
 "nbformat": 3,
 "nbformat_minor": 0,
 "worksheets": [
  {
   "cells": [
    {
     "cell_type": "raw",
     "metadata": {},
     "source": [
      "Before we can start the tutorial we have to download and extract our dataset."
     ]
    },
    {
     "cell_type": "code",
     "collapsed": false,
     "input": [
      "!if (test ! -d C57_NaCl_1) then (wget https://www.dropbox.com/s/kxgfu7fazbwvz7e/C57_AB.zip?dl=0 -O C57_AB.zip && unzip -u C57_AB.zip) fi\n",
      "!ls -l C57_AB"
     ],
     "language": "python",
     "metadata": {
      "slideshow": {
       "slide_type": "-"
      }
     },
     "outputs": [
      {
       "output_type": "stream",
       "stream": "stdout",
       "text": [
        "--2015-03-25 23:59:52--  https://www.dropbox.com/s/kxgfu7fazbwvz7e/C57_AB.zip?dl=0\r\n"
       ]
      },
      {
       "output_type": "stream",
       "stream": "stdout",
       "text": [
        "Resolving www.dropbox.com (www.dropbox.com)... "
       ]
      },
      {
       "output_type": "stream",
       "stream": "stdout",
       "text": [
        "108.160.165.139\r\n",
        "Connecting to www.dropbox.com (www.dropbox.com)|108.160.165.139|:443... "
       ]
      },
      {
       "output_type": "stream",
       "stream": "stdout",
       "text": [
        "connected.\r\n"
       ]
      },
      {
       "output_type": "stream",
       "stream": "stdout",
       "text": [
        "HTTP request sent, awaiting response... "
       ]
      },
      {
       "output_type": "stream",
       "stream": "stdout",
       "text": [
        "302 FOUND\r\n",
        "Location: https://dl.dropboxusercontent.com/content_link/vIQd6tLa6D742xQGSiDL4kBovCX2y2ZP6aIJo2gw2gvAlg6DnhM2qHXxmaR7zvp7 [following]\r\n",
        "--2015-03-25 23:59:54--  https://dl.dropboxusercontent.com/content_link/vIQd6tLa6D742xQGSiDL4kBovCX2y2ZP6aIJo2gw2gvAlg6DnhM2qHXxmaR7zvp7\r\n",
        "Resolving dl.dropboxusercontent.com (dl.dropboxusercontent.com)... "
       ]
      },
      {
       "output_type": "stream",
       "stream": "stdout",
       "text": [
        "23.23.107.71, 184.73.202.105, 184.73.187.123, ...\r\n",
        "Connecting to dl.dropboxusercontent.com (dl.dropboxusercontent.com)|23.23.107.71|:443... "
       ]
      },
      {
       "output_type": "stream",
       "stream": "stdout",
       "text": [
        "connected.\r\n"
       ]
      },
      {
       "output_type": "stream",
       "stream": "stdout",
       "text": [
        "HTTP request sent, awaiting response... "
       ]
      },
      {
       "output_type": "stream",
       "stream": "stdout",
       "text": [
        "200 OK\r\n"
       ]
      },
      {
       "output_type": "stream",
       "stream": "stdout",
       "text": [
        "Length: 4391493 (4.2M) [application/zip]\r\n",
        "Saving to: `C57_AB.zip'\r\n",
        "\r\n",
        "\r",
        " 0% [                                       ] 0           --.-K/s              "
       ]
      },
      {
       "output_type": "stream",
       "stream": "stdout",
       "text": [
        "\r",
        " 0% [                                       ] 40,342       107K/s              "
       ]
      },
      {
       "output_type": "stream",
       "stream": "stdout",
       "text": [
        "\r",
        " 1% [                                       ] 73,110       117K/s              "
       ]
      },
      {
       "output_type": "stream",
       "stream": "stdout",
       "text": [
        "\r",
        " 2% [>                                      ] 122,262      147K/s              "
       ]
      },
      {
       "output_type": "stream",
       "stream": "stdout",
       "text": [
        "\r",
        " 3% [>                                      ] 155,030      146K/s              "
       ]
      },
      {
       "output_type": "stream",
       "stream": "stdout",
       "text": [
        "\r",
        " 4% [>                                      ] 187,798      133K/s              "
       ]
      },
      {
       "output_type": "stream",
       "stream": "stdout",
       "text": [
        "\r",
        " 5% [=>                                     ] 253,334      152K/s              "
       ]
      },
      {
       "output_type": "stream",
       "stream": "stdout",
       "text": [
        "\r",
        " 6% [=>                                     ] 286,102      146K/s              "
       ]
      },
      {
       "output_type": "stream",
       "stream": "stdout",
       "text": [
        "\r",
        " 7% [=>                                     ] 318,870      142K/s              "
       ]
      },
      {
       "output_type": "stream",
       "stream": "stdout",
       "text": [
        "\r",
        " 8% [==>                                    ] 384,406      155K/s              "
       ]
      },
      {
       "output_type": "stream",
       "stream": "stdout",
       "text": [
        "\r",
        " 9% [==>                                    ] 417,174      155K/s              "
       ]
      },
      {
       "output_type": "stream",
       "stream": "stdout",
       "text": [
        "\r",
        "10% [==>                                    ] 449,942      149K/s              "
       ]
      },
      {
       "output_type": "stream",
       "stream": "stdout",
       "text": [
        "\r",
        "11% [===>                                   ] 499,094      154K/s  eta 25s     "
       ]
      },
      {
       "output_type": "stream",
       "stream": "stdout",
       "text": [
        "\r",
        "12% [===>                                   ] 548,246      158K/s  eta 25s     "
       ]
      },
      {
       "output_type": "stream",
       "stream": "stdout",
       "text": [
        "\r",
        "13% [====>                                  ] 581,014      157K/s  eta 25s     "
       ]
      },
      {
       "output_type": "stream",
       "stream": "stdout",
       "text": [
        "\r",
        "13% [====>                                  ] 613,782      153K/s  eta 25s     "
       ]
      },
      {
       "output_type": "stream",
       "stream": "stdout",
       "text": [
        "\r",
        "15% [=====>                                 ] 679,318      160K/s  eta 25s     "
       ]
      },
      {
       "output_type": "stream",
       "stream": "stdout",
       "text": [
        "\r",
        "16% [=====>                                 ] 728,470      163K/s  eta 22s     "
       ]
      },
      {
       "output_type": "stream",
       "stream": "stdout",
       "text": [
        "\r",
        "17% [=====>                                 ] 761,238      167K/s  eta 22s     "
       ]
      },
      {
       "output_type": "stream",
       "stream": "stdout",
       "text": [
        "\r",
        "18% [======>                                ] 794,006      163K/s  eta 22s     "
       ]
      },
      {
       "output_type": "stream",
       "stream": "stdout",
       "text": [
        "\r",
        "19% [======>                                ] 859,542      169K/s  eta 22s     "
       ]
      },
      {
       "output_type": "stream",
       "stream": "stdout",
       "text": [
        "\r",
        "21% [=======>                               ] 925,078      181K/s  eta 20s     "
       ]
      },
      {
       "output_type": "stream",
       "stream": "stdout",
       "text": [
        "\r",
        "21% [=======>                               ] 957,846      175K/s  eta 20s     "
       ]
      },
      {
       "output_type": "stream",
       "stream": "stdout",
       "text": [
        "\r",
        "22% [=======>                               ] 990,614      175K/s  eta 20s     "
       ]
      },
      {
       "output_type": "stream",
       "stream": "stdout",
       "text": [
        "\r",
        "23% [========>                              ] 1,039,766    185K/s  eta 20s     "
       ]
      },
      {
       "output_type": "stream",
       "stream": "stdout",
       "text": [
        "\r",
        "25% [========>                              ] 1,105,302    186K/s  eta 20s     "
       ]
      },
      {
       "output_type": "stream",
       "stream": "stdout",
       "text": [
        "\r",
        "26% [=========>                             ] 1,154,454    189K/s  eta 18s     "
       ]
      },
      {
       "output_type": "stream",
       "stream": "stdout",
       "text": [
        "\r",
        "27% [=========>                             ] 1,187,222    188K/s  eta 18s     "
       ]
      },
      {
       "output_type": "stream",
       "stream": "stdout",
       "text": [
        "\r",
        "27% [=========>                             ] 1,219,990    186K/s  eta 18s     "
       ]
      },
      {
       "output_type": "stream",
       "stream": "stdout",
       "text": [
        "\r",
        "28% [==========>                            ] 1,252,758    180K/s  eta 18s     \r",
        "28% [==========>                            ] 1,260,950    174K/s  eta 18s     "
       ]
      },
      {
       "output_type": "stream",
       "stream": "stdout",
       "text": [
        "\r",
        "30% [==========>                            ] 1,334,678    185K/s  eta 18s     "
       ]
      },
      {
       "output_type": "stream",
       "stream": "stdout",
       "text": [
        "\r",
        "31% [===========>                           ] 1,383,830    190K/s  eta 18s     "
       ]
      },
      {
       "output_type": "stream",
       "stream": "stdout",
       "text": [
        "\r",
        "32% [===========>                           ] 1,432,982    187K/s  eta 18s     "
       ]
      },
      {
       "output_type": "stream",
       "stream": "stdout",
       "text": [
        "\r",
        "33% [============>                          ] 1,465,750    182K/s  eta 18s     "
       ]
      },
      {
       "output_type": "stream",
       "stream": "stdout",
       "text": [
        "\r",
        "34% [============>                          ] 1,498,518    182K/s  eta 18s     "
       ]
      },
      {
       "output_type": "stream",
       "stream": "stdout",
       "text": [
        "\r",
        "34% [============>                          ] 1,531,286    183K/s  eta 16s     "
       ]
      },
      {
       "output_type": "stream",
       "stream": "stdout",
       "text": [
        "\r",
        "35% [============>                          ] 1,564,054    184K/s  eta 16s     "
       ]
      },
      {
       "output_type": "stream",
       "stream": "stdout",
       "text": [
        "\r",
        "36% [=============>                         ] 1,596,822    178K/s  eta 16s     "
       ]
      },
      {
       "output_type": "stream",
       "stream": "stdout",
       "text": [
        "\r",
        "37% [=============>                         ] 1,629,590    172K/s  eta 16s     "
       ]
      },
      {
       "output_type": "stream",
       "stream": "stdout",
       "text": [
        "\r",
        "38% [=============>                         ] 1,678,742    173K/s  eta 16s     "
       ]
      },
      {
       "output_type": "stream",
       "stream": "stdout",
       "text": [
        "\r",
        "39% [==============>                        ] 1,727,894    177K/s  eta 15s     "
       ]
      },
      {
       "output_type": "stream",
       "stream": "stdout",
       "text": [
        "\r",
        "40% [==============>                        ] 1,777,046    182K/s  eta 15s     "
       ]
      },
      {
       "output_type": "stream",
       "stream": "stdout",
       "text": [
        "\r",
        "41% [===============>                       ] 1,826,198    183K/s  eta 15s     "
       ]
      },
      {
       "output_type": "stream",
       "stream": "stdout",
       "text": [
        "\r",
        "42% [===============>                       ] 1,875,350    180K/s  eta 15s     "
       ]
      },
      {
       "output_type": "stream",
       "stream": "stdout",
       "text": [
        "\r",
        "43% [================>                      ] 1,924,502    179K/s  eta 15s     "
       ]
      },
      {
       "output_type": "stream",
       "stream": "stdout",
       "text": [
        "\r",
        "44% [================>                      ] 1,957,270    177K/s  eta 14s     "
       ]
      },
      {
       "output_type": "stream",
       "stream": "stdout",
       "text": [
        "\r",
        "45% [================>                      ] 2,006,422    181K/s  eta 14s     "
       ]
      },
      {
       "output_type": "stream",
       "stream": "stdout",
       "text": [
        "\r",
        "46% [=================>                     ] 2,055,574    183K/s  eta 14s     "
       ]
      },
      {
       "output_type": "stream",
       "stream": "stdout",
       "text": [
        "\r",
        "47% [=================>                     ] 2,088,342    189K/s  eta 14s     "
       ]
      },
      {
       "output_type": "stream",
       "stream": "stdout",
       "text": [
        "\r",
        "48% [=================>                     ] 2,137,494    179K/s  eta 13s     "
       ]
      },
      {
       "output_type": "stream",
       "stream": "stdout",
       "text": [
        "\r",
        "49% [==================>                    ] 2,170,262    177K/s  eta 13s     "
       ]
      },
      {
       "output_type": "stream",
       "stream": "stdout",
       "text": [
        "\r",
        "50% [==================>                    ] 2,219,414    177K/s  eta 13s     "
       ]
      },
      {
       "output_type": "stream",
       "stream": "stdout",
       "text": [
        "\r",
        "51% [===================>                   ] 2,268,566    180K/s  eta 13s     "
       ]
      },
      {
       "output_type": "stream",
       "stream": "stdout",
       "text": [
        "\r",
        "52% [===================>                   ] 2,317,718    183K/s  eta 13s     "
       ]
      },
      {
       "output_type": "stream",
       "stream": "stdout",
       "text": [
        "\r",
        "54% [====================>                  ] 2,383,254    189K/s  eta 11s     "
       ]
      },
      {
       "output_type": "stream",
       "stream": "stdout",
       "text": [
        "\r",
        "55% [====================>                  ] 2,432,406    194K/s  eta 11s     "
       ]
      },
      {
       "output_type": "stream",
       "stream": "stdout",
       "text": [
        "\r",
        "56% [=====================>                 ] 2,481,558    196K/s  eta 11s     "
       ]
      },
      {
       "output_type": "stream",
       "stream": "stdout",
       "text": [
        "\r",
        "57% [=====================>                 ] 2,530,710    195K/s  eta 11s     "
       ]
      },
      {
       "output_type": "stream",
       "stream": "stdout",
       "text": [
        "\r",
        "58% [=====================>                 ] 2,579,862    194K/s  eta 11s     "
       ]
      },
      {
       "output_type": "stream",
       "stream": "stdout",
       "text": [
        "\r",
        "59% [======================>                ] 2,629,014    193K/s  eta 10s     "
       ]
      },
      {
       "output_type": "stream",
       "stream": "stdout",
       "text": [
        "\r",
        "60% [======================>                ] 2,678,166    193K/s  eta 10s     "
       ]
      },
      {
       "output_type": "stream",
       "stream": "stdout",
       "text": [
        "\r",
        "62% [=======================>               ] 2,727,318    191K/s  eta 10s     "
       ]
      },
      {
       "output_type": "stream",
       "stream": "stdout",
       "text": [
        "\r",
        "63% [=======================>               ] 2,776,470    195K/s  eta 10s     "
       ]
      },
      {
       "output_type": "stream",
       "stream": "stdout",
       "text": [
        "\r",
        "63% [=======================>               ] 2,809,238    193K/s  eta 10s     "
       ]
      },
      {
       "output_type": "stream",
       "stream": "stdout",
       "text": [
        "\r",
        "65% [========================>              ] 2,858,390    195K/s  eta 8s      "
       ]
      },
      {
       "output_type": "stream",
       "stream": "stdout",
       "text": [
        "\r",
        "65% [========================>              ] 2,891,158    195K/s  eta 8s      "
       ]
      },
      {
       "output_type": "stream",
       "stream": "stdout",
       "text": [
        "\r",
        "66% [=========================>             ] 2,940,310    197K/s  eta 8s      "
       ]
      },
      {
       "output_type": "stream",
       "stream": "stdout",
       "text": [
        "\r",
        "68% [=========================>             ] 2,989,462    198K/s  eta 8s      "
       ]
      },
      {
       "output_type": "stream",
       "stream": "stdout",
       "text": [
        "\r",
        "68% [=========================>             ] 3,022,230    198K/s  eta 8s      "
       ]
      },
      {
       "output_type": "stream",
       "stream": "stdout",
       "text": [
        "\r",
        "69% [==========================>            ] 3,071,382    196K/s  eta 7s      "
       ]
      },
      {
       "output_type": "stream",
       "stream": "stdout",
       "text": [
        "\r",
        "71% [==========================>            ] 3,120,534    192K/s  eta 7s      "
       ]
      },
      {
       "output_type": "stream",
       "stream": "stdout",
       "text": [
        "\r",
        "72% [===========================>           ] 3,169,686    192K/s  eta 7s      "
       ]
      },
      {
       "output_type": "stream",
       "stream": "stdout",
       "text": [
        "\r",
        "73% [===========================>           ] 3,218,838    189K/s  eta 7s      "
       ]
      },
      {
       "output_type": "stream",
       "stream": "stdout",
       "text": [
        "\r",
        "74% [============================>          ] 3,267,990    187K/s  eta 7s      "
       ]
      },
      {
       "output_type": "stream",
       "stream": "stdout",
       "text": [
        "\r",
        "75% [============================>          ] 3,317,142    187K/s  eta 6s      "
       ]
      },
      {
       "output_type": "stream",
       "stream": "stdout",
       "text": [
        "\r",
        "76% [============================>          ] 3,366,294    187K/s  eta 6s      "
       ]
      },
      {
       "output_type": "stream",
       "stream": "stdout",
       "text": [
        "\r",
        "77% [=============================>         ] 3,415,446    190K/s  eta 6s      "
       ]
      },
      {
       "output_type": "stream",
       "stream": "stdout",
       "text": [
        "\r",
        "78% [=============================>         ] 3,464,598    193K/s  eta 6s      "
       ]
      },
      {
       "output_type": "stream",
       "stream": "stdout",
       "text": [
        "\r",
        "80% [==============================>        ] 3,530,134    198K/s  eta 6s      "
       ]
      },
      {
       "output_type": "stream",
       "stream": "stdout",
       "text": [
        "\r",
        "81% [==============================>        ] 3,595,670    207K/s  eta 4s      "
       ]
      },
      {
       "output_type": "stream",
       "stream": "stdout",
       "text": [
        "\r",
        "82% [===============================>       ] 3,612,054    192K/s  eta 4s      "
       ]
      },
      {
       "output_type": "stream",
       "stream": "stdout",
       "text": [
        "\r",
        "85% [================================>      ] 3,775,894    225K/s  eta 4s      "
       ]
      },
      {
       "output_type": "stream",
       "stream": "stdout",
       "text": [
        "\r",
        "87% [=================================>     ] 3,841,430    230K/s  eta 4s      "
       ]
      },
      {
       "output_type": "stream",
       "stream": "stdout",
       "text": [
        "\r",
        "88% [=================================>     ] 3,890,582    235K/s  eta 3s      "
       ]
      },
      {
       "output_type": "stream",
       "stream": "stdout",
       "text": [
        "\r",
        "89% [=================================>     ] 3,939,734    235K/s  eta 3s      "
       ]
      },
      {
       "output_type": "stream",
       "stream": "stdout",
       "text": [
        "\r",
        "90% [==================================>    ] 3,988,886    234K/s  eta 3s      "
       ]
      },
      {
       "output_type": "stream",
       "stream": "stdout",
       "text": [
        "\r",
        "91% [==================================>    ] 4,038,038    237K/s  eta 3s      "
       ]
      },
      {
       "output_type": "stream",
       "stream": "stdout",
       "text": [
        "\r",
        "93% [===================================>   ] 4,087,190    234K/s  eta 3s      "
       ]
      },
      {
       "output_type": "stream",
       "stream": "stdout",
       "text": [
        "\r",
        "94% [===================================>   ] 4,136,342    237K/s  eta 1s      "
       ]
      },
      {
       "output_type": "stream",
       "stream": "stdout",
       "text": [
        "\r",
        "95% [====================================>  ] 4,185,494    239K/s  eta 1s      "
       ]
      },
      {
       "output_type": "stream",
       "stream": "stdout",
       "text": [
        "\r",
        "96% [====================================>  ] 4,251,030    242K/s  eta 1s      "
       ]
      },
      {
       "output_type": "stream",
       "stream": "stdout",
       "text": [
        "\r",
        "98% [=====================================> ] 4,316,566    243K/s  eta 1s      "
       ]
      },
      {
       "output_type": "stream",
       "stream": "stdout",
       "text": [
        "\r",
        "99% [=====================================> ] 4,365,718    242K/s  eta 1s      "
       ]
      },
      {
       "output_type": "stream",
       "stream": "stdout",
       "text": [
        "\r",
        "100%[======================================>] 4,391,493    244K/s   in 22s     \r\n",
        "\r\n",
        "2015-03-26 00:00:18 (193 KB/s) - `C57_AB.zip' saved [4391493/4391493]\r\n",
        "\r\n",
        "Archive:  C57_AB.zip\r\n"
       ]
      },
      {
       "output_type": "stream",
       "stream": "stdout",
       "text": [
        "total 4336\r\n",
        "-rw-r--r-- 1 abukaj abukaj   86480 Mar 25 23:35 2012-08-28 13.44.51.zip\r\n",
        "-rw-r--r-- 1 abukaj abukaj  494921 Mar 25 23:36 2012-08-28 15.33.58.zip\r\n",
        "-rw-r--r-- 1 abukaj abukaj   29344 Mar 25 23:37 2012-08-31 11.46.31.zip\r\n",
        "-rw-r--r-- 1 abukaj abukaj 3818445 Mar 25 23:41 2012-08-31 11.58.22.zip\r\n"
       ]
      }
     ],
     "prompt_number": 1
    },
    {
     "cell_type": "raw",
     "metadata": {},
     "source": [
      "Now we import the library aliaseed as \"pm\". It is assumed you have already installed it."
     ]
    },
    {
     "cell_type": "code",
     "collapsed": false,
     "input": [
      "import pymice as pm"
     ],
     "language": "python",
     "metadata": {},
     "outputs": [],
     "prompt_number": 2
    },
    {
     "cell_type": "raw",
     "metadata": {},
     "source": [
      "We load data from one of files to investigate it. Then we check what animals has been registered in the cage."
     ]
    },
    {
     "cell_type": "code",
     "collapsed": false,
     "input": [
      "ml = pm.Loader('C57_AB/2012-08-28 15.33.58.zip')\n",
      "ml.getAnimal()"
     ],
     "language": "python",
     "metadata": {},
     "outputs": [
      {
       "output_type": "stream",
       "stream": "stdout",
       "text": [
        "loading data from C57_AB/2012-08-28 15.33.58.zip\n"
       ]
      },
      {
       "metadata": {},
       "output_type": "pyout",
       "prompt_number": 13,
       "text": [
        "frozenset({u'C57 A 1',\n",
        "           u'C57 A 10',\n",
        "           u'C57 A 11',\n",
        "           u'C57 A 2',\n",
        "           u'C57 A 3',\n",
        "           u'C57 A 4',\n",
        "           u'C57 A 5',\n",
        "           u'C57 A 6',\n",
        "           u'C57 A 7',\n",
        "           u'C57 A 8',\n",
        "           u'C57 A 9',\n",
        "           u'C57 B 1',\n",
        "           u'C57 B 10',\n",
        "           u'C57 B 11',\n",
        "           u'C57 B 12',\n",
        "           u'C57 B 2',\n",
        "           u'C57 B 3',\n",
        "           u'C57 B 4',\n",
        "           u'C57 B 5',\n",
        "           u'C57 B 6',\n",
        "           u'C57 B 7',\n",
        "           u'C57 B 8',\n",
        "           u'C57 B 9'})"
       ]
      }
     ],
     "prompt_number": 13
    },
    {
     "cell_type": "raw",
     "metadata": {},
     "source": [
      "By getAnimal() method we can also obtain object containing basic information about particular animal."
     ]
    },
    {
     "cell_type": "code",
     "collapsed": false,
     "input": [
      "animal = ml.getAnimal('C57 A 1')\n",
      "print type(animal)\n",
      "print animal.Name\n",
      "print animal.Sex\n",
      "print animal.Tag\n"
     ],
     "language": "python",
     "metadata": {},
     "outputs": [
      {
       "output_type": "stream",
       "stream": "stdout",
       "text": [
        "<class 'pymice.ICNodes.AnimalNode'>\n",
        "C57 A 1\n",
        "Male\n",
        "981098104282931\n"
       ]
      }
     ],
     "prompt_number": 15
    },
    {
     "cell_type": "raw",
     "metadata": {},
     "source": [
      "It is also possible to use \"shortcuts\" to access the information."
     ]
    },
    {
     "cell_type": "code",
     "collapsed": false,
     "input": [
      "print repr(animal)\n",
      "print unicode(animal)\n",
      "print unicode(animal) == animal.Name"
     ],
     "language": "python",
     "metadata": {},
     "outputs": [
      {
       "output_type": "stream",
       "stream": "stdout",
       "text": [
        "Animal C57 A 1(Male; Tag: 981098104282931)\n",
        "C57 A 1\n",
        "True\n"
       ]
      }
     ],
     "prompt_number": 16
    },
    {
     "cell_type": "raw",
     "metadata": {},
     "source": [
      "Animals are housed in cages and with \"getCage()\" method we can check in which cage(s) the animal was detected.\n",
      "The cage object is guaranted to be convertable to an integer.\n",
      "Then we can check (with \"getInmates()\" method) which mice were housed in the cage."
     ]
    },
    {
     "cell_type": "code",
     "collapsed": false,
     "input": [
      "cage = ml.getCage(animal.Name)\n",
      "print int(cage)\n",
      "print\n",
      "print \"Mice housed in cage #%d:\" % cage\n",
      "mice = ml.getInmates(cage)\n",
      "for mouse in mice:\n",
      "    print mouse"
     ],
     "language": "python",
     "metadata": {},
     "outputs": [
      {
       "output_type": "stream",
       "stream": "stdout",
       "text": [
        "2\n",
        "\n",
        "Mice housed in cage #2:\n",
        "C57 A 7\n",
        "C57 A 8\n",
        "C57 A 11\n",
        "C57 A 1\n",
        "C57 A 2\n",
        "C57 A 10\n",
        "C57 A 3\n",
        "C57 A 4\n",
        "C57 A 9\n",
        "C57 A 5\n",
        "C57 A 6\n"
       ]
      }
     ],
     "prompt_number": 17
    },
    {
     "cell_type": "raw",
     "metadata": {},
     "source": [
      "The method (getInmates()) can be also used to list available cages."
     ]
    },
    {
     "cell_type": "code",
     "collapsed": false,
     "input": [
      "print ml.getInmates()"
     ],
     "language": "python",
     "metadata": {},
     "outputs": [
      {
       "output_type": "stream",
       "stream": "stdout",
       "text": [
        "frozenset([1, 2])\n"
       ]
      }
     ],
     "prompt_number": 18
    },
    {
     "cell_type": "raw",
     "metadata": {},
     "source": [
      "Animals might be also assigned to certain groups. To list them (as well to obtaing object containing information about a particular group), we use \"getGroup()\" method.\n"
     ]
    },
    {
     "cell_type": "code",
     "collapsed": false,
     "input": [
      "print ml.getGroup()\n",
      "group = ml.getGroup('C57 A')\n",
      "print \"Animals of group %s:\" % group.Name\n",
      "for mouse in group.Animals:\n",
      "    print repr(mouse)"
     ],
     "language": "python",
     "metadata": {},
     "outputs": [
      {
       "output_type": "stream",
       "stream": "stdout",
       "text": [
        "frozenset(['C57 B', 'C57 A'])\n",
        "Animals of group C57 A:\n",
        "Animal C57 A 1(Male; Tag: 981098104282931)\n",
        "Animal C57 A 2(Male; Tag: 981098104281654)\n",
        "Animal C57 A 3(Male; Tag: 981098104282989)\n",
        "Animal C57 A 4(Male; Tag: 981098104282431)\n",
        "Animal C57 A 5(Male; Tag: 981098104282496)\n",
        "Animal C57 A 6(Male; Tag: 981098104281799)\n",
        "Animal C57 A 7(Male; Tag: 981098104282860)\n",
        "Animal C57 A 8(Male; Tag: 981098104282884)\n",
        "Animal C57 A 9(Male; Tag: 981098104282669)\n",
        "Animal C57 A 10(Male; Tag: 981098104281067)\n",
        "Animal C57 A 11(Male; Tag: 981098104282249)\n"
       ]
      }
     ],
     "prompt_number": 21
    },
    {
     "cell_type": "raw",
     "metadata": {},
     "source": [
      "But what interests us the most in IntelliCage data are visits of animals."
     ]
    },
    {
     "cell_type": "code",
     "collapsed": false,
     "input": [
      "visits = ml.getVisits()\n",
      "print type(visits), len(visits)\n",
      "visit = visits[0]\n",
      "print type(visit)"
     ],
     "language": "python",
     "metadata": {},
     "outputs": [
      {
       "output_type": "stream",
       "stream": "stdout",
       "text": [
        "<type 'list'> 7562\n",
        "<class 'pymice.ICNodes.VisitNode'>\n"
       ]
      }
     ],
     "prompt_number": 23
    },
    {
     "cell_type": "raw",
     "metadata": {},
     "source": [
      "Every visit object contains information about one visit to a corner.\n",
      "\n",
      "\"Animal\" attribute is an AnimalNode object we are already familiar with.\n",
      "\n",
      "\"Cage\" and \"Corner\" attributes are guaranted to be convertable to int.\n",
      "\n",
      "Attributes \"Start\", \"End\" and \"Duration\" of the visit object are guaranted to be convertable to a float number. In case of \"Duration\" attribute the number is a duration given in seconds; in case of \"Start\" and \"End\" attributes it is a number of seconds that have passed from the beginning of UNIX epoch (1st Jan 1970 0:00:00) - so called timestamp - to start and end of the visit respectively."
     ]
    },
    {
     "cell_type": "code",
     "collapsed": false,
     "input": [
      "print \"visit of %s in cage #%d to corner #%d\" % (visit.Animal, visit.Cage, visit.Corner)\n",
      "\n",
      "from datetime import datetime\n",
      "vStart = datetime.fromtimestamp(float(visit.Start))\n",
      "vEnd = datetime.fromtimestamp(float(visit.End))\n",
      "print \"visit duration: %.2fs (from %s to %s)\" % (visit.Duration, vStart, vEnd)\n",
      "print visit.Nosepokes"
     ],
     "language": "python",
     "metadata": {},
     "outputs": [
      {
       "output_type": "stream",
       "stream": "stdout",
       "text": [
        "visit of C57 A 7 in cage #2 to corner #3\n",
        "visit duration: 8.88s (from 2012-08-28 16:34:14.140000 to 2012-08-28 16:34:23.015000)\n",
        "None\n"
       ]
      }
     ],
     "prompt_number": 24
    },
    {
     "cell_type": "raw",
     "metadata": {},
     "source": [
      "We can see that nosepoke information is not available. It is necessary to explicitely enable it in the Loader.\n",
      "\n"
     ]
    },
    {
     "cell_type": "code",
     "collapsed": false,
     "input": [
      "ml = pm.Loader('C57_AB/2012-08-28 15.33.58.zip', getNp=True)\n",
      "visits = ml.getVisits(order=('Start', 'End'))\n",
      "visit = visits[4]\n",
      "print type(visit.Nosepokes), len(visit.Nosepokes)"
     ],
     "language": "python",
     "metadata": {},
     "outputs": [
      {
       "output_type": "stream",
       "stream": "stdout",
       "text": [
        "loading data from C57_AB/2012-08-28 15.33.58.zip\n",
        "<type 'tuple'>"
       ]
      },
      {
       "output_type": "stream",
       "stream": "stdout",
       "text": [
        " 3\n"
       ]
      }
     ],
     "prompt_number": 27
    },
    {
     "cell_type": "raw",
     "metadata": {},
     "source": [
      "The \"order\" attribute of \"getVisits()\" method has been provided to have the visits sorted that the sixty fourth visit (of index 4) has more than one nosepoke associated with it and at least one lick to the bottle.\n",
      "\n",
      "\"Start\", \"End\" and \"Duration\" attributes are analogous to those of the visit node. \"Side\" attribute is guaranted to be convertable to an integer. \"Visit\" attribute is the same visit object the nosepoke is assigned to."
     ]
    },
    {
     "cell_type": "code",
     "collapsed": false,
     "input": [
      "visit = visits[4]\n",
      "nosepoke = visit.Nosepokes[1]\n",
      "print type(nosepoke)\n",
      "nStart = datetime.fromtimestamp(float(nosepoke.Start))\n",
      "nEnd = datetime.fromtimestamp(float(nosepoke.End))\n",
      "print \"nosepoke to side #%d (of the cage #%d)\" % (nosepoke.Side, nosepoke.Visit.Cage)\n",
      "print \"nosepoke duration: %.2fs (from %s to %s)\" % (nosepoke.Duration, nStart, nEnd)\n",
      "print \"licks taken %d, licking time: %.2f\" % (nosepoke.LickNumber, nosepoke.LickDuration)\n",
      "print sum(n.LickNumber for n in visit.Nosepokes) == visit.LickNumber\n",
      "print sum(n.LickDuration for n in visit.Nosepokes) == visit.LickDuration\n",
      "print nosepoke.Visit is visit"
     ],
     "language": "python",
     "metadata": {},
     "outputs": [
      {
       "output_type": "stream",
       "stream": "stdout",
       "text": [
        "<class 'pymice.ICNodes.NosepokeNode'>\n",
        "nosepoke to side #7 (of the cage #2)\n",
        "nosepoke duration: 0.29s (from 2012-08-28 16:34:54.350000 to 2012-08-28 16:34:54.640000)\n",
        "licks taken 1, licking time: 0.28\n",
        "True\n",
        "True\n",
        "True\n"
       ]
      }
     ],
     "prompt_number": 28
    },
    {
     "cell_type": "raw",
     "metadata": {},
     "source": [
      "There is often many data files recorded from one experiment. To merge them into one object we have to load them first into a \"Loader\" and then create an object of \"Merger\" class.\n"
     ]
    },
    {
     "cell_type": "code",
     "collapsed": false,
     "input": [
      "import glob\n",
      "files = glob.glob('C57_AB/*.zip')\n",
      "loaders = [pm.Loader(filename, getNp=True) for filename in files]\n",
      "mm = pm.Merger(*loaders, getNp=True)"
     ],
     "language": "python",
     "metadata": {},
     "outputs": [
      {
       "output_type": "stream",
       "stream": "stdout",
       "text": [
        "loading data from C57_AB/2012-08-28 13.44.51.zip\n",
        "loading data from C57_AB/2012-08-31 11.58.22.zip"
       ]
      },
      {
       "output_type": "stream",
       "stream": "stdout",
       "text": [
        "\n",
        "loading data from C57_AB/2012-08-28 15.33.58.zip"
       ]
      },
      {
       "output_type": "stream",
       "stream": "stdout",
       "text": [
        "\n",
        "loading data from C57_AB/2012-08-31 11.46.31.zip"
       ]
      },
      {
       "output_type": "stream",
       "stream": "stdout",
       "text": [
        "\n",
        "Possible temporal overlap of visits"
       ]
      },
      {
       "output_type": "stream",
       "stream": "stdout",
       "text": [
        "\n",
        "Possible temporal overlap of visits"
       ]
      },
      {
       "output_type": "stream",
       "stream": "stdout",
       "text": [
        "\n"
       ]
      }
     ],
     "prompt_number": 29
    },
    {
     "cell_type": "code",
     "collapsed": false,
     "input": [],
     "language": "python",
     "metadata": {},
     "outputs": [],
     "prompt_number": 13
    }
   ],
   "metadata": {}
  }
 ]
}