{
 "metadata": {
  "name": ""
 },
 "nbformat": 3,
 "nbformat_minor": 0,
 "worksheets": [
  {
   "cells": [
    {
     "cell_type": "raw",
     "metadata": {},
     "source": [
      "Before we can start the tutorial we have to download and extract our dataset."
     ]
    },
    {
     "cell_type": "code",
     "collapsed": false,
     "input": [
      "!if (test ! -d C57_NaCl_1) then (wget https://www.dropbox.com/s/xwzwzfxohds791v/C57_NaCl_1.zip?dl=0 -O C57_NaCl_1.zip && unzip -u C57_NaCl_1.zip) fi\n",
      "!ls -l C57_NaCl_1"
     ],
     "language": "python",
     "metadata": {
      "slideshow": {
       "slide_type": "-"
      }
     },
     "outputs": [
      {
       "output_type": "stream",
       "stream": "stdout",
       "text": [
        "total 47336\r\n",
        "-rw-r--r-- 1 jkowalski prneuroinf  2360894 Mar 13  2013 2013-03-12 13.00.52.zip\r\n",
        "-rw-r--r-- 1 jkowalski prneuroinf    21373 Mar 13  2013 2013-03-13 11.58.20.zip\r\n",
        "-rw-r--r-- 1 jkowalski prneuroinf  4897214 Mar 15  2013 2013-03-13 12.01.01.zip\r\n",
        "-rw-r--r-- 1 jkowalski prneuroinf  8586446 Mar 18  2013 2013-03-15 11.50.34.zip\r\n",
        "-rw-r--r-- 1 jkowalski prneuroinf 11664871 Mar 21  2013 2013-03-18 11.56.27.zip\r\n",
        "-rw-r--r-- 1 jkowalski prneuroinf 12777724 Mar 25  2013 2013-03-21 11.46.37.zip\r\n",
        "-rw-r--r-- 1 jkowalski prneuroinf  8148155 Mar 28  2013 2013-03-25 09.12.45.zip\r\n"
       ]
      }
     ],
     "prompt_number": 1
    },
    {
     "cell_type": "raw",
     "metadata": {},
     "source": [
      "Now we import the library aliaseed as \"pm\". It is assumed you have already installed it."
     ]
    },
    {
     "cell_type": "code",
     "collapsed": false,
     "input": [
      "import pymice as pm"
     ],
     "language": "python",
     "metadata": {},
     "outputs": [],
     "prompt_number": 2
    },
    {
     "cell_type": "raw",
     "metadata": {},
     "source": [
      "We load data from one of files to investigate it. Then we check what animals has been registered in the cage."
     ]
    },
    {
     "cell_type": "code",
     "collapsed": false,
     "input": [
      "ml = pm.Loader('C57_NaCl_1/2013-03-12 13.00.52.zip')\n",
      "ml.getAnimal()"
     ],
     "language": "python",
     "metadata": {},
     "outputs": [
      {
       "output_type": "stream",
       "stream": "stdout",
       "text": [
        "loading data from C57_NaCl_1/2013-03-12 13.00.52.zip\n"
       ]
      },
      {
       "metadata": {},
       "output_type": "pyout",
       "prompt_number": 3,
       "text": [
        "frozenset({u'C57 NaCl (1) 1',\n",
        "           u'C57 NaCl (1) 2',\n",
        "           u'C57 NaCl (1) 3',\n",
        "           u'C57 NaCl (1) 4',\n",
        "           u'C57 NaCl (1) 5',\n",
        "           u'C57 NaCl (1) 6',\n",
        "           u'C57 NaCl (1) 7',\n",
        "           u'C57 NaCl (1) 8',\n",
        "           u'C57 NaCl (1) 9',\n",
        "           u'MMP9 1',\n",
        "           u'MMP9 2',\n",
        "           u'MMP9 3',\n",
        "           u'MMP9 4',\n",
        "           u'MMP9 5',\n",
        "           u'MMP9 6',\n",
        "           u'MMP9 7'})"
       ]
      }
     ],
     "prompt_number": 3
    },
    {
     "cell_type": "raw",
     "metadata": {},
     "source": [
      "By getAnimal() method we can also obtain object containing basic information about particular animal."
     ]
    },
    {
     "cell_type": "code",
     "collapsed": false,
     "input": [
      "animal = ml.getAnimal('C57 NaCl (1) 1')\n",
      "print type(animal)\n",
      "print animal.Name\n",
      "print animal.Sex\n",
      "print animal.Tag\n"
     ],
     "language": "python",
     "metadata": {},
     "outputs": [
      {
       "output_type": "stream",
       "stream": "stdout",
       "text": [
        "<class 'pymice.ICNodes.AnimalNode'>\n",
        "C57 NaCl (1) 1\n",
        "Male\n",
        "981098104281864\n"
       ]
      }
     ],
     "prompt_number": 4
    },
    {
     "cell_type": "raw",
     "metadata": {},
     "source": [
      "It is also possible to use \"shortcuts\" to access the information."
     ]
    },
    {
     "cell_type": "code",
     "collapsed": false,
     "input": [
      "print repr(animal)\n",
      "print unicode(animal)\n",
      "print unicode(animal) == animal.Name"
     ],
     "language": "python",
     "metadata": {},
     "outputs": [
      {
       "output_type": "stream",
       "stream": "stdout",
       "text": [
        "Animal C57 NaCl (1) 1(Male; Tag: 981098104281864)\n",
        "C57 NaCl (1) 1\n",
        "True\n"
       ]
      }
     ],
     "prompt_number": 5
    },
    {
     "cell_type": "raw",
     "metadata": {},
     "source": [
      "Animals are housed in cages and with \"getCage()\" method we can check in which cage(s) the animal was detected.\n",
      "The cage object is guaranted to be convertable to an integer.\n",
      "Then we can check (with \"getInmates()\" method) which mice were housed in the cage."
     ]
    },
    {
     "cell_type": "code",
     "collapsed": false,
     "input": [
      "cage = ml.getCage(animal.Name)\n",
      "print int(cage)\n",
      "print\n",
      "print \"Mice housed in cage #%d:\" % cage\n",
      "mice = ml.getInmates(cage)\n",
      "for mouse in mice:\n",
      "    print mouse"
     ],
     "language": "python",
     "metadata": {},
     "outputs": [
      {
       "output_type": "stream",
       "stream": "stdout",
       "text": [
        "1\n",
        "\n",
        "Mice housed in cage #1:\n",
        "C57 NaCl (1) 3\n",
        "C57 NaCl (1) 7\n",
        "C57 NaCl (1) 4\n",
        "C57 NaCl (1) 5\n",
        "C57 NaCl (1) 9\n",
        "C57 NaCl (1) 1\n",
        "C57 NaCl (1) 8\n",
        "C57 NaCl (1) 6\n",
        "C57 NaCl (1) 2\n"
       ]
      }
     ],
     "prompt_number": 6
    },
    {
     "cell_type": "raw",
     "metadata": {},
     "source": [
      "The method (getInmates()) can be also used to list available cages."
     ]
    },
    {
     "cell_type": "code",
     "collapsed": false,
     "input": [
      "print ml.getInmates()"
     ],
     "language": "python",
     "metadata": {},
     "outputs": [
      {
       "output_type": "stream",
       "stream": "stdout",
       "text": [
        "frozenset([1, 3])\n"
       ]
      }
     ],
     "prompt_number": 7
    },
    {
     "cell_type": "raw",
     "metadata": {},
     "source": [
      "Animals might be also assigned to certain groups. To list them (as well to obtaing object containing information about a particular group), we use \"getGroup()\" method.\n"
     ]
    },
    {
     "cell_type": "code",
     "collapsed": false,
     "input": [
      "print ml.getGroup()\n",
      "group = ml.getGroup('Default')\n",
      "print \"Animals of group %s:\" % group.Name\n",
      "for mouse in group.Animals:\n",
      "    print repr(mouse)"
     ],
     "language": "python",
     "metadata": {},
     "outputs": [
      {
       "output_type": "stream",
       "stream": "stdout",
       "text": [
        "frozenset(['Default'])\n",
        "Animals of group Default:\n",
        "Animal MMP9 1(Female; Tag: 981098104171915)\n",
        "Animal MMP9 2(Female; Tag: 981098104106202)\n",
        "Animal MMP9 3(Female; Tag: 981098104156399)\n",
        "Animal MMP9 4(Female; Tag: 981098104281121)\n",
        "Animal MMP9 5(Female; Tag: 981098100185580)\n",
        "Animal MMP9 6(Female; Tag: 981098100190289)\n",
        "Animal MMP9 7(Female; Tag: 981098104282593)\n",
        "Animal C57 NaCl (1) 1(Male; Tag: 981098104281864)\n",
        "Animal C57 NaCl (1) 2(Male; Tag: 981098104281282)\n",
        "Animal C57 NaCl (1) 3(Male; Tag: 981098104282653)\n",
        "Animal C57 NaCl (1) 4(Male; Tag: 981098104281704)\n",
        "Animal C57 NaCl (1) 5(Male; Tag: 981098104281149)\n",
        "Animal C57 NaCl (1) 6(Male; Tag: 981098104282092)\n",
        "Animal C57 NaCl (1) 7(Male; Tag: 981098104282788)\n",
        "Animal C57 NaCl (1) 8(Male; Tag: 981098104281032)\n",
        "Animal C57 NaCl (1) 9(Male; Tag: 981098104281718)\n"
       ]
      }
     ],
     "prompt_number": 8
    },
    {
     "cell_type": "raw",
     "metadata": {},
     "source": [
      "But what interests us the most in IntelliCage data are visits of animals."
     ]
    },
    {
     "cell_type": "code",
     "collapsed": false,
     "input": [
      "visits = ml.getVisits()\n",
      "print type(visits), len(visits)\n",
      "visit = visits[0]\n",
      "print type(visit)"
     ],
     "language": "python",
     "metadata": {},
     "outputs": [
      {
       "output_type": "stream",
       "stream": "stdout",
       "text": [
        "<type 'list'> 4696\n",
        "<class 'pymice.ICNodes.VisitNode'>\n"
       ]
      }
     ],
     "prompt_number": 9
    },
    {
     "cell_type": "raw",
     "metadata": {},
     "source": [
      "Every visit object contains information about one visit to a corner.\n",
      "\n",
      "\"Animal\" attribute is an AnimalNode object we are already familiar with.\n",
      "\n",
      "\"Cage\" and \"Corner\" attributes are guaranted to be convertable to int.\n",
      "\n",
      "Attributes \"Start\", \"End\" and \"Duration\" of the visit object are guaranted to be convertable to a float number. In case of \"Duration\" attribute the number is a duration given in seconds; in case of \"Start\" and \"End\" attributes it is a number of seconds that have passed from the beginning of UNIX epoch (1st Jan 1970 0:00:00) - so called timestamp - to start and end of the visit respectively."
     ]
    },
    {
     "cell_type": "code",
     "collapsed": false,
     "input": [
      "print \"visit of %s in cage #%d to corner #%d\" % (visit.Animal, visit.Cage, visit.Corner)\n",
      "\n",
      "from datetime import datetime\n",
      "vStart = datetime.fromtimestamp(float(visit.Start))\n",
      "vEnd = datetime.fromtimestamp(float(visit.End))\n",
      "print \"visit duration: %.2fs (from %s to %s)\" % (visit.Duration, vStart, vEnd)\n",
      "print visit.Nosepokes"
     ],
     "language": "python",
     "metadata": {},
     "outputs": [
      {
       "output_type": "stream",
       "stream": "stdout",
       "text": [
        "visit of C57 NaCl (1) 6 in cage #1 to corner #1\n",
        "visit duration: 1.48s (from 2013-03-12 13:01:06.350000 to 2013-03-12 13:01:07.834000)\n",
        "None\n"
       ]
      }
     ],
     "prompt_number": 10
    },
    {
     "cell_type": "raw",
     "metadata": {},
     "source": [
      "We can see that nosepoke information is not available. It is necessary to explicitely enable it in the Loader.\n",
      "\n"
     ]
    },
    {
     "cell_type": "code",
     "collapsed": false,
     "input": [
      "ml = pm.Loader('C57_NaCl_1/2013-03-12 13.00.52.zip', getNp=True)\n",
      "visits = ml.getVisits(order=('Start', 'End'))\n",
      "visit = visits[63]\n",
      "print type(visit.Nosepokes), len(visit.Nosepokes)"
     ],
     "language": "python",
     "metadata": {},
     "outputs": [
      {
       "output_type": "stream",
       "stream": "stdout",
       "text": [
        "loading data from C57_NaCl_1/2013-03-12 13.00.52.zip\n",
        "<type 'tuple'>"
       ]
      },
      {
       "output_type": "stream",
       "stream": "stdout",
       "text": [
        " 3\n"
       ]
      }
     ],
     "prompt_number": 11
    },
    {
     "cell_type": "raw",
     "metadata": {},
     "source": [
      "The \"order\" attribute of \"getVisits()\" method has been provided to have the visits sorted that the sixty fourth visit (of index 63) has 2 nosepokes associated with it and at least one lick to the bottle.\n",
      "\n",
      "\"Start\", \"End\" and \"Duration\" attributes are analogous to those of the visit node. \"Side\" attribute is guaranted to be convertable to an integer. \"Visit\" attribute is the same visit object the nosepoke is assigned to."
     ]
    },
    {
     "cell_type": "code",
     "collapsed": false,
     "input": [
      "visit = visits[63]\n",
      "nosepoke = visit.Nosepokes[1]\n",
      "print type(nosepoke)\n",
      "nStart = datetime.fromtimestamp(float(nosepoke.Start))\n",
      "nEnd = datetime.fromtimestamp(float(nosepoke.End))\n",
      "print \"nosepoke to side #%d (of the cage #%d)\" % (nosepoke.Side, nosepoke.Visit.Cage)\n",
      "print \"nosepoke duration: %.2fs (from %s to %s)\" % (nosepoke.Duration, nStart, nEnd)\n",
      "print \"licks taken %d, licking time: %.2f\" % (nosepoke.LickNumber, nosepoke.LickDuration)\n",
      "print sum(n.LickNumber for n in visit.Nosepokes) == visit.LickNumber\n",
      "print sum(n.LickDuration for n in visit.Nosepokes) == visit.LickDuration\n",
      "print nosepoke.Visit is visit"
     ],
     "language": "python",
     "metadata": {},
     "outputs": [
      {
       "output_type": "stream",
       "stream": "stdout",
       "text": [
        "<class 'pymice.ICNodes.NosepokeNode'>\n",
        "nosepoke to side #2 (of the cage #1)\n",
        "nosepoke duration: 19.47s (from 2013-03-12 13:27:29.803000 to 2013-03-12 13:27:49.272000)\n",
        "licks taken 162, licking time: 17.84\n",
        "True\n",
        "True\n",
        "True\n"
       ]
      }
     ],
     "prompt_number": 12
    },
    {
     "cell_type": "raw",
     "metadata": {},
     "source": [
      "There is often many data files recorded from one experiment. To merge them into one object we have to load them first into a \"Loader\" and then create an object of \"Merger\" class.\n"
     ]
    },
    {
     "cell_type": "code",
     "collapsed": false,
     "input": [
      "import os\n",
      "DATA_DIR = 'C57_NaCl_1'\n",
      "files = [os.path.join(DATA_DIR, filename) for filename in os.listdir(DATA_DIR)]\n",
      "loaders = [pm.Loader(filename, getNp=True) for filename in files]\n",
      "mm = pm.Merger(*loaders, getNp=True)"
     ],
     "language": "python",
     "metadata": {},
     "outputs": [
      {
       "output_type": "stream",
       "stream": "stdout",
       "text": [
        "loading data from C57_NaCl_1/2013-03-15 11.50.34.zip\n",
        "loading data from C57_NaCl_1/2013-03-12 13.00.52.zip"
       ]
      },
      {
       "output_type": "stream",
       "stream": "stdout",
       "text": [
        "\n",
        "loading data from C57_NaCl_1/2013-03-21 11.46.37.zip"
       ]
      },
      {
       "output_type": "stream",
       "stream": "stdout",
       "text": [
        "\n",
        "loading data from C57_NaCl_1/2013-03-18 11.56.27.zip"
       ]
      },
      {
       "output_type": "stream",
       "stream": "stdout",
       "text": [
        "\n",
        "loading data from C57_NaCl_1/2013-03-13 11.58.20.zip"
       ]
      },
      {
       "output_type": "stream",
       "stream": "stdout",
       "text": [
        "\n",
        "loading data from C57_NaCl_1/2013-03-25 09.12.45.zip\n",
        "loading data from C57_NaCl_1/2013-03-13 12.01.01.zip"
       ]
      },
      {
       "output_type": "stream",
       "stream": "stdout",
       "text": [
        "\n",
        "Possible temporal overlap of visits"
       ]
      },
      {
       "output_type": "stream",
       "stream": "stdout",
       "text": [
        "\n",
        "Possible temporal overlap of visits"
       ]
      },
      {
       "output_type": "stream",
       "stream": "stdout",
       "text": [
        "\n",
        "Possible temporal overlap of visits"
       ]
      },
      {
       "output_type": "stream",
       "stream": "stdout",
       "text": [
        "\n",
        "Possible temporal overlap of visits"
       ]
      },
      {
       "output_type": "stream",
       "stream": "stdout",
       "text": [
        "\n"
       ]
      }
     ],
     "prompt_number": 13
    },
    {
     "cell_type": "code",
     "collapsed": false,
     "input": [],
     "language": "python",
     "metadata": {},
     "outputs": [],
     "prompt_number": 13
    }
   ],
   "metadata": {}
  }
 ]
}