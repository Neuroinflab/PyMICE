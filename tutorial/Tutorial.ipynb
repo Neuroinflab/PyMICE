{
 "metadata": {
  "name": "",
  "signature": "sha256:4588b27d9298cf9794c7bd54f6c16cfa4b4ebd38d9f28fada68c3eb616fcf215"
 },
 "nbformat": 3,
 "nbformat_minor": 0,
 "worksheets": [
  {
   "cells": [
    {
     "cell_type": "heading",
     "level": 2,
     "metadata": {},
     "source": [
      "Importing the library"
     ]
    },
    {
     "cell_type": "markdown",
     "metadata": {},
     "source": [
      "At the beginning import the library (it is assumed you have already installed it). The name \"pm\" will be assigned to the library."
     ]
    },
    {
     "cell_type": "code",
     "collapsed": false,
     "input": [
      "import pymice as pm"
     ],
     "language": "python",
     "metadata": {},
     "outputs": [
      {
       "output_type": "stream",
       "stream": "stdout",
       "text": [
        "This is a bleeding edge version of the PyMICE library. It might meet your\n",
        "expectations, however it might also go to your fridge, drink all the beer\n",
        "it can found there and then eat your cat. Be warned.\n",
        "\n"
       ]
      }
     ],
     "prompt_number": 1
    },
    {
     "cell_type": "heading",
     "level": 2,
     "metadata": {},
     "source": [
      "Downloading example IntelliCage data."
     ]
    },
    {
     "cell_type": "markdown",
     "metadata": {},
     "source": [
      "Before you can start the tutorial you have to download and extract training data (unless you already have done it).\n",
      "\n",
      "The library might do it for you, you can also do it by yourself by downloading a ZIP archive from: https://www.dropbox.com/s/kxgfu7fazbwvz7e/C57_AB.zip?dl=1\n",
      "and extracting to 'C57_AB' directory the follownig files:\n",
      "- 'C57_AB/2012-08-28 13.44.51.zip',\n",
      "- 'C57_AB/2012-08-28 15.33.58.zip',\n",
      "- 'C57_AB/2012-08-31 11.46.31.zip',\n",
      "- 'C57_AB/2012-08-31 11.58.22.zip'."
     ]
    },
    {
     "cell_type": "code",
     "collapsed": false,
     "input": [
      "pm.getTutorialData()"
     ],
     "language": "python",
     "metadata": {},
     "outputs": [
      {
       "output_type": "stream",
       "stream": "stdout",
       "text": [
        "In case the automatic download fails fetch the data manually.\n",
        "Download archive from: https://www.dropbox.com/s/kxgfu7fazbwvz7e/C57_AB.zip?dl=1\n",
        "then extract the following files:\n",
        "- C57_AB/2012-08-28 13.44.51.zip\n",
        "- C57_AB/2012-08-28 15.33.58.zip\n",
        "- C57_AB/2012-08-31 11.46.31.zip\n",
        "- C57_AB/2012-08-31 11.58.22.zip\n",
        "\n",
        "\n",
        "downloading data from https://www.dropbox.com/s/kxgfu7fazbwvz7e/C57_AB.zip?dl=1\n",
        "  1% downloaded."
       ]
      },
      {
       "output_type": "stream",
       "stream": "stdout",
       "text": [
        "\n",
        " 26% downloaded."
       ]
      },
      {
       "output_type": "stream",
       "stream": "stdout",
       "text": [
        "\n",
        " 51% downloaded."
       ]
      },
      {
       "output_type": "stream",
       "stream": "stdout",
       "text": [
        "\n",
        " 76% downloaded."
       ]
      },
      {
       "output_type": "stream",
       "stream": "stdout",
       "text": [
        "\n",
        "data downloaded"
       ]
      },
      {
       "output_type": "stream",
       "stream": "stdout",
       "text": [
        "\n",
        "extracting file C57_AB/2012-08-28 13.44.51.zip\n",
        "extracting file C57_AB/2012-08-28 15.33.58.zip\n",
        "extracting file C57_AB/2012-08-31 11.46.31.zip\n",
        "extracting file C57_AB/2012-08-31 11.58.22.zip\n"
       ]
      }
     ],
     "prompt_number": 2
    },
    {
     "cell_type": "heading",
     "level": 2,
     "metadata": {},
     "source": [
      "Exploring data from an IntelliCage archive."
     ]
    },
    {
     "cell_type": "markdown",
     "metadata": {},
     "source": [
      "Load data from one of files to investigate it. Check what animals has been registered in the cage."
     ]
    },
    {
     "cell_type": "code",
     "collapsed": false,
     "input": [
      "ml = pm.Loader('C57_AB/2012-08-28 15.33.58.zip')\n",
      "ml.getAnimal()"
     ],
     "language": "python",
     "metadata": {},
     "outputs": [
      {
       "output_type": "stream",
       "stream": "stdout",
       "text": [
        "loading data from C57_AB/2012-08-28 15.33.58.zip\n"
       ]
      },
      {
       "metadata": {},
       "output_type": "pyout",
       "prompt_number": 3,
       "text": [
        "frozenset({u'C57 A 1',\n",
        "           u'C57 A 10',\n",
        "           u'C57 A 11',\n",
        "           u'C57 A 2',\n",
        "           u'C57 A 3',\n",
        "           u'C57 A 4',\n",
        "           u'C57 A 5',\n",
        "           u'C57 A 6',\n",
        "           u'C57 A 7',\n",
        "           u'C57 A 8',\n",
        "           u'C57 A 9',\n",
        "           u'C57 B 1',\n",
        "           u'C57 B 10',\n",
        "           u'C57 B 11',\n",
        "           u'C57 B 12',\n",
        "           u'C57 B 2',\n",
        "           u'C57 B 3',\n",
        "           u'C57 B 4',\n",
        "           u'C57 B 5',\n",
        "           u'C57 B 6',\n",
        "           u'C57 B 7',\n",
        "           u'C57 B 8',\n",
        "           u'C57 B 9'})"
       ]
      }
     ],
     "prompt_number": 3
    },
    {
     "cell_type": "markdown",
     "metadata": {},
     "source": [
      "By getAnimal() method you can also obtain object containing basic information about particular animal."
     ]
    },
    {
     "cell_type": "code",
     "collapsed": false,
     "input": [
      "animal = ml.getAnimal('C57 A 1')\n",
      "print type(animal)\n",
      "print animal.Name\n",
      "print animal.Sex\n",
      "print animal.Tag\n"
     ],
     "language": "python",
     "metadata": {},
     "outputs": [
      {
       "output_type": "stream",
       "stream": "stdout",
       "text": [
        "<class 'pymice.ICNodes.AnimalNode'>\n",
        "C57 A 1\n",
        "Male\n",
        "981098104282931\n"
       ]
      }
     ],
     "prompt_number": 4
    },
    {
     "cell_type": "markdown",
     "metadata": {},
     "source": [
      "It is also possible to use \"shortcuts\" to access the information."
     ]
    },
    {
     "cell_type": "code",
     "collapsed": false,
     "input": [
      "print repr(animal)\n",
      "print unicode(animal)\n",
      "print unicode(animal) == animal.Name"
     ],
     "language": "python",
     "metadata": {},
     "outputs": [
      {
       "output_type": "stream",
       "stream": "stdout",
       "text": [
        "Animal C57 A 1(Male; Tag: 981098104282931)\n",
        "C57 A 1\n",
        "True\n"
       ]
      }
     ],
     "prompt_number": 5
    },
    {
     "cell_type": "markdown",
     "metadata": {},
     "source": [
      "Animals are housed in cages and with \"getCage()\" method you can check in which cage(s) the animal was detected.\n",
      "The cage object is guaranted to be convertable to an integer.  \n",
      "You can also check (with \"getInmates()\" method) which mice were housed in the cage."
     ]
    },
    {
     "cell_type": "code",
     "collapsed": false,
     "input": [
      "cage = ml.getCage(animal.Name)\n",
      "print int(cage)\n",
      "print\n",
      "print \"Mice housed in cage #%d:\" % cage\n",
      "mice = ml.getInmates(cage)\n",
      "for mouse in mice:\n",
      "    print mouse"
     ],
     "language": "python",
     "metadata": {},
     "outputs": [
      {
       "output_type": "stream",
       "stream": "stdout",
       "text": [
        "2\n",
        "\n",
        "Mice housed in cage #2:\n",
        "C57 A 8\n",
        "C57 A 1\n",
        "C57 A 10\n",
        "C57 A 3\n",
        "C57 A 11\n",
        "C57 A 4\n",
        "C57 A 5\n",
        "C57 A 2\n",
        "C57 A 6\n",
        "C57 A 7\n",
        "C57 A 9\n"
       ]
      }
     ],
     "prompt_number": 6
    },
    {
     "cell_type": "markdown",
     "metadata": {},
     "source": [
      "The method (getInmates()) can be also used to list available cages."
     ]
    },
    {
     "cell_type": "code",
     "collapsed": false,
     "input": [
      "print ml.getInmates()"
     ],
     "language": "python",
     "metadata": {},
     "outputs": [
      {
       "output_type": "stream",
       "stream": "stdout",
       "text": [
        "frozenset([1, 2])\n"
       ]
      }
     ],
     "prompt_number": 7
    },
    {
     "cell_type": "markdown",
     "metadata": {},
     "source": [
      "Animals might be also assigned to certain groups. To list them (as well to obtaing object containing information about a particular group), use the \"getGroup()\" method.\n"
     ]
    },
    {
     "cell_type": "code",
     "collapsed": false,
     "input": [
      "print ml.getGroup()\n",
      "group = ml.getGroup('C57 A')\n",
      "print \"Animals of group %s:\" % group.Name\n",
      "for mouse in group.Animals:\n",
      "    print repr(mouse)"
     ],
     "language": "python",
     "metadata": {},
     "outputs": [
      {
       "output_type": "stream",
       "stream": "stdout",
       "text": [
        "frozenset(['C57 B', 'C57 A'])\n",
        "Animals of group C57 A:\n",
        "Animal C57 A 1(Male; Tag: 981098104282931)\n",
        "Animal C57 A 2(Male; Tag: 981098104281654)\n",
        "Animal C57 A 3(Male; Tag: 981098104282989)\n",
        "Animal C57 A 4(Male; Tag: 981098104282431)\n",
        "Animal C57 A 5(Male; Tag: 981098104282496)\n",
        "Animal C57 A 6(Male; Tag: 981098104281799)\n",
        "Animal C57 A 7(Male; Tag: 981098104282860)\n",
        "Animal C57 A 8(Male; Tag: 981098104282884)\n",
        "Animal C57 A 9(Male; Tag: 981098104282669)\n",
        "Animal C57 A 10(Male; Tag: 981098104281067)\n",
        "Animal C57 A 11(Male; Tag: 981098104282249)\n"
       ]
      }
     ],
     "prompt_number": 8
    },
    {
     "cell_type": "markdown",
     "metadata": {},
     "source": [
      "But what the most interesting piece of data are visits of animals."
     ]
    },
    {
     "cell_type": "code",
     "collapsed": false,
     "input": [
      "visits = ml.getVisits()\n",
      "print type(visits), len(visits)\n",
      "visit = visits[0]\n",
      "print type(visit)"
     ],
     "language": "python",
     "metadata": {},
     "outputs": [
      {
       "output_type": "stream",
       "stream": "stdout",
       "text": [
        "<type 'list'> 7562\n",
        "<class 'pymice.ICNodes.VisitNode'>\n"
       ]
      }
     ],
     "prompt_number": 9
    },
    {
     "cell_type": "markdown",
     "metadata": {},
     "source": [
      "Every visit object contains information about one visit to a corner.\n",
      "\n",
      "\"Animal\" attribute is an AnimalNode object you are already familiar with.\n",
      "\n",
      "\"Cage\" and \"Corner\" attributes are guaranted to be convertable to int.\n",
      "\n",
      "Attributes \"Start\" and \"End\" of the visit object are datatime.datatime objects while the \"Duration\" attribute is a datatime.timedelta object."
     ]
    },
    {
     "cell_type": "code",
     "collapsed": false,
     "input": [
      "print \"visit of %s in cage #%d to corner #%d\" % (visit.Animal, visit.Cage, visit.Corner)\n",
      "\n",
      "from datetime import datetime\n",
      "vStart = visit.Start\n",
      "vEnd = visit.End\n",
      "print \"visit duration: %.2fs (from %s to %s)\" % (visit.Duration.total_seconds(), vStart, vEnd)"
     ],
     "language": "python",
     "metadata": {},
     "outputs": [
      {
       "output_type": "stream",
       "stream": "stdout",
       "text": [
        "visit of C57 A 7 in cage #2 to corner #3\n",
        "visit duration: 8.88s (from 2012-08-28 15:34:14.140000+02:00 to 2012-08-28 15:34:23.015000+02:00)\n"
       ]
      }
     ],
     "prompt_number": 10
    },
    {
     "cell_type": "heading",
     "level": 2,
     "metadata": {},
     "source": [
      "Exploring nosepoke data"
     ]
    },
    {
     "cell_type": "code",
     "collapsed": false,
     "input": [
      "visits = ml.getVisits(order=('Start', 'End'))\n",
      "visit = visits[4]\n",
      "print type(visit.Nosepokes), len(visit.Nosepokes)"
     ],
     "language": "python",
     "metadata": {},
     "outputs": [
      {
       "output_type": "stream",
       "stream": "stdout",
       "text": [
        "<type 'tuple'> 3\n"
       ]
      }
     ],
     "prompt_number": 11
    },
    {
     "cell_type": "markdown",
     "metadata": {},
     "source": [
      "The \"order\" attribute of \"getVisits()\" method has been provided to have the visits sorted that the sixty fourth visit (of index 4) has more than one nosepoke associated with it and at least one lick to the bottle.\n",
      "\n",
      "\"Start\", \"End\" and \"Duration\" attributes are analogous to those of the visit node. \"Side\" attribute is guaranted to be convertable to an integer. \"Visit\" attribute is the same visit object the nosepoke is assigned to."
     ]
    },
    {
     "cell_type": "code",
     "collapsed": false,
     "input": [
      "visit = visits[4]\n",
      "nosepoke = visit.Nosepokes[1]\n",
      "print type(nosepoke)\n",
      "\n",
      "print \"nosepoke to side #%d (of the cage #%d)\" % (nosepoke.Side, nosepoke.Visit.Cage)\n",
      "print \"nosepoke duration: %s (from %s to %s)\" % (nosepoke.Duration, nosepoke.Start, nosepoke.End)\n",
      "print \"licks taken %d, licking time: %.2f\" % (nosepoke.LickNumber, nosepoke.LickDuration)\n",
      "print sum(n.LickNumber for n in visit.Nosepokes) == visit.LickNumber\n",
      "print sum(n.LickDuration for n in visit.Nosepokes) == visit.LickDuration\n",
      "print nosepoke.Visit is visit"
     ],
     "language": "python",
     "metadata": {},
     "outputs": [
      {
       "output_type": "stream",
       "stream": "stdout",
       "text": [
        "<class 'pymice.ICNodes.NosepokeNode'>\n",
        "nosepoke to side #7 (of the cage #2)\n",
        "nosepoke duration: 0:00:00.290000 (from 2012-08-28 15:34:54.350000+02:00 to 2012-08-28 15:34:54.640000+02:00)\n",
        "licks taken 1, licking time: 0.28\n",
        "True\n",
        "True\n",
        "True\n"
       ]
      }
     ],
     "prompt_number": 12
    },
    {
     "cell_type": "markdown",
     "metadata": {},
     "source": [
      "There is often many data files recorded from one experiment. To merge them into one object you have to load them first into a \"Loader\" and then create an object of \"Merger\" class.\n"
     ]
    },
    {
     "cell_type": "heading",
     "level": 2,
     "metadata": {},
     "source": [
      "Combining data from multiple files."
     ]
    },
    {
     "cell_type": "code",
     "collapsed": false,
     "input": [
      "import glob\n",
      "files = glob.glob('C57_AB/*.zip')\n",
      "loaders = [pm.Loader(filename) for filename in files]\n",
      "mm = pm.Merger(*loaders)\n",
      "n = len(mm.getVisits())\n",
      "print \"Total number of visits in data: %d\" % n\n",
      "print n == sum(len(ml.getVisits()) for ml in loaders)"
     ],
     "language": "python",
     "metadata": {},
     "outputs": [
      {
       "output_type": "stream",
       "stream": "stdout",
       "text": [
        "loading data from C57_AB/2012-08-28 13.44.51.zip\n",
        "loading data from C57_AB/2012-08-28 15.33.58.zip"
       ]
      },
      {
       "output_type": "stream",
       "stream": "stdout",
       "text": [
        "\n",
        "loading data from C57_AB/2012-08-31 11.46.31.zip"
       ]
      },
      {
       "output_type": "stream",
       "stream": "stdout",
       "text": [
        "\n",
        "loading data from C57_AB/2012-08-31 11.58.22.zip\n",
        "Total number of visits in data: 41858"
       ]
      },
      {
       "output_type": "stream",
       "stream": "stdout",
       "text": [
        "\n",
        "True\n"
       ]
      }
     ],
     "prompt_number": 13
    },
    {
     "cell_type": "heading",
     "level": 2,
     "metadata": {},
     "source": [
      "Customising loaded data"
     ]
    },
    {
     "cell_type": "markdown",
     "metadata": {},
     "source": [
      "In order to speed up the loading process you might disable loading of nosepoke data (if they are not necessary) by setting getNp option to False."
     ]
    },
    {
     "cell_type": "code",
     "collapsed": false,
     "input": [
      "ml = pm.Loader('C57_AB/2012-08-28 15.33.58.zip', getNp=False)\n",
      "visits = ml.getVisits(order=('Start', 'End'))\n",
      "visit = visits[4]\n",
      "print visit.Nosepokes"
     ],
     "language": "python",
     "metadata": {},
     "outputs": [
      {
       "output_type": "stream",
       "stream": "stdout",
       "text": [
        "loading data from C57_AB/2012-08-28 15.33.58.zip\n",
        "None"
       ]
      },
      {
       "output_type": "stream",
       "stream": "stdout",
       "text": [
        "\n"
       ]
      }
     ],
     "prompt_number": 14
    },
    {
     "cell_type": "markdown",
     "metadata": {},
     "source": [
      "No log, environment nor hardware events data are loaded unless the loader is explicitely told to do so."
     ]
    },
    {
     "cell_type": "code",
     "collapsed": false,
     "input": [
      "print ml.getLog()\n",
      "print ml.getEnvironment()\n",
      "print ml.getHardwareEvents()\n",
      "ml = pm.Loader('C57_AB/2012-08-28 15.33.58.zip', getLog=True, getHw=True, getEnv=True)\n",
      "print len(ml.getLog())\n",
      "print len(ml.getEnvironment())\n",
      "print len(ml.getHardwareEvents())"
     ],
     "language": "python",
     "metadata": {},
     "outputs": [
      {
       "output_type": "stream",
       "stream": "stdout",
       "text": [
        "[]\n",
        "[]\n",
        "[]\n",
        "loading data from C57_AB/2012-08-28 15.33.58.zip\n",
        "1220"
       ]
      },
      {
       "output_type": "stream",
       "stream": "stdout",
       "text": [
        "\n",
        "12273\n",
        "177\n"
       ]
      }
     ],
     "prompt_number": 15
    },
    {
     "cell_type": "heading",
     "level": 2,
     "metadata": {},
     "source": [
      "Data validity tests"
     ]
    },
    {
     "cell_type": "markdown",
     "metadata": {},
     "source": [
      "It is important to be sure the data you are going to analyse are valid - it is important to load log data (with \"getLog\" flag) and then analyse them with log analyser objects.\n",
      "\n",
      "Instances of \"LickometerLogAnalyzer\" checks log for lickometer problems while \"PresenceLogAnalyzer\" - for presence of unidentified animal. If \"logAnalysers\" parameter is not empty then it implies \"getLog\" flag is True."
     ]
    },
    {
     "cell_type": "code",
     "collapsed": false,
     "input": [
      "loaders = [pm.Loader(filename, getLog=True) for filename in files]\n",
      "logAnalyzers = [pm.LickometerLogAnalyzer(),\n",
      "                pm.PresenceLogAnalyzer(),\n",
      "                ]\n",
      "mm = pm.Merger(*loaders, logAnalyzers=logAnalyzers)"
     ],
     "language": "python",
     "metadata": {},
     "outputs": [
      {
       "output_type": "stream",
       "stream": "stdout",
       "text": [
        "loading data from C57_AB/2012-08-28 13.44.51.zip\n",
        "loading data from C57_AB/2012-08-28 15.33.58.zip"
       ]
      },
      {
       "output_type": "stream",
       "stream": "stdout",
       "text": [
        "\n",
        "loading data from C57_AB/2012-08-31 11.46.31.zip"
       ]
      },
      {
       "output_type": "stream",
       "stream": "stdout",
       "text": [
        "\n",
        "loading data from C57_AB/2012-08-31 11.58.22.zip\n"
       ]
      }
     ],
     "prompt_number": 16
    },
    {
     "cell_type": "markdown",
     "metadata": {},
     "source": [
      "To check if there is no problem with data in a period of interest (POI), you can use \"TestMiceData\" objects.\n",
      "\n",
      "The POI in the example is defined as a period from first to last registration (obtained with \"getStart()\" and \"getEnd()\" methods)."
     ]
    },
    {
     "cell_type": "code",
     "collapsed": false,
     "input": [
      "start = mm.getStart()\n",
      "end = mm.getEnd()\n",
      "interval = (start, end)\n",
      "\n",
      "strInterval = '(from %s to %s)' % interval\n",
      "\n",
      "lickometerTester = pm.TestMiceData('Lickometer')\n",
      "presenceTester = pm.TestMiceData('Presence')\n",
      "if lickometerTester(mm, interval):\n",
      "    print \"lickometer ok \" + strInterval\n",
      "    \n",
      "else:\n",
      "    print \"lickometer problem \" + strInterval\n",
      "    \n",
      "if presenceTester(mm, interval):\n",
      "    print \"presences ok \" + strInterval\n",
      "    \n",
      "else:\n",
      "    print \"unknown mice presence problem \" + strInterval\n",
      "    "
     ],
     "language": "python",
     "metadata": {},
     "outputs": [
      {
       "output_type": "stream",
       "stream": "stdout",
       "text": [
        "lickometer problem (from 2012-08-28 13:44:52.671000+02:00 to 2012-08-28 15:33:43.500000+02:00)\n",
        "presences ok (from 2012-08-28 13:44:52.671000+02:00 to 2012-08-28 15:33:43.500000+02:00)\n"
       ]
      }
     ],
     "prompt_number": 17
    }
   ],
   "metadata": {}
  }
 ]
}