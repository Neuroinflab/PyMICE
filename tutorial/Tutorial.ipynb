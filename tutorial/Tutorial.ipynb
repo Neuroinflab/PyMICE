{
 "metadata": {
  "name": "",
  "signature": "sha256:4588b27d9298cf9794c7bd54f6c16cfa4b4ebd38d9f28fada68c3eb616fcf215"
 },
 "nbformat": 3,
 "nbformat_minor": 0,
 "worksheets": [
  {
   "cells": [
    {
     "cell_type": "heading",
     "level": 2,
     "metadata": {},
     "source": [
      "Downloading example IntelliCage data."
     ]
    },
    {
     "cell_type": "raw",
     "metadata": {},
     "source": [
      "Before we can start the tutorial we have to download and extract our dataset."
     ]
    },
    {
     "cell_type": "code",
     "collapsed": false,
     "input": [
      "!if (test ! -d C57_AB) then (wget https://www.dropbox.com/s/kxgfu7fazbwvz7e/C57_AB.zip?dl=0 -O C57_AB.zip && unzip -u C57_AB.zip) fi\n",
      "!ls -l C57_AB"
     ],
     "language": "python",
     "metadata": {
      "slideshow": {
       "slide_type": "-"
      }
     },
     "outputs": [
      {
       "output_type": "stream",
       "stream": "stdout",
       "text": [
        "total 4336\r\n",
        "-rw-r--r-- 1 jkowalski prneuroinf   86480 Mar 25 23:35 2012-08-28 13.44.51.zip\r\n",
        "-rw-r--r-- 1 jkowalski prneuroinf  494921 Mar 25 23:36 2012-08-28 15.33.58.zip\r\n",
        "-rw-r--r-- 1 jkowalski prneuroinf   29344 Mar 25 23:37 2012-08-31 11.46.31.zip\r\n",
        "-rw-r--r-- 1 jkowalski prneuroinf 3818445 Mar 25 23:41 2012-08-31 11.58.22.zip\r\n"
       ]
      }
     ],
     "prompt_number": 1
    },
    {
     "cell_type": "heading",
     "level": 2,
     "metadata": {},
     "source": [
      "Exploring data from an IntelliCage archive."
     ]
    },
    {
     "cell_type": "raw",
     "metadata": {},
     "source": [
      "Now we import the library aliaseed as \"pm\". It is assumed you have already installed it."
     ]
    },
    {
     "cell_type": "code",
     "collapsed": false,
     "input": [
      "import pymice as pm"
     ],
     "language": "python",
     "metadata": {},
     "outputs": [],
     "prompt_number": 2
    },
    {
     "cell_type": "raw",
     "metadata": {},
     "source": [
      "We load data from one of files to investigate it. Then we check what animals has been registered in the cage."
     ]
    },
    {
     "cell_type": "code",
     "collapsed": false,
     "input": [
      "ml = pm.Loader('C57_AB/2012-08-28 15.33.58.zip')\n",
      "ml.getAnimal()"
     ],
     "language": "python",
     "metadata": {},
     "outputs": [
      {
       "output_type": "stream",
       "stream": "stdout",
       "text": [
        "loading data from C57_AB/2012-08-28 15.33.58.zip\n"
       ]
      },
      {
       "metadata": {},
       "output_type": "pyout",
       "prompt_number": 3,
       "text": [
        "frozenset({u'C57 A 1',\n",
        "           u'C57 A 10',\n",
        "           u'C57 A 11',\n",
        "           u'C57 A 2',\n",
        "           u'C57 A 3',\n",
        "           u'C57 A 4',\n",
        "           u'C57 A 5',\n",
        "           u'C57 A 6',\n",
        "           u'C57 A 7',\n",
        "           u'C57 A 8',\n",
        "           u'C57 A 9',\n",
        "           u'C57 B 1',\n",
        "           u'C57 B 10',\n",
        "           u'C57 B 11',\n",
        "           u'C57 B 12',\n",
        "           u'C57 B 2',\n",
        "           u'C57 B 3',\n",
        "           u'C57 B 4',\n",
        "           u'C57 B 5',\n",
        "           u'C57 B 6',\n",
        "           u'C57 B 7',\n",
        "           u'C57 B 8',\n",
        "           u'C57 B 9'})"
       ]
      }
     ],
     "prompt_number": 3
    },
    {
     "cell_type": "raw",
     "metadata": {},
     "source": [
      "By getAnimal() method we can also obtain object containing basic information about particular animal."
     ]
    },
    {
     "cell_type": "code",
     "collapsed": false,
     "input": [
      "animal = ml.getAnimal('C57 A 1')\n",
      "print type(animal)\n",
      "print animal.Name\n",
      "print animal.Sex\n",
      "print animal.Tag\n"
     ],
     "language": "python",
     "metadata": {},
     "outputs": [
      {
       "output_type": "stream",
       "stream": "stdout",
       "text": [
        "<class 'pymice.ICNodes.AnimalNode'>\n",
        "C57 A 1\n",
        "Male\n",
        "981098104282931\n"
       ]
      }
     ],
     "prompt_number": 4
    },
    {
     "cell_type": "raw",
     "metadata": {},
     "source": [
      "It is also possible to use \"shortcuts\" to access the information."
     ]
    },
    {
     "cell_type": "code",
     "collapsed": false,
     "input": [
      "print repr(animal)\n",
      "print unicode(animal)\n",
      "print unicode(animal) == animal.Name"
     ],
     "language": "python",
     "metadata": {},
     "outputs": [
      {
       "output_type": "stream",
       "stream": "stdout",
       "text": [
        "Animal C57 A 1(Male; Tag: 981098104282931)\n",
        "C57 A 1\n",
        "True\n"
       ]
      }
     ],
     "prompt_number": 5
    },
    {
     "cell_type": "raw",
     "metadata": {},
     "source": [
      "Animals are housed in cages and with \"getCage()\" method we can check in which cage(s) the animal was detected.\n",
      "The cage object is guaranted to be convertable to an integer.\n",
      "Then we can check (with \"getInmates()\" method) which mice were housed in the cage."
     ]
    },
    {
     "cell_type": "code",
     "collapsed": false,
     "input": [
      "cage = ml.getCage(animal.Name)\n",
      "print int(cage)\n",
      "print\n",
      "print \"Mice housed in cage #%d:\" % cage\n",
      "mice = ml.getInmates(cage)\n",
      "for mouse in mice:\n",
      "    print mouse"
     ],
     "language": "python",
     "metadata": {},
     "outputs": [
      {
       "output_type": "stream",
       "stream": "stdout",
       "text": [
        "2\n",
        "\n",
        "Mice housed in cage #2:\n",
        "C57 A 8\n",
        "C57 A 1\n",
        "C57 A 2\n",
        "C57 A 3\n",
        "C57 A 11\n",
        "C57 A 4\n",
        "C57 A 5\n",
        "C57 A 10\n",
        "C57 A 6\n",
        "C57 A 7\n",
        "C57 A 9\n"
       ]
      }
     ],
     "prompt_number": 6
    },
    {
     "cell_type": "raw",
     "metadata": {},
     "source": [
      "The method (getInmates()) can be also used to list available cages."
     ]
    },
    {
     "cell_type": "code",
     "collapsed": false,
     "input": [
      "print ml.getInmates()"
     ],
     "language": "python",
     "metadata": {},
     "outputs": [
      {
       "output_type": "stream",
       "stream": "stdout",
       "text": [
        "frozenset([1, 2])\n"
       ]
      }
     ],
     "prompt_number": 7
    },
    {
     "cell_type": "raw",
     "metadata": {},
     "source": [
      "Animals might be also assigned to certain groups. To list them (as well to obtaing object containing information about a particular group), we use \"getGroup()\" method.\n"
     ]
    },
    {
     "cell_type": "code",
     "collapsed": false,
     "input": [
      "print ml.getGroup()\n",
      "group = ml.getGroup('C57 A')\n",
      "print \"Animals of group %s:\" % group.Name\n",
      "for mouse in group.Animals:\n",
      "    print repr(mouse)"
     ],
     "language": "python",
     "metadata": {},
     "outputs": [
      {
       "output_type": "stream",
       "stream": "stdout",
       "text": [
        "frozenset(['C57 B', 'C57 A'])\n",
        "Animals of group C57 A:\n",
        "Animal C57 A 1(Male; Tag: 981098104282931)\n",
        "Animal C57 A 2(Male; Tag: 981098104281654)\n",
        "Animal C57 A 3(Male; Tag: 981098104282989)\n",
        "Animal C57 A 4(Male; Tag: 981098104282431)\n",
        "Animal C57 A 5(Male; Tag: 981098104282496)\n",
        "Animal C57 A 6(Male; Tag: 981098104281799)\n",
        "Animal C57 A 7(Male; Tag: 981098104282860)\n",
        "Animal C57 A 8(Male; Tag: 981098104282884)\n",
        "Animal C57 A 9(Male; Tag: 981098104282669)\n",
        "Animal C57 A 10(Male; Tag: 981098104281067)\n",
        "Animal C57 A 11(Male; Tag: 981098104282249)\n"
       ]
      }
     ],
     "prompt_number": 8
    },
    {
     "cell_type": "raw",
     "metadata": {},
     "source": [
      "But what interests us the most in IntelliCage data are visits of animals."
     ]
    },
    {
     "cell_type": "code",
     "collapsed": false,
     "input": [
      "visits = ml.getVisits()\n",
      "print type(visits), len(visits)\n",
      "visit = visits[0]\n",
      "print type(visit)"
     ],
     "language": "python",
     "metadata": {},
     "outputs": [
      {
       "output_type": "stream",
       "stream": "stdout",
       "text": [
        "<type 'list'> 7562\n",
        "<class 'pymice.ICNodes.VisitNode'>\n"
       ]
      }
     ],
     "prompt_number": 9
    },
    {
     "cell_type": "raw",
     "metadata": {},
     "source": [
      "Every visit object contains information about one visit to a corner.\n",
      "\n",
      "\"Animal\" attribute is an AnimalNode object we are already familiar with.\n",
      "\n",
      "\"Cage\" and \"Corner\" attributes are guaranted to be convertable to int.\n",
      "\n",
      "Attributes \"Start\", \"End\" and \"Duration\" of the visit object are guaranted to be convertable to a float number. In case of \"Duration\" attribute the number is a duration given in seconds; in case of \"Start\" and \"End\" attributes it is a number of seconds that have passed from the beginning of UNIX epoch (1st Jan 1970 0:00:00) - so called timestamp - to start and end of the visit respectively."
     ]
    },
    {
     "cell_type": "code",
     "collapsed": false,
     "input": [
      "print \"visit of %s in cage #%d to corner #%d\" % (visit.Animal, visit.Cage, visit.Corner)\n",
      "\n",
      "from datetime import datetime\n",
      "vStart = datetime.fromtimestamp(float(visit.Start))\n",
      "vEnd = datetime.fromtimestamp(float(visit.End))\n",
      "print \"visit duration: %.2fs (from %s to %s)\" % (visit.Duration, vStart, vEnd)\n",
      "print visit.Nosepokes"
     ],
     "language": "python",
     "metadata": {},
     "outputs": [
      {
       "output_type": "stream",
       "stream": "stdout",
       "text": [
        "visit of C57 A 7 in cage #2 to corner #3\n",
        "visit duration: 8.88s (from 2012-08-28 16:34:14.140000 to 2012-08-28 16:34:23.015000)\n",
        "None\n"
       ]
      }
     ],
     "prompt_number": 10
    },
    {
     "cell_type": "heading",
     "level": 2,
     "metadata": {},
     "source": [
      "Exploring nosepoke data"
     ]
    },
    {
     "cell_type": "raw",
     "metadata": {},
     "source": [
      "We can see that nosepoke information is not available. It is necessary to explicitely enable it in the Loader.\n",
      "\n"
     ]
    },
    {
     "cell_type": "code",
     "collapsed": false,
     "input": [
      "ml = pm.Loader('C57_AB/2012-08-28 15.33.58.zip', getNp=True)\n",
      "visits = ml.getVisits(order=('Start', 'End'))\n",
      "visit = visits[4]\n",
      "print type(visit.Nosepokes), len(visit.Nosepokes)"
     ],
     "language": "python",
     "metadata": {},
     "outputs": [
      {
       "output_type": "stream",
       "stream": "stdout",
       "text": [
        "loading data from C57_AB/2012-08-28 15.33.58.zip\n",
        "<type 'tuple'>"
       ]
      },
      {
       "output_type": "stream",
       "stream": "stdout",
       "text": [
        " 3\n"
       ]
      }
     ],
     "prompt_number": 11
    },
    {
     "cell_type": "raw",
     "metadata": {},
     "source": [
      "The \"order\" attribute of \"getVisits()\" method has been provided to have the visits sorted that the sixty fourth visit (of index 4) has more than one nosepoke associated with it and at least one lick to the bottle.\n",
      "\n",
      "\"Start\", \"End\" and \"Duration\" attributes are analogous to those of the visit node. \"Side\" attribute is guaranted to be convertable to an integer. \"Visit\" attribute is the same visit object the nosepoke is assigned to."
     ]
    },
    {
     "cell_type": "code",
     "collapsed": false,
     "input": [
      "visit = visits[4]\n",
      "nosepoke = visit.Nosepokes[1]\n",
      "print type(nosepoke)\n",
      "nStart = datetime.fromtimestamp(float(nosepoke.Start))\n",
      "nEnd = datetime.fromtimestamp(float(nosepoke.End))\n",
      "print \"nosepoke to side #%d (of the cage #%d)\" % (nosepoke.Side, nosepoke.Visit.Cage)\n",
      "print \"nosepoke duration: %.2fs (from %s to %s)\" % (nosepoke.Duration, nStart, nEnd)\n",
      "print \"licks taken %d, licking time: %.2f\" % (nosepoke.LickNumber, nosepoke.LickDuration)\n",
      "print sum(n.LickNumber for n in visit.Nosepokes) == visit.LickNumber\n",
      "print sum(n.LickDuration for n in visit.Nosepokes) == visit.LickDuration\n",
      "print nosepoke.Visit is visit"
     ],
     "language": "python",
     "metadata": {},
     "outputs": [
      {
       "output_type": "stream",
       "stream": "stdout",
       "text": [
        "<class 'pymice.ICNodes.NosepokeNode'>\n",
        "nosepoke to side #7 (of the cage #2)\n",
        "nosepoke duration: 0.29s (from 2012-08-28 16:34:54.350000 to 2012-08-28 16:34:54.640000)\n",
        "licks taken 1, licking time: 0.28\n",
        "True\n",
        "True\n",
        "True\n"
       ]
      }
     ],
     "prompt_number": 12
    },
    {
     "cell_type": "raw",
     "metadata": {},
     "source": [
      "There is often many data files recorded from one experiment. To merge them into one object we have to load them first into a \"Loader\" and then create an object of \"Merger\" class.\n"
     ]
    },
    {
     "cell_type": "heading",
     "level": 2,
     "metadata": {},
     "source": [
      "Combining data from multiple files."
     ]
    },
    {
     "cell_type": "code",
     "collapsed": false,
     "input": [
      "import glob\n",
      "files = glob.glob('C57_AB/*.zip')\n",
      "loaders = [pm.Loader(filename, getNp=True) for filename in files]\n",
      "mm = pm.Merger(*loaders, getNp=True)\n",
      "n = len(mm.getVisits())\n",
      "print \"Total number of visits in data: %d\" % n\n",
      "print n == sum(len(ml.getVisits()) for ml in loaders)"
     ],
     "language": "python",
     "metadata": {},
     "outputs": [
      {
       "output_type": "stream",
       "stream": "stdout",
       "text": [
        "loading data from C57_AB/2012-08-28 13.44.51.zip\n",
        "loading data from C57_AB/2012-08-28 15.33.58.zip"
       ]
      },
      {
       "output_type": "stream",
       "stream": "stdout",
       "text": [
        "\n",
        "loading data from C57_AB/2012-08-31 11.46.31.zip"
       ]
      },
      {
       "output_type": "stream",
       "stream": "stdout",
       "text": [
        "\n",
        "loading data from C57_AB/2012-08-31 11.58.22.zip\n",
        "Total number of visits in data: 41858"
       ]
      },
      {
       "output_type": "stream",
       "stream": "stdout",
       "text": [
        "\n",
        "True\n"
       ]
      }
     ],
     "prompt_number": 13
    },
    {
     "cell_type": "heading",
     "level": 2,
     "metadata": {},
     "source": [
      "Data validity tests"
     ]
    },
    {
     "cell_type": "raw",
     "metadata": {},
     "source": [
      "It is important to be sure the data we are going to analyse are valid - it is important to load log data (with \"getLog\" flag) and then analyse them with log analyser objects.\n",
      "Instances of \"LickometerLogAnalyzer\" checks log for lickometer problems while \"PresenceLogAnalyzer\" - for presence of unidentified animal. If \"logAnalysers\" parameter is not empty then it implies \"getLog\" flag is True."
     ]
    },
    {
     "cell_type": "code",
     "collapsed": false,
     "input": [
      "loaders = [pm.Loader(filename, getLog=True) for filename in files]\n",
      "logAnalyzers = [pm.LickometerLogAnalyzer(),\n",
      "                pm.PresenceLogAnalyzer(),\n",
      "                ]\n",
      "mm = pm.Merger(*loaders, logAnalyzers=logAnalyzers)"
     ],
     "language": "python",
     "metadata": {},
     "outputs": [
      {
       "output_type": "stream",
       "stream": "stdout",
       "text": [
        "loading data from C57_AB/2012-08-28 13.44.51.zip\n",
        "loading data from C57_AB/2012-08-28 15.33.58.zip\n",
        "loading data from C57_AB/2012-08-31 11.46.31.zip"
       ]
      },
      {
       "output_type": "stream",
       "stream": "stdout",
       "text": [
        "\n",
        "loading data from C57_AB/2012-08-31 11.58.22.zip\n"
       ]
      },
      {
       "output_type": "stream",
       "stream": "stderr",
       "text": [
        "/home/jkowalski/.local/lib/python2.7/site-packages/pymice/LogAnalyser.py:156: RuntimeWarning: invalid value encountered in less\n",
        "  idcs[tds < 30.] = 1\n",
        "/home/jkowalski/.local/lib/python2.7/site-packages/pymice/LogAnalyser.py:167: RuntimeWarning: invalid value encountered in greater\n",
        "  idcs[tds > 1800.] += 0.5\n"
       ]
      }
     ],
     "prompt_number": 14
    },
    {
     "cell_type": "raw",
     "metadata": {},
     "source": [
      "To check if there is no problem with data in a period of interest (POI), we use \"TestMiceData\" objects.\n",
      "We define our POI as time from first to last registration (obtained with \"getStart()\" and \"getEnd()\" methods)."
     ]
    },
    {
     "cell_type": "code",
     "collapsed": false,
     "input": [
      "start = mm.getStart()\n",
      "end = mm.getEnd()\n",
      "interval = (start, end)\n",
      "\n",
      "dtInterval = tuple(datetime.fromtimestamp(float(t)) for t in interval)\n",
      "strInterval = '(from %s to %s)' % dtInterval\n",
      "\n",
      "lickometerTester = pm.TestMiceData('Lickometer')\n",
      "presenceTester = pm.TestMiceData('Presence')\n",
      "if lickometerTester(mm, interval):\n",
      "    print \"lickometer ok \" + strInterval\n",
      "    \n",
      "else:\n",
      "    print \"lickometer problem \" + strInterval\n",
      "    \n",
      "if presenceTester(mm, interval):\n",
      "    print \"presences ok \" + strInterval\n",
      "    \n",
      "else:\n",
      "    print \"unknown mice presence problem \" + strInterval\n",
      "    "
     ],
     "language": "python",
     "metadata": {},
     "outputs": [
      {
       "output_type": "stream",
       "stream": "stdout",
       "text": [
        "lickometer problem (from 2012-08-28 14:44:52.671000 to 2012-08-28 16:33:43.500000)\n",
        "presences ok (from 2012-08-28 14:44:52.671000 to 2012-08-28 16:33:43.500000)\n"
       ]
      }
     ],
     "prompt_number": 15
    },
    {
     "cell_type": "code",
     "collapsed": false,
     "input": [],
     "language": "python",
     "metadata": {},
     "outputs": [],
     "prompt_number": 15
    }
   ],
   "metadata": {}
  }
 ]
}