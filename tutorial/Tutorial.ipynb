{
 "cells": [
  {
   "cell_type": "markdown",
   "metadata": {},
   "source": [
    "## Importing the library"
   ]
  },
  {
   "cell_type": "markdown",
   "metadata": {},
   "source": [
    "At the beginning import the library (it is assumed you have already installed it). The name \"pm\" will be assigned to the library."
   ]
  },
  {
   "cell_type": "code",
   "execution_count": 1,
   "metadata": {
    "collapsed": false
   },
   "outputs": [
    {
     "name": "stdout",
     "output_type": "stream",
     "text": [
      "This is a bleeding edge version of the PyMICE library. It might meet your\n",
      "expectations, however it might also go to your fridge, drink all the beer\n",
      "it can found there and then eat your cat. Be warned.\n",
      "\n"
     ]
    }
   ],
   "source": [
    "import pymice as pm"
   ]
  },
  {
   "cell_type": "markdown",
   "metadata": {},
   "source": [
    "## Downloading example IntelliCage data."
   ]
  },
  {
   "cell_type": "markdown",
   "metadata": {},
   "source": [
    "Before you can start the tutorial you have to download and extract training data (unless you already have done it).\n",
    "\n",
    "The library might do it for you, you can also do it by yourself by downloading a ZIP archive from: https://www.dropbox.com/s/kxgfu7fazbwvz7e/C57_AB.zip?dl=1\n",
    "and extracting to 'C57_AB' directory the follownig files:\n",
    "- 'C57_AB/2012-08-28 13.44.51.zip',\n",
    "- 'C57_AB/2012-08-28 15.33.58.zip',\n",
    "- 'C57_AB/2012-08-31 11.46.31.zip',\n",
    "- 'C57_AB/2012-08-31 11.58.22.zip',\n",
    "\n",
    "as well as extracting file 'config.ini' to your working directory."
   ]
  },
  {
   "cell_type": "code",
   "execution_count": 2,
   "metadata": {
    "collapsed": false
   },
   "outputs": [
    {
     "name": "stdout",
     "output_type": "stream",
     "text": [
      "In case the automatic download fails fetch the data manually.\n",
      "Download archive from: https://www.dropbox.com/s/kxgfu7fazbwvz7e/C57_AB.zip?dl=1\n",
      "then extract the following files:\n",
      "- C57_AB/2012-08-28 13.44.51.zip\n",
      "- C57_AB/2012-08-28 15.33.58.zip\n",
      "- C57_AB/2012-08-31 11.46.31.zip\n",
      "- C57_AB/2012-08-31 11.58.22.zip\n",
      "- config.ini\n",
      "\n",
      "\n",
      "downloading data from https://www.dropbox.com/s/kxgfu7fazbwvz7e/C57_AB.zip?dl=1\n",
      "  1% downloaded.\n",
      " 26% downloaded.\n",
      " 51% downloaded.\n",
      " 76% downloaded.\n",
      "data downloaded\n",
      "extracting file C57_AB/2012-08-28 13.44.51.zip\n",
      "extracting file C57_AB/2012-08-28 15.33.58.zip\n",
      "extracting file C57_AB/2012-08-31 11.46.31.zip\n",
      "extracting file C57_AB/2012-08-31 11.58.22.zip\n",
      "extracting file config.ini\n"
     ]
    }
   ],
   "source": [
    "pm.getTutorialData()"
   ]
  },
  {
   "cell_type": "markdown",
   "metadata": {},
   "source": [
    "## Exploring data from an IntelliCage archive."
   ]
  },
  {
   "cell_type": "markdown",
   "metadata": {},
   "source": [
    "Load data from one of files to investigate it. Check what animals has been registered in the cage."
   ]
  },
  {
   "cell_type": "code",
   "execution_count": 3,
   "metadata": {
    "collapsed": false
   },
   "outputs": [
    {
     "name": "stdout",
     "output_type": "stream",
     "text": [
      "loading data from C57_AB/2012-08-28 15.33.58.zip\n"
     ]
    },
    {
     "data": {
      "text/plain": [
       "frozenset({u'C57 A 1',\n",
       "           u'C57 A 10',\n",
       "           u'C57 A 11',\n",
       "           u'C57 A 2',\n",
       "           u'C57 A 3',\n",
       "           u'C57 A 4',\n",
       "           u'C57 A 5',\n",
       "           u'C57 A 6',\n",
       "           u'C57 A 7',\n",
       "           u'C57 A 8',\n",
       "           u'C57 A 9',\n",
       "           u'C57 B 1',\n",
       "           u'C57 B 10',\n",
       "           u'C57 B 11',\n",
       "           u'C57 B 12',\n",
       "           u'C57 B 2',\n",
       "           u'C57 B 3',\n",
       "           u'C57 B 4',\n",
       "           u'C57 B 5',\n",
       "           u'C57 B 6',\n",
       "           u'C57 B 7',\n",
       "           u'C57 B 8',\n",
       "           u'C57 B 9'})"
      ]
     },
     "execution_count": 3,
     "metadata": {},
     "output_type": "execute_result"
    }
   ],
   "source": [
    "ml = pm.Loader('C57_AB/2012-08-28 15.33.58.zip')\n",
    "ml.getAnimal()"
   ]
  },
  {
   "cell_type": "markdown",
   "metadata": {},
   "source": [
    "By getAnimal() method you can also obtain object containing basic information about particular animal."
   ]
  },
  {
   "cell_type": "code",
   "execution_count": 4,
   "metadata": {
    "collapsed": false
   },
   "outputs": [
    {
     "name": "stdout",
     "output_type": "stream",
     "text": [
      "<class 'pymice.ICNodes.AnimalNode'>\n",
      "C57 A 1\n",
      "Male\n",
      "981098104282931\n"
     ]
    }
   ],
   "source": [
    "animal = ml.getAnimal('C57 A 1')\n",
    "print type(animal)\n",
    "print animal.Name\n",
    "print animal.Sex\n",
    "print animal.Tag\n"
   ]
  },
  {
   "cell_type": "markdown",
   "metadata": {},
   "source": [
    "It is also possible to use \"shortcuts\" to access the information."
   ]
  },
  {
   "cell_type": "code",
   "execution_count": 5,
   "metadata": {
    "collapsed": false
   },
   "outputs": [
    {
     "name": "stdout",
     "output_type": "stream",
     "text": [
      "Animal C57 A 1(Male; Tag: 981098104282931)\n",
      "C57 A 1\n",
      "True\n"
     ]
    }
   ],
   "source": [
    "print repr(animal)\n",
    "print unicode(animal)\n",
    "print unicode(animal) == animal.Name"
   ]
  },
  {
   "cell_type": "markdown",
   "metadata": {},
   "source": [
    "Animals are housed in cages and with \"getCage()\" method you can check in which cage(s) the animal was detected.\n",
    "The cage object is guaranted to be convertable to an integer.  \n",
    "You can also check (with \"getInmates()\" method) which mice were housed in the cage."
   ]
  },
  {
   "cell_type": "code",
   "execution_count": 6,
   "metadata": {
    "collapsed": false
   },
   "outputs": [
    {
     "name": "stdout",
     "output_type": "stream",
     "text": [
      "2\n",
      "\n",
      "Mice housed in cage #2:\n",
      "C57 A 1\n",
      "C57 A 6\n",
      "C57 A 7\n",
      "C57 A 10\n",
      "C57 A 8\n",
      "C57 A 9\n",
      "C57 A 2\n",
      "C57 A 3\n",
      "C57 A 4\n",
      "C57 A 5\n",
      "C57 A 11\n"
     ]
    }
   ],
   "source": [
    "cage = ml.getCage(animal.Name)\n",
    "print int(cage)\n",
    "print\n",
    "print \"Mice housed in cage #%d:\" % cage\n",
    "mice = ml.getInmates(cage)\n",
    "for mouse in mice:\n",
    "    print mouse"
   ]
  },
  {
   "cell_type": "markdown",
   "metadata": {},
   "source": [
    "The method (getInmates()) can be also used to list available cages."
   ]
  },
  {
   "cell_type": "code",
   "execution_count": 7,
   "metadata": {
    "collapsed": false
   },
   "outputs": [
    {
     "name": "stdout",
     "output_type": "stream",
     "text": [
      "frozenset([1, 2])\n"
     ]
    }
   ],
   "source": [
    "print ml.getInmates()"
   ]
  },
  {
   "cell_type": "markdown",
   "metadata": {},
   "source": [
    "Animals might be also assigned to certain groups. To list them (as well to obtaing object containing information about a particular group), use the \"getGroup()\" method.\n"
   ]
  },
  {
   "cell_type": "code",
   "execution_count": 8,
   "metadata": {
    "collapsed": false
   },
   "outputs": [
    {
     "name": "stdout",
     "output_type": "stream",
     "text": [
      "frozenset(['C57 B', 'C57 A'])\n",
      "Animals of group C57 A:\n",
      "Animal C57 A 1(Male; Tag: 981098104282931)\n",
      "Animal C57 A 2(Male; Tag: 981098104281654)\n",
      "Animal C57 A 3(Male; Tag: 981098104282989)\n",
      "Animal C57 A 4(Male; Tag: 981098104282431)\n",
      "Animal C57 A 5(Male; Tag: 981098104282496)\n",
      "Animal C57 A 6(Male; Tag: 981098104281799)\n",
      "Animal C57 A 7(Male; Tag: 981098104282860)\n",
      "Animal C57 A 8(Male; Tag: 981098104282884)\n",
      "Animal C57 A 9(Male; Tag: 981098104282669)\n",
      "Animal C57 A 10(Male; Tag: 981098104281067)\n",
      "Animal C57 A 11(Male; Tag: 981098104282249)\n"
     ]
    }
   ],
   "source": [
    "print ml.getGroup()\n",
    "group = ml.getGroup('C57 A')\n",
    "print \"Animals of group %s:\" % group.Name\n",
    "for mouse in group.Animals:\n",
    "    print repr(mouse)"
   ]
  },
  {
   "cell_type": "markdown",
   "metadata": {},
   "source": [
    "But what the most interesting piece of data are visits of animals."
   ]
  },
  {
   "cell_type": "code",
   "execution_count": 9,
   "metadata": {
    "collapsed": false
   },
   "outputs": [
    {
     "name": "stdout",
     "output_type": "stream",
     "text": [
      "<type 'list'> 7562\n",
      "<class 'pymice.ICNodes.VisitNode'>\n"
     ]
    }
   ],
   "source": [
    "visits = ml.getVisits()\n",
    "print type(visits), len(visits)\n",
    "visit = visits[0]\n",
    "print type(visit)"
   ]
  },
  {
   "cell_type": "markdown",
   "metadata": {},
   "source": [
    "Every visit object contains information about one visit to a corner.\n",
    "\n",
    "\"Animal\" attribute is an AnimalNode object you are already familiar with.\n",
    "\n",
    "\"Cage\" and \"Corner\" attributes are guaranted to be convertable to int.\n",
    "\n",
    "Attributes \"Start\" and \"End\" of the visit object are datatime.datatime objects while the \"Duration\" attribute is a datatime.timedelta object."
   ]
  },
  {
   "cell_type": "code",
   "execution_count": 10,
   "metadata": {
    "collapsed": false
   },
   "outputs": [
    {
     "name": "stdout",
     "output_type": "stream",
     "text": [
      "visit of C57 A 7 in cage #2 to corner #3\n",
      "visit duration: 8.88s (from 2012-08-28 15:34:14.140000+02:00 to 2012-08-28 15:34:23.015000+02:00)\n"
     ]
    }
   ],
   "source": [
    "print \"visit of %s in cage #%d to corner #%d\" % (visit.Animal, visit.Cage, visit.Corner)\n",
    "\n",
    "from datetime import datetime\n",
    "vStart = visit.Start\n",
    "vEnd = visit.End\n",
    "print \"visit duration: %.2fs (from %s to %s)\" % (visit.Duration.total_seconds(), vStart, vEnd)"
   ]
  },
  {
   "cell_type": "markdown",
   "metadata": {},
   "source": [
    "## Exploring nosepoke data"
   ]
  },
  {
   "cell_type": "code",
   "execution_count": 11,
   "metadata": {
    "collapsed": false
   },
   "outputs": [
    {
     "name": "stdout",
     "output_type": "stream",
     "text": [
      "<type 'tuple'> 3\n"
     ]
    }
   ],
   "source": [
    "visits = ml.getVisits(order=('Start', 'End'))\n",
    "visit = visits[4]\n",
    "print type(visit.Nosepokes), len(visit.Nosepokes)"
   ]
  },
  {
   "cell_type": "markdown",
   "metadata": {},
   "source": [
    "The \"order\" attribute of \"getVisits()\" method has been provided to have the visits sorted that the sixty fourth visit (of index 4) has more than one nosepoke associated with it and at least one lick to the bottle.\n",
    "\n",
    "\"Start\", \"End\" and \"Duration\" attributes are analogous to those of the visit node. \"Side\" attribute is guaranted to be convertable to an integer. \"Visit\" attribute is the same visit object the nosepoke is assigned to."
   ]
  },
  {
   "cell_type": "code",
   "execution_count": 12,
   "metadata": {
    "collapsed": false
   },
   "outputs": [
    {
     "name": "stdout",
     "output_type": "stream",
     "text": [
      "<class 'pymice.ICNodes.NosepokeNode'>\n",
      "nosepoke to side #7 (of the cage #2)\n",
      "nosepoke duration: 0:00:00.290000 (from 2012-08-28 15:34:54.350000+02:00 to 2012-08-28 15:34:54.640000+02:00)\n",
      "licks taken 1, licking time: 0.28\n",
      "True\n",
      "True\n",
      "True\n"
     ]
    }
   ],
   "source": [
    "visit = visits[4]\n",
    "nosepoke = visit.Nosepokes[1]\n",
    "print type(nosepoke)\n",
    "\n",
    "print \"nosepoke to side #%d (of the cage #%d)\" % (nosepoke.Side, nosepoke.Visit.Cage)\n",
    "print \"nosepoke duration: %s (from %s to %s)\" % (nosepoke.Duration, nosepoke.Start, nosepoke.End)\n",
    "print \"licks taken %d, licking time: %.2f\" % (nosepoke.LickNumber, nosepoke.LickDuration)\n",
    "print sum(n.LickNumber for n in visit.Nosepokes) == visit.LickNumber\n",
    "print sum(n.LickDuration for n in visit.Nosepokes) == visit.LickDuration\n",
    "print nosepoke.Visit is visit"
   ]
  },
  {
   "cell_type": "markdown",
   "metadata": {},
   "source": [
    "There is often many data files recorded from one experiment. To merge them into one object you have to load them first into a \"Loader\" and then create an object of \"Merger\" class.\n"
   ]
  },
  {
   "cell_type": "markdown",
   "metadata": {},
   "source": [
    "## Combining data from multiple files."
   ]
  },
  {
   "cell_type": "code",
   "execution_count": 13,
   "metadata": {
    "collapsed": false
   },
   "outputs": [
    {
     "name": "stdout",
     "output_type": "stream",
     "text": [
      "loading data from C57_AB/2012-08-28 13.44.51.zip\n",
      "loading data from C57_AB/2012-08-28 15.33.58.zip\n",
      "loading data from C57_AB/2012-08-31 11.46.31.zip\n",
      "loading data from C57_AB/2012-08-31 11.58.22.zip\n",
      "Total number of visits in data: 41858\n",
      "True\n"
     ]
    }
   ],
   "source": [
    "import glob\n",
    "files = glob.glob('C57_AB/*.zip')\n",
    "loaders = [pm.Loader(filename) for filename in files]\n",
    "mm = pm.Merger(*loaders)\n",
    "n = len(mm.getVisits())\n",
    "print \"Total number of visits in data: %d\" % n\n",
    "print n == sum(len(ml.getVisits()) for ml in loaders)"
   ]
  },
  {
   "cell_type": "markdown",
   "metadata": {},
   "source": [
    "## Customising loaded data"
   ]
  },
  {
   "cell_type": "markdown",
   "metadata": {},
   "source": [
    "In order to speed up the loading process you might disable loading of nosepoke data (if they are not necessary) by setting getNp option to False."
   ]
  },
  {
   "cell_type": "code",
   "execution_count": 14,
   "metadata": {
    "collapsed": false
   },
   "outputs": [
    {
     "name": "stdout",
     "output_type": "stream",
     "text": [
      "loading data from C57_AB/2012-08-28 15.33.58.zip\n",
      "None\n"
     ]
    }
   ],
   "source": [
    "ml = pm.Loader('C57_AB/2012-08-28 15.33.58.zip', getNp=False)\n",
    "visits = ml.getVisits(order=('Start', 'End'))\n",
    "visit = visits[4]\n",
    "print visit.Nosepokes"
   ]
  },
  {
   "cell_type": "markdown",
   "metadata": {},
   "source": [
    "No log, environment nor hardware events data are loaded unless the loader is explicitely told to do so."
   ]
  },
  {
   "cell_type": "code",
   "execution_count": 15,
   "metadata": {
    "collapsed": false
   },
   "outputs": [
    {
     "name": "stdout",
     "output_type": "stream",
     "text": [
      "[]\n",
      "[]\n",
      "[]\n",
      "loading data from C57_AB/2012-08-28 15.33.58.zip\n",
      "1220\n",
      "12273\n",
      "177\n"
     ]
    }
   ],
   "source": [
    "print ml.getLog()\n",
    "print ml.getEnvironment()\n",
    "print ml.getHardwareEvents()\n",
    "ml = pm.Loader('C57_AB/2012-08-28 15.33.58.zip', getLog=True, getHw=True, getEnv=True)\n",
    "print len(ml.getLog())\n",
    "print len(ml.getEnvironment())\n",
    "print len(ml.getHardwareEvents())"
   ]
  },
  {
   "cell_type": "markdown",
   "metadata": {},
   "source": [
    "## Data validity tests"
   ]
  },
  {
   "cell_type": "markdown",
   "metadata": {},
   "source": [
    "It is important to be sure the data you are going to analyse are valid - it is important to load log data (with \"getLog\" flag) and then analyse them with log analyser objects.\n",
    "\n",
    "Instances of \"LickometerLogAnalyzer\" checks log for lickometer problems while \"PresenceLogAnalyzer\" - for presence of unidentified animal. If \"logAnalysers\" parameter is not empty then it implies \"getLog\" flag is True."
   ]
  },
  {
   "cell_type": "code",
   "execution_count": 16,
   "metadata": {
    "collapsed": false
   },
   "outputs": [
    {
     "name": "stdout",
     "output_type": "stream",
     "text": [
      "loading data from C57_AB/2012-08-28 13.44.51.zip\n",
      "loading data from C57_AB/2012-08-28 15.33.58.zip\n",
      "loading data from C57_AB/2012-08-31 11.46.31.zip\n",
      "loading data from C57_AB/2012-08-31 11.58.22.zip\n"
     ]
    }
   ],
   "source": [
    "loaders = [pm.Loader(filename, getLog=True) for filename in files]\n",
    "logAnalyzers = [pm.LickometerLogAnalyzer(),\n",
    "                pm.PresenceLogAnalyzer(),\n",
    "                ]\n",
    "mm = pm.Merger(*loaders, logAnalyzers=logAnalyzers)"
   ]
  },
  {
   "cell_type": "markdown",
   "metadata": {},
   "source": [
    "To check if there is no problem with data in a period of interest (POI), you can use \"TestMiceData\" objects.\n",
    "\n",
    "The POI in the example is defined as a period from first to last registration (obtained with \"getStart()\" and \"getEnd()\" methods)."
   ]
  },
  {
   "cell_type": "code",
   "execution_count": 17,
   "metadata": {
    "collapsed": false
   },
   "outputs": [
    {
     "name": "stdout",
     "output_type": "stream",
     "text": [
      "lickometer problem (from 2012-08-28 13:44:52.671000+02:00 to 2012-09-13 13:35:34.390000+02:00)\n",
      "presences ok (from 2012-08-28 13:44:52.671000+02:00 to 2012-09-13 13:35:34.390000+02:00)\n"
     ]
    }
   ],
   "source": [
    "start = mm.getStart()\n",
    "end = mm.getEnd()\n",
    "interval = (start, end)\n",
    "\n",
    "strInterval = '(from %s to %s)' % interval\n",
    "\n",
    "lickometerTester = pm.TestMiceData('Lickometer')\n",
    "presenceTester = pm.TestMiceData('Presence')\n",
    "if lickometerTester(mm, interval):\n",
    "    print \"lickometer ok \" + strInterval\n",
    "    \n",
    "else:\n",
    "    print \"lickometer problem \" + strInterval\n",
    "    \n",
    "if presenceTester(mm, interval):\n",
    "    print \"presences ok \" + strInterval\n",
    "    \n",
    "else:\n",
    "    print \"unknown mice presence problem \" + strInterval\n",
    "    "
   ]
  }
 ],
 "metadata": {
  "kernelspec": {
   "display_name": "Python 2",
   "language": "python",
   "name": "python2"
  },
  "language_info": {
   "codemirror_mode": {
    "name": "ipython",
    "version": 2
   },
   "file_extension": ".py",
   "mimetype": "text/x-python",
   "name": "python",
   "nbconvert_exporter": "python",
   "pygments_lexer": "ipython2",
   "version": "2.7.10"
  }
 },
 "nbformat": 4,
 "nbformat_minor": 0
}
