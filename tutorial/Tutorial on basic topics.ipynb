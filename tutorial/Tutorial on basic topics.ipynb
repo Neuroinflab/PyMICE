{
 "cells": [
  {
   "cell_type": "markdown",
   "metadata": {},
   "source": [
    "# Tutorial on basic topics"
   ]
  },
  {
   "cell_type": "markdown",
   "metadata": {},
   "source": [
    "## Importing the library\n",
    "At the beginning import the library (it is assumed you have already installed it - see https://neuroinflab.wordpress.com/research/pymice/ for details). The name _`pm`_ will be assigned to the library."
   ]
  },
  {
   "cell_type": "code",
   "execution_count": 1,
   "metadata": {
    "collapsed": false
   },
   "outputs": [
    {
     "name": "stdout",
     "output_type": "stream",
     "text": [
      "This is a bleeding edge version of the PyMICE library. It might meet your\n",
      "expectations, however it might also go to your fridge, drink all the beer\n",
      "it can find there and then eat your cat. Be warned.\n",
      "\n"
     ]
    }
   ],
   "source": [
    "import pymice as pm"
   ]
  },
  {
   "cell_type": "markdown",
   "metadata": {},
   "source": [
    "## Downloading example IntelliCage data.\n",
    "Before you can start the tutorial you have to download and extract training data (unless you already have done it).\n",
    "\n",
    "The library might do it for you (after you call _`getTutorialData()`_ function), you can also do it by yourself by downloading a ZIP archive from: https://www.dropbox.com/s/0o5faojp14llalm/C57_AB.zip?dl=1\n",
    "and extracting to 'C57_AB' directory the follownig files:\n",
    "- 'C57_AB/2012-08-28 13.44.51.zip',\n",
    "- 'C57_AB/2012-08-28 15.33.58.zip',\n",
    "- 'C57_AB/2012-08-31 11.46.31.zip',\n",
    "- 'C57_AB/2012-08-31 11.58.22.zip'.\n",
    "It is also recommended to extract 'C57_AB/timeline.ini' necessary for more advanced tutorials."
   ]
  },
  {
   "cell_type": "code",
   "execution_count": 2,
   "metadata": {
    "collapsed": false
   },
   "outputs": [
    {
     "name": "stdout",
     "output_type": "stream",
     "text": [
      "In case the automatic download fails fetch the data manually.\n",
      "Download archive from: https://www.dropbox.com/s/0o5faojp14llalm/C57_AB.zip?dl=1\n",
      "then extract the following files:\n",
      "- C57_AB/2012-08-28 13.44.51.zip\n",
      "- C57_AB/2012-08-28 15.33.58.zip\n",
      "- C57_AB/2012-08-31 11.46.31.zip\n",
      "- C57_AB/2012-08-31 11.58.22.zip\n",
      "- C57_AB/timeline.ini\n",
      "\n",
      "\n",
      "downloading data from https://www.dropbox.com/s/0o5faojp14llalm/C57_AB.zip?dl=1\n",
      "  1% downloaded.\n",
      " 26% downloaded.\n",
      " 51% downloaded.\n",
      " 76% downloaded.\n",
      "data downloaded\n",
      "extracting file C57_AB/2012-08-28 13.44.51.zip\n",
      "extracting file C57_AB/2012-08-28 15.33.58.zip\n",
      "extracting file C57_AB/2012-08-31 11.46.31.zip\n",
      "extracting file C57_AB/2012-08-31 11.58.22.zip\n",
      "extracting file C57_AB/timeline.ini\n"
     ]
    }
   ],
   "source": [
    "pm.getTutorialData()"
   ]
  },
  {
   "cell_type": "markdown",
   "metadata": {},
   "source": [
    "## Exploring data from an IntelliCage archive.\n",
    "At the beginning load data from one of files to investigate it."
   ]
  },
  {
   "cell_type": "code",
   "execution_count": 3,
   "metadata": {
    "collapsed": false
   },
   "outputs": [
    {
     "name": "stdout",
     "output_type": "stream",
     "text": [
      "loading data from C57_AB/2012-08-28 15.33.58.zip\n"
     ]
    }
   ],
   "source": [
    "ml = pm.Loader('C57_AB/2012-08-28 15.33.58.zip')"
   ]
  },
  {
   "cell_type": "markdown",
   "metadata": {},
   "source": [
    "### Animals\n",
    "#### Registered animals\n",
    "Use _`.getAnimal()`_ method to obtain names of all animals registered in the system."
   ]
  },
  {
   "cell_type": "code",
   "execution_count": 4,
   "metadata": {
    "collapsed": false
   },
   "outputs": [
    {
     "name": "stdout",
     "output_type": "stream",
     "text": [
      "C57 B 10\n",
      "C57 B 11\n",
      "C57 B 12\n",
      "C57 B 6\n",
      "C57 B 7\n",
      "C57 B 4\n",
      "C57 B 5\n",
      "C57 B 2\n",
      "C57 A 8\n",
      "C57 B 1\n",
      "C57 A 5\n",
      "C57 A 4\n",
      "C57 A 7\n",
      "C57 A 6\n",
      "C57 A 1\n",
      "C57 A 3\n",
      "C57 A 2\n",
      "C57 A 11\n",
      "C57 A 10\n",
      "C57 B 8\n",
      "C57 A 9\n",
      "C57 B 9\n",
      "C57 B 3\n"
     ]
    }
   ],
   "source": [
    "for animal in ml.getAnimal():\n",
    "    print animal"
   ]
  },
  {
   "cell_type": "markdown",
   "metadata": {},
   "source": [
    "#### Animal objects\n",
    "With the method you can also obtain an _`AnimalNode`_ object containing basic information about a particular animal."
   ]
  },
  {
   "cell_type": "code",
   "execution_count": 5,
   "metadata": {
    "collapsed": false
   },
   "outputs": [
    {
     "name": "stdout",
     "output_type": "stream",
     "text": [
      "<class 'pymice.ICNodes.AnimalNode'>\n",
      "C57 A 1\n",
      "Male\n",
      "981098104282931\n"
     ]
    }
   ],
   "source": [
    "animal = ml.getAnimal('C57 A 1')\n",
    "print type(animal)\n",
    "print animal.Name\n",
    "print animal.Sex\n",
    "print animal.Tag\n"
   ]
  },
  {
   "cell_type": "markdown",
   "metadata": {},
   "source": [
    "#### Text representation of animal objects\n",
    "It is also possible to use \"shortcuts\" to access the information."
   ]
  },
  {
   "cell_type": "code",
   "execution_count": 6,
   "metadata": {
    "collapsed": false
   },
   "outputs": [
    {
     "name": "stdout",
     "output_type": "stream",
     "text": [
      "Animal C57 A 1(Male; Tag: 981098104282931)\n",
      "C57 A 1\n",
      "True\n"
     ]
    }
   ],
   "source": [
    "print repr(animal)\n",
    "print unicode(animal)\n",
    "print unicode(animal) == animal.Name"
   ]
  },
  {
   "cell_type": "markdown",
   "metadata": {},
   "source": [
    "### Cages\n",
    "#### Animals and cages\n",
    "Animals are housed in cages and with _`.getCage()`_ method you can check in which cage(s) the animal was detected.\n",
    "The cage object is guaranted to be convertable to an integer.  \n",
    "You can also check (with _`.getInmates()`_ method) which mice were housed in the cage."
   ]
  },
  {
   "cell_type": "code",
   "execution_count": 7,
   "metadata": {
    "collapsed": false
   },
   "outputs": [
    {
     "name": "stdout",
     "output_type": "stream",
     "text": [
      "2\n",
      "\n",
      "Mice housed in cage #2:\n",
      "C57 A 9\n",
      "C57 A 2\n",
      "C57 A 3\n",
      "C57 A 7\n",
      "C57 A 4\n",
      "C57 A 5\n",
      "C57 A 6\n",
      "C57 A 11\n",
      "C57 A 1\n",
      "C57 A 8\n",
      "C57 A 10\n"
     ]
    }
   ],
   "source": [
    "cage = ml.getCage(animal.Name)\n",
    "print int(cage)\n",
    "print\n",
    "print \"Mice housed in cage #%d:\" % cage\n",
    "mice = ml.getInmates(cage)\n",
    "for mouse in mice:\n",
    "    print mouse"
   ]
  },
  {
   "cell_type": "markdown",
   "metadata": {},
   "source": [
    "#### Available cages\n",
    "The method (_`.getInmates()`_) can be also used to list available cages."
   ]
  },
  {
   "cell_type": "code",
   "execution_count": 8,
   "metadata": {
    "collapsed": false
   },
   "outputs": [
    {
     "name": "stdout",
     "output_type": "stream",
     "text": [
      "frozenset([1, 2])\n"
     ]
    }
   ],
   "source": [
    "print ml.getInmates()"
   ]
  },
  {
   "cell_type": "markdown",
   "metadata": {},
   "source": [
    "### Animal groups\n",
    "Animals might be also assigned to certain groups. To list them (as well to obtaing object containing information about a particular group), use the _`.getGroup()`_ method.\n"
   ]
  },
  {
   "cell_type": "code",
   "execution_count": 9,
   "metadata": {
    "collapsed": false
   },
   "outputs": [
    {
     "name": "stdout",
     "output_type": "stream",
     "text": [
      "frozenset(['C57 B', 'C57 A'])\n",
      "Animals of group C57 A:\n",
      "Animal C57 A 1(Male; Tag: 981098104282931)\n",
      "Animal C57 A 2(Male; Tag: 981098104281654)\n",
      "Animal C57 A 3(Male; Tag: 981098104282989)\n",
      "Animal C57 A 4(Male; Tag: 981098104282431)\n",
      "Animal C57 A 5(Male; Tag: 981098104282496)\n",
      "Animal C57 A 6(Male; Tag: 981098104281799)\n",
      "Animal C57 A 7(Male; Tag: 981098104282860)\n",
      "Animal C57 A 8(Male; Tag: 981098104282884)\n",
      "Animal C57 A 9(Male; Tag: 981098104282669)\n",
      "Animal C57 A 10(Male; Tag: 981098104281067)\n",
      "Animal C57 A 11(Male; Tag: 981098104282249)\n"
     ]
    }
   ],
   "source": [
    "print ml.getGroup()\n",
    "group = ml.getGroup('C57 A')\n",
    "print \"Animals of group %s:\" % group.Name\n",
    "for mouse in group.Animals:\n",
    "    print repr(mouse)"
   ]
  },
  {
   "cell_type": "markdown",
   "metadata": {},
   "source": [
    "### Visits\n",
    "#### Obtaining visit objects\n",
    "The most interesting piece of data are visits performed by animals. You can obtain list of all available visits with _`.getVisits()`_ method.\n",
    "\n",
    "**WARNING: The visits might be in a random order!**\n",
    "\n",
    "For details on selecting a subset of available visits and on ordering the visits see _\"Tutorial on advanced topics\"_"
   ]
  },
  {
   "cell_type": "code",
   "execution_count": 10,
   "metadata": {
    "collapsed": false
   },
   "outputs": [
    {
     "name": "stdout",
     "output_type": "stream",
     "text": [
      "<type 'list'> 7562\n",
      "<class 'pymice.ICNodes.VisitNode'>\n"
     ]
    }
   ],
   "source": [
    "visits = ml.getVisits()\n",
    "print type(visits), len(visits)\n",
    "visit = visits[0]\n",
    "print type(visit)"
   ]
  },
  {
   "cell_type": "markdown",
   "metadata": {},
   "source": [
    "#### Visit object\n",
    "Every visit object contains information about one visit to a corner.\n",
    "\n",
    "_`.Animal`_ attribute is an _`AnimalNode`_ object you are already familiar with.\n",
    "\n",
    "_`.Cage`_ and _`.Corner`_ attributes are guaranted to be convertable to _`int`_.\n",
    "\n",
    "Attributes _`.Start`_ and _`.End`_ of the visit object are _`datatime.datatime`_ objects while the _`.Duration`_ attribute is a _`datatime.timedelta`_ object."
   ]
  },
  {
   "cell_type": "code",
   "execution_count": 11,
   "metadata": {
    "collapsed": false
   },
   "outputs": [
    {
     "name": "stdout",
     "output_type": "stream",
     "text": [
      "visit of C57 A 7 in cage #2 to corner #3\n",
      "visit duration: 8.88s (from 2012-08-28 15:34:14.140000+02:00 to 2012-08-28 15:34:23.015000+02:00)\n"
     ]
    }
   ],
   "source": [
    "print \"visit of %s in cage #%d to corner #%d\" % (visit.Animal, visit.Cage, visit.Corner)\n",
    "\n",
    "vStart = visit.Start\n",
    "vEnd = visit.End\n",
    "print \"visit duration: %.2fs (from %s to %s)\" % (visit.Duration.total_seconds(), vStart, vEnd)"
   ]
  },
  {
   "cell_type": "markdown",
   "metadata": {},
   "source": [
    "## Exploring nosepoke data\n",
    "If the noseopke data are loaded (see _\"Tutorial on advanced topics\"_ for details), a visit object has _`Nosepoke`_ attribute containing tuple of objects representing nosepoke events.\n",
    "\n",
    "**WARNING: The nosepokes might be in a random order.**\n",
    "\n",
    "The _`order`_ parameter of _`.getVisits()`_ method is there **solely for technical purposes of the tutorial** - it enforces the order of visits so the fifth one (of index 4) is always the same."
   ]
  },
  {
   "cell_type": "code",
   "execution_count": 12,
   "metadata": {
    "collapsed": false
   },
   "outputs": [
    {
     "name": "stdout",
     "output_type": "stream",
     "text": [
      "<type 'tuple'> 3\n"
     ]
    }
   ],
   "source": [
    "visits = ml.getVisits(order=('Start', 'End'))\n",
    "visit = visits[4]\n",
    "print type(visit.Nosepokes), len(visit.Nosepokes)"
   ]
  },
  {
   "cell_type": "markdown",
   "metadata": {},
   "source": [
    "_`.Start`_, _`.End`_ and _`.Duration`_ attributes of a nosepoke object are analogous to those of the visit object. _`.Side`_ attribute is guaranted to be convertable to _`int`_. The _`.Visit`_ attribute is the same visit object the nosepoke is assigned to."
   ]
  },
  {
   "cell_type": "code",
   "execution_count": 13,
   "metadata": {
    "collapsed": false
   },
   "outputs": [
    {
     "name": "stdout",
     "output_type": "stream",
     "text": [
      "<class 'pymice.ICNodes.NosepokeNode'>\n",
      "nosepoke to side #7 (of the cage #2)\n",
      "nosepoke duration: 0:00:00.290000 (from 2012-08-28 15:34:54.350000+02:00 to 2012-08-28 15:34:54.640000+02:00)\n",
      "licks taken 1, licking time: 0.28\n",
      "True\n",
      "True\n",
      "True\n"
     ]
    }
   ],
   "source": [
    "visit = visits[4]\n",
    "nosepoke = visit.Nosepokes[1]\n",
    "print type(nosepoke)\n",
    "\n",
    "print \"nosepoke to side #%d (of the cage #%d)\" % (nosepoke.Side, nosepoke.Visit.Cage)\n",
    "print \"nosepoke duration: %s (from %s to %s)\" % (nosepoke.Duration, nosepoke.Start, nosepoke.End)\n",
    "print \"licks taken %d, licking time: %.2f\" % (nosepoke.LickNumber, nosepoke.LickDuration)\n",
    "print sum(n.LickNumber for n in visit.Nosepokes) == visit.LickNumber\n",
    "print sum(n.LickDuration for n in visit.Nosepokes) == visit.LickDuration\n",
    "print nosepoke.Visit is visit"
   ]
  },
  {
   "cell_type": "markdown",
   "metadata": {},
   "source": [
    "## Combining data from multiple sources\n",
    "There is often many data files recorded from one experiment. To merge them into one object you have to load them first into a _`Loader`_ and then create an object of _`Merger`_ class.\n",
    "\n",
    "To obtain list of files matching 'C57\\_AB/*.zip' pattern you might use the [_`glob`_ module of The Python Standard Library](https://docs.python.org/2/library/glob.html)."
   ]
  },
  {
   "cell_type": "code",
   "execution_count": 14,
   "metadata": {
    "collapsed": false
   },
   "outputs": [
    {
     "name": "stdout",
     "output_type": "stream",
     "text": [
      "loading data from C57_AB/2012-08-28 13.44.51.zip\n",
      "loading data from C57_AB/2012-08-28 15.33.58.zip\n",
      "loading data from C57_AB/2012-08-31 11.46.31.zip\n",
      "loading data from C57_AB/2012-08-31 11.58.22.zip\n",
      "Total number of visits in data: 41858\n",
      "True\n"
     ]
    }
   ],
   "source": [
    "import glob\n",
    "dataFiles = glob.glob('C57_AB/*.zip')\n",
    "\n",
    "loaders = [pm.Loader(filename) for filename in dataFiles]\n",
    "mm = pm.Merger(*loaders)\n",
    "n = len(mm.getVisits())\n",
    "print \"Total number of visits in data: %d\" % n\n",
    "print n == sum(len(ml.getVisits()) for ml in loaders)"
   ]
  }
 ],
 "metadata": {
  "kernelspec": {
   "display_name": "Python 2",
   "language": "python",
   "name": "python2"
  },
  "language_info": {
   "codemirror_mode": {
    "name": "ipython",
    "version": 2
   },
   "file_extension": ".py",
   "mimetype": "text/x-python",
   "name": "python",
   "nbconvert_exporter": "python",
   "pygments_lexer": "ipython2",
   "version": "2.7.10"
  }
 },
 "nbformat": 4,
 "nbformat_minor": 0
}
