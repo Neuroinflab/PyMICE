{
 "metadata": {
  "name": ""
 },
 "nbformat": 3,
 "nbformat_minor": 0,
 "worksheets": [
  {
   "cells": [
    {
     "cell_type": "raw",
     "metadata": {},
     "source": [
      "Firstly we download the experimental data (if necessary) and load them into the memory. See Tutorial for details."
     ]
    },
    {
     "cell_type": "code",
     "collapsed": false,
     "input": [
      "!if (test ! -d C57_AB) then (wget https://www.dropbox.com/s/kxgfu7fazbwvz7e/C57_AB.zip?dl=0 -O C57_AB.zip && unzip -u C57_AB.zip) fi\n",
      "!ls -l C57_AB\n",
      "import glob\n",
      "import pymice as pm\n",
      "\n",
      "files = glob.glob('C57_AB/*.zip')\n",
      "loaders = [pm.Loader(filename, getLog=True) for filename in files]\n",
      "logAnalyzers = [pm.LickometerLogAnalyzer(), pm.PresenceLogAnalyzer(),]\n",
      "mm = pm.Merger(*loaders, logAnalyzers=logAnalyzers)"
     ],
     "language": "python",
     "metadata": {},
     "outputs": [
      {
       "output_type": "stream",
       "stream": "stdout",
       "text": [
        "total 4336\r\n",
        "-rw-r--r-- 1 jkowalski prneuroinf   86480 Mar 25 23:35 2012-08-28 13.44.51.zip\r\n",
        "-rw-r--r-- 1 jkowalski prneuroinf  494921 Mar 25 23:36 2012-08-28 15.33.58.zip\r\n",
        "-rw-r--r-- 1 jkowalski prneuroinf   29344 Mar 25 23:37 2012-08-31 11.46.31.zip\r\n",
        "-rw-r--r-- 1 jkowalski prneuroinf 3818445 Mar 25 23:41 2012-08-31 11.58.22.zip\r\n"
       ]
      },
      {
       "output_type": "stream",
       "stream": "stdout",
       "text": [
        "loading data from C57_AB/2012-08-28 13.44.51.zip\n",
        "loading data from C57_AB/2012-08-28 15.33.58.zip\n",
        "loading data from C57_AB/2012-08-31 11.46.31.zip"
       ]
      },
      {
       "output_type": "stream",
       "stream": "stdout",
       "text": [
        "\n",
        "loading data from C57_AB/2012-08-31 11.58.22.zip\n"
       ]
      },
      {
       "output_type": "stream",
       "stream": "stderr",
       "text": [
        "/home/jkowalski/.local/lib/python2.7/site-packages/pymice/LogAnalyser.py:156: RuntimeWarning: invalid value encountered in less\n",
        "  idcs[tds < 30.] = 1\n",
        "/home/jkowalski/.local/lib/python2.7/site-packages/pymice/LogAnalyser.py:167: RuntimeWarning: invalid value encountered in greater\n",
        "  idcs[tds > 1800.] += 0.5\n"
       ]
      }
     ],
     "prompt_number": 1
    },
    {
     "cell_type": "raw",
     "metadata": {},
     "source": [
      "The experiment had several phases, which we have to load into \"ExperimentConfigFile\" object (inherits from both \"ConfigParser.RawConfigParser\" class of python standard library and \"matplotlib.ticker.Formatter\" class of matplotlib).\n",
      "The constructor takes a path to the config file directory as its first argument and the config file itself as the second (optional)).\n",
      "\n",
      "The \"getTime()\" method of the object will return a tuple of timestamps (convertable to float) indicating borders of the "
     ]
    },
    {
     "cell_type": "code",
     "collapsed": false,
     "input": [
      "ec = pm.ExperimentConfigFile('', 'config.txt')\n",
      "\n",
      "from datetime import datetime\n",
      "for phase in ec.sections():\n",
      "    start, end = ec.getTime(phase)\n",
      "    print \"%s: %s - %s)\" % (phase,\n",
      "                           datetime.fromtimestamp(float(start)),\n",
      "                           datetime.fromtimestamp(float(end)))"
     ],
     "language": "python",
     "metadata": {},
     "outputs": [
      {
       "output_type": "stream",
       "stream": "stdout",
       "text": [
        "SA 1 dark: 2012-08-28 14:00:00 - 2012-08-29 02:00:00)\n",
        "SA 1 light: 2012-08-29 02:00:00 - 2012-08-29 14:00:00)\n",
        "SA 2 dark: 2012-08-29 14:00:00 - 2012-08-30 02:00:00)\n",
        "SA 2 light: 2012-08-30 02:00:00 - 2012-08-30 14:00:00)\n",
        "SA 3 dark: 2012-08-30 14:00:00 - 2012-08-31 02:00:00)\n",
        "SA 3 light: 2012-08-31 02:00:00 - 2012-08-31 14:00:00)\n",
        "SA 4 dark: 2012-08-31 14:00:00 - 2012-09-01 02:00:00)\n",
        "SA 4 light: 2012-09-01 02:00:00 - 2012-09-01 14:00:00)\n",
        "SA 5 dark: 2012-09-01 14:00:00 - 2012-09-02 02:00:00)\n",
        "SA 5 light: 2012-09-02 02:00:00 - 2012-09-02 14:00:00)\n",
        "NPA 1 dark: 2012-09-02 14:00:00 - 2012-09-03 02:00:00)\n",
        "NPA 1 light: 2012-09-03 02:00:00 - 2012-09-03 14:00:00)\n",
        "NPA 2 dark: 2012-09-03 14:00:00 - 2012-09-04 02:00:00)\n",
        "NPA 2 light: 2012-09-04 02:00:00 - 2012-09-04 14:00:00)\n",
        "Place Pref 1 dark: 2012-09-04 14:00:00 - 2012-09-05 02:00:00)\n",
        "Place Pref 1 light: 2012-09-05 02:00:00 - 2012-09-05 14:00:00)\n",
        "Place Pref 2 dark: 2012-09-05 14:00:00 - 2012-09-06 02:00:00)\n",
        "Place Pref 2 light: 2012-09-06 02:00:00 - 2012-09-06 14:00:00)\n",
        "Place Pref 3 dark: 2012-09-06 14:00:00 - 2012-09-07 02:00:00)\n",
        "Place Pref 3 light: 2012-09-07 02:00:00 - 2012-09-07 14:00:00)\n",
        "Rev Learning 1 dark: 2012-09-07 14:00:00 - 2012-09-08 02:00:00)\n",
        "Rev Learning 1 light: 2012-09-08 02:00:00 - 2012-09-08 14:00:00)\n",
        "Rev Learning 2 dark: 2012-09-08 14:00:00 - 2012-09-09 02:00:00)\n",
        "Rev Learning 2 light: 2012-09-09 02:00:00 - 2012-09-09 14:00:00)\n",
        "Rev Learning 3 dark: 2012-09-09 14:00:00 - 2012-09-10 02:00:00)\n",
        "Rev Learning 3 light: 2012-09-10 02:00:00 - 2012-09-10 14:00:00)\n",
        "Extinction 1 dark: 2012-09-10 14:00:00 - 2012-09-11 02:00:00)\n",
        "Extinction 1 light: 2012-09-11 02:00:00 - 2012-09-11 14:00:00)\n",
        "Extinction 2 dark: 2012-09-11 14:00:00 - 2012-09-12 02:00:00)\n",
        "Extinction 2 light: 2012-09-12 02:00:00 - 2012-09-12 14:00:00)\n",
        "Extinction 3 dark: 2012-09-12 14:00:00 - 2012-09-13 02:00:00)\n",
        "Extinction 3 light: 2012-09-13 02:00:00 - 2012-09-13 14:00:00)\n"
       ]
      }
     ],
     "prompt_number": 2
    },
    {
     "cell_type": "code",
     "collapsed": false,
     "input": [],
     "language": "python",
     "metadata": {},
     "outputs": []
    }
   ],
   "metadata": {}
  }
 ]
}