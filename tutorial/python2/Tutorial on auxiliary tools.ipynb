{
 "cells": [
  {
   "cell_type": "code",
   "execution_count": null,
   "metadata": {
    "collapsed": true
   },
   "outputs": [],
   "source": [
    "from pymice._Ens import Ens"
   ]
  },
  {
   "cell_type": "code",
   "execution_count": null,
   "metadata": {
    "collapsed": false
   },
   "outputs": [],
   "source": [
    "ens = Ens(a=12, b='foo')\n",
    "print ens\n",
    "print ens.a\n",
    "print ens['b']\n",
    "print ens.c\n",
    "print ens['c']"
   ]
  },
  {
   "cell_type": "code",
   "execution_count": null,
   "metadata": {
    "collapsed": false
   },
   "outputs": [],
   "source": [
    "try:\n",
    "    ens.c = 13\n",
    "    \n",
    "except Ens.ReadOnlyError as e:\n",
    "    print 'ReadOnlyError on setting attribute'"
   ]
  },
  {
   "cell_type": "code",
   "execution_count": null,
   "metadata": {
    "collapsed": false
   },
   "outputs": [],
   "source": [
    "try:\n",
    "    del ens.a\n",
    "    \n",
    "except Ens.ReadOnlyError as e:\n",
    "    print 'ReadOnlyError on deleting attribute'"
   ]
  },
  {
   "cell_type": "code",
   "execution_count": null,
   "metadata": {
    "collapsed": false
   },
   "outputs": [],
   "source": [
    "d = {'a': 12, 'b': 13}\n",
    "print Ens(d)"
   ]
  },
  {
   "cell_type": "code",
   "execution_count": null,
   "metadata": {
    "collapsed": false
   },
   "outputs": [],
   "source": [
    "ens2 = Ens(c=42, d=1337)\n",
    "print Ens(ens, ens2)"
   ]
  },
  {
   "cell_type": "code",
   "execution_count": null,
   "metadata": {
    "collapsed": false
   },
   "outputs": [],
   "source": [
    "print Ens(ens, c=18)"
   ]
  },
  {
   "cell_type": "code",
   "execution_count": null,
   "metadata": {
    "collapsed": false
   },
   "outputs": [],
   "source": [
    "for key in ens:\n",
    "    print '{}: {}'.format(key, ens[key])"
   ]
  },
  {
   "cell_type": "code",
   "execution_count": null,
   "metadata": {
    "collapsed": false
   },
   "outputs": [],
   "source": [
    "import pymice as pm\n",
    "\n",
    "pm.getTutorialData(fetch='FVB')\n",
    "data = pm.Loader('FVB/2016-07-20 10.11.11.zip')"
   ]
  },
  {
   "cell_type": "code",
   "execution_count": null,
   "metadata": {
    "collapsed": false
   },
   "outputs": [],
   "source": [
    "from pymice._Tools import groupBy"
   ]
  },
  {
   "cell_type": "code",
   "execution_count": null,
   "metadata": {
    "collapsed": false
   },
   "outputs": [],
   "source": [
    "visits = data.getVisits(order='Start')\n",
    "\n",
    "visitsByCorner = groupBy(visits, 'Corner')\n",
    "print visitsByCorner.keys()\n",
    "for corner in sorted(visitsByCorner):\n",
    "    print 'First 3 visits to corner #{}:'.format(corner)\n",
    "    for visit in visitsByCorner[corner][:3]:\n",
    "        print ' * Visit of {0.Animal} (at {0.Start})'.format(visit)"
   ]
  },
  {
   "cell_type": "code",
   "execution_count": null,
   "metadata": {
    "collapsed": false
   },
   "outputs": [],
   "source": [
    "def printStats(groupedVisits):\n",
    "    for corner, cornerVisits in sorted(groupedVisits.items()):\n",
    "        print '{}:\\t{} visits'.format(corner, len(cornerVisits))\n",
    "        \n",
    "printStats(groupBy(visits, 'CornerCondition'))"
   ]
  },
  {
   "cell_type": "code",
   "execution_count": null,
   "metadata": {
    "collapsed": false
   },
   "outputs": [],
   "source": [
    "def cornerType(visit):\n",
    "    if visit.CornerCondition > 0:\n",
    "        return 'correct'\n",
    "    if visit.CornerCondition == 0:\n",
    "        return 'neutral'\n",
    "    return 'incorrect'\n",
    "\n",
    "printStats(groupBy(visits,\n",
    "                   cornerType))\n"
   ]
  },
  {
   "cell_type": "code",
   "execution_count": null,
   "metadata": {
    "collapsed": false
   },
   "outputs": [],
   "source": [
    "printStats(groupBy(visitsByCorner[1],\n",
    "                   cornerType,\n",
    "                   requiredKeys=['correct',\n",
    "                                 'neutral',\n",
    "                                 'incorrect']))"
   ]
  },
  {
   "cell_type": "code",
   "execution_count": null,
   "metadata": {
    "collapsed": false
   },
   "outputs": [],
   "source": [
    "numberOfVisits = Ens.map(len,\n",
    "                         groupBy(visits,\n",
    "                                 cornerType))\n",
    "print numberOfVisits"
   ]
  },
  {
   "cell_type": "code",
   "execution_count": null,
   "metadata": {
    "collapsed": false
   },
   "outputs": [],
   "source": [
    "def analysis(visits):\n",
    "    return Ens.map(len,\n",
    "                   groupBy(visits,\n",
    "                           cornerType,\n",
    "                           requiredKeys=['correct',\n",
    "                                         'neutral',\n",
    "                                         'incorrect']))\n",
    "\n",
    "def shortNameOfVisitingAnimal(visit):\n",
    "    return 'animal_{}'.format(int(visit.Animal.Name[-2:]))\n",
    "    \n",
    "visitStats = Ens.map(analysis,\n",
    "                     groupBy(visits,\n",
    "                             shortNameOfVisitingAnimal))\n",
    "\n",
    "print visitStats.animal_1.correct\n",
    "print visitStats.animal_1.incorrect"
   ]
  },
  {
   "cell_type": "code",
   "execution_count": null,
   "metadata": {
    "collapsed": true
   },
   "outputs": [],
   "source": []
  }
 ],
 "metadata": {
  "kernelspec": {
   "display_name": "Python 2",
   "language": "python",
   "name": "python2"
  },
  "language_info": {
   "codemirror_mode": {
    "name": "ipython",
    "version": 2
   },
   "file_extension": ".py",
   "mimetype": "text/x-python",
   "name": "python",
   "nbconvert_exporter": "python",
   "pygments_lexer": "ipython2",
   "version": "2.7.12"
  }
 },
 "nbformat": 4,
 "nbformat_minor": 0
}
